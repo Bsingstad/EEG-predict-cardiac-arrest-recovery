{
  "nbformat": 4,
  "nbformat_minor": 0,
  "metadata": {
    "colab": {
      "provenance": []
    },
    "kernelspec": {
      "name": "python3",
      "display_name": "Python 3"
    },
    "language_info": {
      "name": "python"
    }
  },
  "cells": [
    {
      "cell_type": "code",
      "execution_count": 1,
      "metadata": {
        "colab": {
          "base_uri": "https://localhost:8080/"
        },
        "id": "q7rpHQfvpZyg",
        "outputId": "fe9d0f06-b2cf-4a44-dbd3-7165297d51bd"
      },
      "outputs": [
        {
          "output_type": "stream",
          "name": "stdout",
          "text": [
            "Looking in indexes: https://pypi.org/simple, https://us-python.pkg.dev/colab-wheels/public/simple/\n",
            "Collecting wget\n",
            "  Downloading wget-3.2.zip (10 kB)\n",
            "  Preparing metadata (setup.py) ... \u001b[?25l\u001b[?25hdone\n",
            "Collecting wfdb\n",
            "  Downloading wfdb-4.1.0-py3-none-any.whl (159 kB)\n",
            "\u001b[2K     \u001b[90m━━━━━━━━━━━━━━━━━━━━━━━━━━━━━━━━━━━━━━━\u001b[0m \u001b[32m159.9/159.9 KB\u001b[0m \u001b[31m3.2 MB/s\u001b[0m eta \u001b[36m0:00:00\u001b[0m\n",
            "\u001b[?25hCollecting neurokit2\n",
            "  Downloading neurokit2-0.2.3-py2.py3-none-any.whl (1.2 MB)\n",
            "\u001b[2K     \u001b[90m━━━━━━━━━━━━━━━━━━━━━━━━━━━━━━━━━━━━━━━━\u001b[0m \u001b[32m1.2/1.2 MB\u001b[0m \u001b[31m26.0 MB/s\u001b[0m eta \u001b[36m0:00:00\u001b[0m\n",
            "\u001b[?25hCollecting SoundFile<0.12.0,>=0.10.0\n",
            "  Downloading soundfile-0.11.0-py2.py3-none-any.whl (23 kB)\n",
            "Requirement already satisfied: requests<3.0.0,>=2.8.1 in /usr/local/lib/python3.8/dist-packages (from wfdb) (2.25.1)\n",
            "Requirement already satisfied: pandas<2.0.0,>=1.0.0 in /usr/local/lib/python3.8/dist-packages (from wfdb) (1.3.5)\n",
            "Requirement already satisfied: matplotlib<4.0.0,>=3.2.2 in /usr/local/lib/python3.8/dist-packages (from wfdb) (3.5.3)\n",
            "Requirement already satisfied: scipy<2.0.0,>=1.0.0 in /usr/local/lib/python3.8/dist-packages (from wfdb) (1.10.1)\n",
            "Requirement already satisfied: numpy<2.0.0,>=1.10.1 in /usr/local/lib/python3.8/dist-packages (from wfdb) (1.22.4)\n",
            "Requirement already satisfied: scikit-learn>=1.0.0 in /usr/local/lib/python3.8/dist-packages (from neurokit2) (1.2.1)\n",
            "Requirement already satisfied: fonttools>=4.22.0 in /usr/local/lib/python3.8/dist-packages (from matplotlib<4.0.0,>=3.2.2->wfdb) (4.38.0)\n",
            "Requirement already satisfied: pyparsing>=2.2.1 in /usr/local/lib/python3.8/dist-packages (from matplotlib<4.0.0,>=3.2.2->wfdb) (3.0.9)\n",
            "Requirement already satisfied: kiwisolver>=1.0.1 in /usr/local/lib/python3.8/dist-packages (from matplotlib<4.0.0,>=3.2.2->wfdb) (1.4.4)\n",
            "Requirement already satisfied: python-dateutil>=2.7 in /usr/local/lib/python3.8/dist-packages (from matplotlib<4.0.0,>=3.2.2->wfdb) (2.8.2)\n",
            "Requirement already satisfied: pillow>=6.2.0 in /usr/local/lib/python3.8/dist-packages (from matplotlib<4.0.0,>=3.2.2->wfdb) (8.4.0)\n",
            "Requirement already satisfied: cycler>=0.10 in /usr/local/lib/python3.8/dist-packages (from matplotlib<4.0.0,>=3.2.2->wfdb) (0.11.0)\n",
            "Requirement already satisfied: packaging>=20.0 in /usr/local/lib/python3.8/dist-packages (from matplotlib<4.0.0,>=3.2.2->wfdb) (23.0)\n",
            "Requirement already satisfied: pytz>=2017.3 in /usr/local/lib/python3.8/dist-packages (from pandas<2.0.0,>=1.0.0->wfdb) (2022.7.1)\n",
            "Requirement already satisfied: chardet<5,>=3.0.2 in /usr/local/lib/python3.8/dist-packages (from requests<3.0.0,>=2.8.1->wfdb) (4.0.0)\n",
            "Requirement already satisfied: idna<3,>=2.5 in /usr/local/lib/python3.8/dist-packages (from requests<3.0.0,>=2.8.1->wfdb) (2.10)\n",
            "Requirement already satisfied: certifi>=2017.4.17 in /usr/local/lib/python3.8/dist-packages (from requests<3.0.0,>=2.8.1->wfdb) (2022.12.7)\n",
            "Requirement already satisfied: urllib3<1.27,>=1.21.1 in /usr/local/lib/python3.8/dist-packages (from requests<3.0.0,>=2.8.1->wfdb) (1.26.14)\n",
            "Requirement already satisfied: joblib>=1.1.1 in /usr/local/lib/python3.8/dist-packages (from scikit-learn>=1.0.0->neurokit2) (1.2.0)\n",
            "Requirement already satisfied: threadpoolctl>=2.0.0 in /usr/local/lib/python3.8/dist-packages (from scikit-learn>=1.0.0->neurokit2) (3.1.0)\n",
            "Requirement already satisfied: cffi>=1.0 in /usr/local/lib/python3.8/dist-packages (from SoundFile<0.12.0,>=0.10.0->wfdb) (1.15.1)\n",
            "Requirement already satisfied: pycparser in /usr/local/lib/python3.8/dist-packages (from cffi>=1.0->SoundFile<0.12.0,>=0.10.0->wfdb) (2.21)\n",
            "Requirement already satisfied: six>=1.5 in /usr/local/lib/python3.8/dist-packages (from python-dateutil>=2.7->matplotlib<4.0.0,>=3.2.2->wfdb) (1.15.0)\n",
            "Building wheels for collected packages: wget\n",
            "  Building wheel for wget (setup.py) ... \u001b[?25l\u001b[?25hdone\n",
            "  Created wheel for wget: filename=wget-3.2-py3-none-any.whl size=9674 sha256=1ec8e87f063a394f4b6c2077edc11942471c67b6a82322529c5f5ec39f0db286\n",
            "  Stored in directory: /root/.cache/pip/wheels/bd/a8/c3/3cf2c14a1837a4e04bd98631724e81f33f462d86a1d895fae0\n",
            "Successfully built wget\n",
            "Installing collected packages: wget, SoundFile, wfdb, neurokit2\n",
            "  Attempting uninstall: SoundFile\n",
            "    Found existing installation: soundfile 0.12.1\n",
            "    Uninstalling soundfile-0.12.1:\n",
            "      Successfully uninstalled soundfile-0.12.1\n",
            "Successfully installed SoundFile-0.11.0 neurokit2-0.2.3 wfdb-4.1.0 wget-3.2\n"
          ]
        }
      ],
      "source": [
        "!pip install wget wfdb neurokit2"
      ]
    },
    {
      "cell_type": "code",
      "source": [
        "!mkdir -p ~/.kaggle\n",
        "!cp kaggle.json ~/.kaggle/\n",
        "!ls ~/.kaggle\n",
        "!chmod 600 /root/.kaggle/kaggle.json'"
      ],
      "metadata": {
        "colab": {
          "base_uri": "https://localhost:8080/"
        },
        "id": "_ZJuKV5Hpb0U",
        "outputId": "d60a1132-66d1-420b-e6fd-8683361e1aa2"
      },
      "execution_count": 3,
      "outputs": [
        {
          "output_type": "stream",
          "name": "stdout",
          "text": [
            "kaggle.json\n",
            "/bin/bash: -c: line 0: unexpected EOF while looking for matching `''\n",
            "/bin/bash: -c: line 1: syntax error: unexpected end of file\n"
          ]
        }
      ]
    },
    {
      "cell_type": "code",
      "source": [
        "!kaggle datasets download -d bjoernjostein/george-moody-2023-complete-dataset"
      ],
      "metadata": {
        "colab": {
          "base_uri": "https://localhost:8080/"
        },
        "id": "NYqWe-76pgJt",
        "outputId": "a5b04150-d241-4975-90c4-718ddfae1082"
      },
      "execution_count": 4,
      "outputs": [
        {
          "output_type": "stream",
          "name": "stdout",
          "text": [
            "Warning: Your Kaggle API key is readable by other users on this system! To fix this, you can run 'chmod 600 /root/.kaggle/kaggle.json'\n",
            "Downloading george-moody-2023-complete-dataset.zip to /content\n",
            "100% 17.4G/17.4G [02:14<00:00, 139MB/s]\n",
            "100% 17.4G/17.4G [02:14<00:00, 139MB/s]\n"
          ]
        }
      ]
    },
    {
      "cell_type": "code",
      "source": [
        "import os\n",
        "import zipfile\n",
        "import numpy as np\n",
        "import pandas as pd\n",
        "import matplotlib.pyplot as plt\n",
        "import seaborn as sns"
      ],
      "metadata": {
        "id": "quSp-rnhvG4T"
      },
      "execution_count": 57,
      "outputs": []
    },
    {
      "cell_type": "code",
      "source": [
        "dir_name = \"./\"\n",
        "extension = \".zip\"\n",
        " \n",
        "os.chdir(dir_name) # change directory from working dir to dir with files\n",
        "\n",
        "for item in os.listdir(dir_name): # loop through items in dir\n",
        "    if item.endswith(extension): # check for \".zip\" extension\n",
        "        file_name = os.path.abspath(item) # get full path of files\n",
        "        zip_ref = zipfile.ZipFile(file_name) # create zipfile object\n",
        "        zip_ref.extractall(dir_name) # extract file to dir\n",
        "        zip_ref.close() # close file\n",
        "        os.remove(file_name) # delete zipped file"
      ],
      "metadata": {
        "id": "vqRW-kx0psaC"
      },
      "execution_count": 5,
      "outputs": []
    },
    {
      "cell_type": "code",
      "source": [
        "os.rename(\"./i-care-international-cardiac-arrest-research-consortium-database-1.0/\", \"./data/\")"
      ],
      "metadata": {
        "id": "JRYZpH94sfXi"
      },
      "execution_count": 9,
      "outputs": []
    },
    {
      "cell_type": "code",
      "source": [
        "print(\"Total number of patients in training set: \", len(os.listdir(\"./data/training/\")))"
      ],
      "metadata": {
        "colab": {
          "base_uri": "https://localhost:8080/"
        },
        "id": "QRLlceEzs05E",
        "outputId": "80843c5b-8be0-4ef8-c7e4-7ac49aaf7961"
      },
      "execution_count": 14,
      "outputs": [
        {
          "output_type": "stream",
          "name": "stdout",
          "text": [
            "Total number of patients in training set:  607\n"
          ]
        }
      ]
    },
    {
      "cell_type": "code",
      "source": [
        "cnt = 0\n",
        "for root, dirs, files in os.walk(\"./data/training/\"):\n",
        "   for name in files:\n",
        "      if os.path.join(root, name).endswith(\".mat\"):\n",
        "        cnt +=1\n",
        "print(\"Total number of recordings: \", cnt)"
      ],
      "metadata": {
        "colab": {
          "base_uri": "https://localhost:8080/"
        },
        "id": "VLXy_3q2tUZI",
        "outputId": "437747b9-ecbc-4748-de01-53a294578ba4"
      },
      "execution_count": 18,
      "outputs": [
        {
          "output_type": "stream",
          "name": "stdout",
          "text": [
            "Total number of recordings:  23528\n"
          ]
        }
      ]
    },
    {
      "cell_type": "code",
      "source": [
        "num_rec = []\n",
        "for root, dirs, files in os.walk(\"./data/training/\"):\n",
        "   for name in files:\n",
        "      if os.path.join(root, name).endswith(\".mat\"):\n",
        "        num_rec.append(os.path.join(root, name).split(\"/\")[-2])\n",
        "num_rec = np.asarray(num_rec)\n",
        "_, num_rec_pr_pat = np.unique(num_rec, return_counts=True)"
      ],
      "metadata": {
        "id": "aailmzUcuRCe"
      },
      "execution_count": 54,
      "outputs": []
    },
    {
      "cell_type": "code",
      "source": [
        "num_rec.shape"
      ],
      "metadata": {
        "colab": {
          "base_uri": "https://localhost:8080/"
        },
        "id": "Fg7W0Y-mxn9j",
        "outputId": "ebf79fab-a05d-485f-b532-828c3c7c28a4"
      },
      "execution_count": 55,
      "outputs": [
        {
          "output_type": "execute_result",
          "data": {
            "text/plain": [
              "(23528,)"
            ]
          },
          "metadata": {},
          "execution_count": 55
        }
      ]
    },
    {
      "cell_type": "code",
      "source": [
        "plt.hist(num_rec_pr_pat, bins=30)\n",
        "plt.xlabel(\"Number of recordings\")\n",
        "plt.ylabel(\"Number of patients\")\n",
        "plt.title(\"Number of recordings among the patients\")\n",
        "plt.show()"
      ],
      "metadata": {
        "colab": {
          "base_uri": "https://localhost:8080/",
          "height": 295
        },
        "id": "9Qsqffe-ub6U",
        "outputId": "3cd6c465-46b9-4843-f6eb-606c5acc9f56"
      },
      "execution_count": 56,
      "outputs": [
        {
          "output_type": "display_data",
          "data": {
            "text/plain": [
              "<Figure size 432x288 with 1 Axes>"
            ],
            "image/png": "[encoded data removed]"
          },
          "metadata": {
            "needs_background": "light"
          }
        }
      ]
    },
    {
      "cell_type": "code",
      "source": [
        "df = 0\n",
        "cnt = 0\n",
        "for root, dirs, files in os.walk(\"./data/training/\"):\n",
        "   for name in files:\n",
        "      if os.path.join(root, name).endswith(\".tsv\"):\n",
        "        df_temp = pd.read_csv(os.path.join(root, name), sep=\"\\t\").dropna()\n",
        "        if cnt == 0:\n",
        "          df = df_temp\n",
        "        else:\n",
        "          df = pd.concat([df,df_temp])\n",
        "        cnt+=1"
      ],
      "metadata": {
        "id": "YLE3HSRzv6QE"
      },
      "execution_count": 50,
      "outputs": []
    },
    {
      "cell_type": "code",
      "source": [
        "df.head()"
      ],
      "metadata": {
        "colab": {
          "base_uri": "https://localhost:8080/",
          "height": 206
        },
        "id": "3gV58SCbyQl3",
        "outputId": "8ed5e4db-0ad6-4e3a-c04e-dca1d0b84e04"
      },
      "execution_count": 61,
      "outputs": [
        {
          "output_type": "execute_result",
          "data": {
            "text/plain": [
              "    Hour   Time  Quality         Record\n",
              "34    35  34:55      1.0  ICARE_0829_35\n",
              "35    36  35:55      1.0  ICARE_0829_36\n",
              "36    37  36:55      1.0  ICARE_0829_37\n",
              "37    38  37:35      1.0  ICARE_0829_38\n",
              "38    39  38:55      1.0  ICARE_0829_39"
            ],
            "text/html": [
              "\n",
              "  <div id=\"df-6589dfd2-bcc7-4424-b20d-3952a17521bd\">\n",
              "    <div class=\"colab-df-container\">\n",
              "      <div>\n",
              "<style scoped>\n",
              "    .dataframe tbody tr th:only-of-type {\n",
              "        vertical-align: middle;\n",
              "    }\n",
              "\n",
              "    .dataframe tbody tr th {\n",
              "        vertical-align: top;\n",
              "    }\n",
              "\n",
              "    .dataframe thead th {\n",
              "        text-align: right;\n",
              "    }\n",
              "</style>\n",
              "<table border=\"1\" class=\"dataframe\">\n",
              "  <thead>\n",
              "    <tr style=\"text-align: right;\">\n",
              "      <th></th>\n",
              "      <th>Hour</th>\n",
              "      <th>Time</th>\n",
              "      <th>Quality</th>\n",
              "      <th>Record</th>\n",
              "    </tr>\n",
              "  </thead>\n",
              "  <tbody>\n",
              "    <tr>\n",
              "      <th>34</th>\n",
              "      <td>35</td>\n",
              "      <td>34:55</td>\n",
              "      <td>1.0</td>\n",
              "      <td>ICARE_0829_35</td>\n",
              "    </tr>\n",
              "    <tr>\n",
              "      <th>35</th>\n",
              "      <td>36</td>\n",
              "      <td>35:55</td>\n",
              "      <td>1.0</td>\n",
              "      <td>ICARE_0829_36</td>\n",
              "    </tr>\n",
              "    <tr>\n",
              "      <th>36</th>\n",
              "      <td>37</td>\n",
              "      <td>36:55</td>\n",
              "      <td>1.0</td>\n",
              "      <td>ICARE_0829_37</td>\n",
              "    </tr>\n",
              "    <tr>\n",
              "      <th>37</th>\n",
              "      <td>38</td>\n",
              "      <td>37:35</td>\n",
              "      <td>1.0</td>\n",
              "      <td>ICARE_0829_38</td>\n",
              "    </tr>\n",
              "    <tr>\n",
              "      <th>38</th>\n",
              "      <td>39</td>\n",
              "      <td>38:55</td>\n",
              "      <td>1.0</td>\n",
              "      <td>ICARE_0829_39</td>\n",
              "    </tr>\n",
              "  </tbody>\n",
              "</table>\n",
              "</div>\n",
              "      <button class=\"colab-df-convert\" onclick=\"convertToInteractive('df-6589dfd2-bcc7-4424-b20d-3952a17521bd')\"\n",
              "              title=\"Convert this dataframe to an interactive table.\"\n",
              "              style=\"display:none;\">\n",
              "        \n",
              "  <svg xmlns=\"http://www.w3.org/2000/svg\" height=\"24px\"viewBox=\"0 0 24 24\"\n",
              "       width=\"24px\">\n",
              "    <path d=\"M0 0h24v24H0V0z\" fill=\"none\"/>\n",
              "    <path d=\"M18.56 5.44l.94 2.06.94-2.06 2.06-.94-2.06-.94-.94-2.06-.94 2.06-2.06.94zm-11 1L8.5 8.5l.94-2.06 2.06-.94-2.06-.94L8.5 2.5l-.94 2.06-2.06.94zm10 10l.94 2.06.94-2.06 2.06-.94-2.06-.94-.94-2.06-.94 2.06-2.06.94z\"/><path d=\"M17.41 7.96l-1.37-1.37c-.4-.4-.92-.59-1.43-.59-.52 0-1.04.2-1.43.59L10.3 9.45l-7.72 7.72c-.78.78-.78 2.05 0 2.83L4 21.41c.39.39.9.59 1.41.59.51 0 1.02-.2 1.41-.59l7.78-7.78 2.81-2.81c.8-.78.8-2.07 0-2.86zM5.41 20L4 18.59l7.72-7.72 1.47 1.35L5.41 20z\"/>\n",
              "  </svg>\n",
              "      </button>\n",
              "      \n",
              "  <style>\n",
              "    .colab-df-container {\n",
              "      display:flex;\n",
              "      flex-wrap:wrap;\n",
              "      gap: 12px;\n",
              "    }\n",
              "\n",
              "    .colab-df-convert {\n",
              "      background-color: #E8F0FE;\n",
              "      border: none;\n",
              "      border-radius: 50%;\n",
              "      cursor: pointer;\n",
              "      display: none;\n",
              "      fill: #1967D2;\n",
              "      height: 32px;\n",
              "      padding: 0 0 0 0;\n",
              "      width: 32px;\n",
              "    }\n",
              "\n",
              "    .colab-df-convert:hover {\n",
              "      background-color: #E2EBFA;\n",
              "      box-shadow: 0px 1px 2px rgba(60, 64, 67, 0.3), 0px 1px 3px 1px rgba(60, 64, 67, 0.15);\n",
              "      fill: #174EA6;\n",
              "    }\n",
              "\n",
              "    [theme=dark] .colab-df-convert {\n",
              "      background-color: #3B4455;\n",
              "      fill: #D2E3FC;\n",
              "    }\n",
              "\n",
              "    [theme=dark] .colab-df-convert:hover {\n",
              "      background-color: #434B5C;\n",
              "      box-shadow: 0px 1px 3px 1px rgba(0, 0, 0, 0.15);\n",
              "      filter: drop-shadow(0px 1px 2px rgba(0, 0, 0, 0.3));\n",
              "      fill: #FFFFFF;\n",
              "    }\n",
              "  </style>\n",
              "\n",
              "      <script>\n",
              "        const buttonEl =\n",
              "          document.querySelector('#df-6589dfd2-bcc7-4424-b20d-3952a17521bd button.colab-df-convert');\n",
              "        buttonEl.style.display =\n",
              "          google.colab.kernel.accessAllowed ? 'block' : 'none';\n",
              "\n",
              "        async function convertToInteractive(key) {\n",
              "          const element = document.querySelector('#df-6589dfd2-bcc7-4424-b20d-3952a17521bd');\n",
              "          const dataTable =\n",
              "            await google.colab.kernel.invokeFunction('convertToInteractive',\n",
              "                                                     [key], {});\n",
              "          if (!dataTable) return;\n",
              "\n",
              "          const docLinkHtml = 'Like what you see? Visit the ' +\n",
              "            '<a target=\"_blank\" href=https://colab.research.google.com/notebooks/data_table.ipynb>data table notebook</a>'\n",
              "            + ' to learn more about interactive tables.';\n",
              "          element.innerHTML = '';\n",
              "          dataTable['output_type'] = 'display_data';\n",
              "          await google.colab.output.renderOutput(dataTable, element);\n",
              "          const docLink = document.createElement('div');\n",
              "          docLink.innerHTML = docLinkHtml;\n",
              "          element.appendChild(docLink);\n",
              "        }\n",
              "      </script>\n",
              "    </div>\n",
              "  </div>\n",
              "  "
            ]
          },
          "metadata": {},
          "execution_count": 61
        }
      ]
    },
    {
      "cell_type": "code",
      "source": [
        "df[\"Quality\"]"
      ],
      "metadata": {
        "colab": {
          "base_uri": "https://localhost:8080/"
        },
        "id": "RFYTaLchyMQp",
        "outputId": "553d18d0-b10e-4b3f-9ce8-79bd229c54e8"
      },
      "execution_count": 62,
      "outputs": [
        {
          "output_type": "execute_result",
          "data": {
            "text/plain": [
              "34    1.000\n",
              "35    1.000\n",
              "36    1.000\n",
              "37    1.000\n",
              "38    1.000\n",
              "      ...  \n",
              "57    1.000\n",
              "58    1.000\n",
              "59    1.000\n",
              "60    1.000\n",
              "61    0.983\n",
              "Name: Quality, Length: 23528, dtype: float64"
            ]
          },
          "metadata": {},
          "execution_count": 62
        }
      ]
    },
    {
      "cell_type": "code",
      "source": [
        "plt.hist(df[\"Quality\"], bins=100)\n",
        "plt.xlabel(\"Recording quality\")\n",
        "plt.ylabel(\"Number of recordings\")\n",
        "plt.title(\"Quality among the recordings\")\n",
        "plt.show()"
      ],
      "metadata": {
        "colab": {
          "base_uri": "https://localhost:8080/",
          "height": 295
        },
        "id": "0kbOXKG8yIrR",
        "outputId": "5098ed86-f3e3-4eff-b025-7dfb4e0878f1"
      },
      "execution_count": 64,
      "outputs": [
        {
          "output_type": "display_data",
          "data": {
            "text/plain": [
              "<Figure size 432x288 with 1 Axes>"
            ],
            "image/png": "[encoded data removed]"
          },
          "metadata": {
            "needs_background": "light"
          }
        }
      ]
    },
    {
      "cell_type": "code",
      "source": [
        "print(\"Number of signals with quality equal to 1.0 = \", np.where(df[\"Quality\"] == 1.0)[0].shape[0])\n",
        "print(\"Percent of total signal with quality equal to 1.0 = \", round((np.where(df[\"Quality\"] == 1.0)[0].shape[0]/df.shape[0])*100,2))"
      ],
      "metadata": {
        "colab": {
          "base_uri": "https://localhost:8080/"
        },
        "id": "FsemxGaqyovT",
        "outputId": "7c7206b5-30f8-437c-b13a-a5106f3fcbb4"
      },
      "execution_count": 80,
      "outputs": [
        {
          "output_type": "stream",
          "name": "stdout",
          "text": [
            "Number of signals with quality equal to 1.0 =  18235\n",
            "Percent of total signal with quality equal to 1.0 =  77.5\n"
          ]
        }
      ]
    },
    {
      "cell_type": "code",
      "source": [
        "print(\"Number of signals with quality less than 1.0 = \", np.where(df[\"Quality\"] != 1.0)[0].shape[0])\n",
        "print(\"Percent of total signal with quality less than 1.0 = \", round((np.where(df[\"Quality\"] != 1.0)[0].shape[0]/df.shape[0])*100,2))"
      ],
      "metadata": {
        "colab": {
          "base_uri": "https://localhost:8080/"
        },
        "id": "geTMwdOFywD_",
        "outputId": "24bf896a-95df-4d4d-ef7a-485c631ab987"
      },
      "execution_count": 81,
      "outputs": [
        {
          "output_type": "stream",
          "name": "stdout",
          "text": [
            "Number of signals with quality less than 1.0 =  5293\n",
            "Percent of total signal with quality less than 1.0 =  22.5\n"
          ]
        }
      ]
    },
    {
      "cell_type": "code",
      "source": [
        "print(\"Number of signals with quality less than 0.75 = \", np.where(df[\"Quality\"] < 0.75)[0].shape[0])\n",
        "print(\"Percent of total signal with quality less than 0.75 = \", round((np.where(df[\"Quality\"] < 0.75)[0].shape[0]/df.shape[0])*100,2))"
      ],
      "metadata": {
        "colab": {
          "base_uri": "https://localhost:8080/"
        },
        "id": "8BQl2hb8yCV-",
        "outputId": "8e03cb78-b882-4780-a051-51dd8dc1681c"
      },
      "execution_count": 84,
      "outputs": [
        {
          "output_type": "stream",
          "name": "stdout",
          "text": [
            "Number of signals with quality less than 0.75 =  2338\n",
            "Percent of total signal with quality less than 0.75 =  9.94\n"
          ]
        }
      ]
    },
    {
      "cell_type": "code",
      "source": [
        "print(\"Number of signals with quality less than 0.5 = \", np.where(df[\"Quality\"] < 0.5)[0].shape[0])\n",
        "print(\"Percent of total signal with quality less than 0.5 = \", round((np.where(df[\"Quality\"] < 0.5)[0].shape[0]/df.shape[0])*100,2))"
      ],
      "metadata": {
        "colab": {
          "base_uri": "https://localhost:8080/"
        },
        "id": "F6len2Zkxjw8",
        "outputId": "62f29ed7-d55d-4ed5-ba7b-22c299b3bdee"
      },
      "execution_count": 85,
      "outputs": [
        {
          "output_type": "stream",
          "name": "stdout",
          "text": [
            "Number of signals with quality less than 0.5 =  1756\n",
            "Percent of total signal with quality less than 0.5 =  7.46\n"
          ]
        }
      ]
    },
    {
      "cell_type": "code",
      "source": [
        "print(\"Number of signals with quality less than 0.25 = \", np.where(df[\"Quality\"] < 0.25)[0].shape[0])\n",
        "print(\"Percent of total signal with quality less than 0.25 = \", round((np.where(df[\"Quality\"] < 0.25)[0].shape[0]/df.shape[0])*100,2))"
      ],
      "metadata": {
        "colab": {
          "base_uri": "https://localhost:8080/"
        },
        "id": "KD9kumxPxBaM",
        "outputId": "97e0c284-31a0-44af-e761-7428379cd2ea"
      },
      "execution_count": 86,
      "outputs": [
        {
          "output_type": "stream",
          "name": "stdout",
          "text": [
            "Number of signals with quality less than 0.25 =  1069\n",
            "Percent of total signal with quality less than 0.25 =  4.54\n"
          ]
        }
      ]
    },
    {
      "cell_type": "code",
      "source": [
        "df[\"Record\"]"
      ],
      "metadata": {
        "id": "wgPgl_dP1FDY"
      },
      "execution_count": null,
      "outputs": []
    },
    {
      "cell_type": "code",
      "source": [
        "df[\"Patient\"]"
      ],
      "metadata": {
        "colab": {
          "base_uri": "https://localhost:8080/",
          "height": 424
        },
        "id": "7ySnIfEM0_xO",
        "outputId": "ab18df80-51bd-4e07-89ba-cc7623494176"
      },
      "execution_count": 96,
      "outputs": [
        {
          "output_type": "execute_result",
          "data": {
            "text/plain": [
              "    Hour   Time  Quality         Record\n",
              "34    35  34:55    1.000  ICARE_0829_35\n",
              "35    36  35:55    1.000  ICARE_0829_36\n",
              "36    37  36:55    1.000  ICARE_0829_37\n",
              "37    38  37:35    1.000  ICARE_0829_38\n",
              "38    39  38:55    1.000  ICARE_0829_39\n",
              "..   ...    ...      ...            ...\n",
              "57    58  57:55    1.000  ICARE_0874_58\n",
              "58    59  58:15    1.000  ICARE_0874_59\n",
              "59    60  59:35    1.000  ICARE_0874_60\n",
              "60    61  60:20    1.000  ICARE_0874_61\n",
              "61    62  61:35    0.983  ICARE_0874_62\n",
              "\n",
              "[23528 rows x 4 columns]"
            ],
            "text/html": [
              "\n",
              "  <div id=\"df-e36cbb03-e00a-477a-a9ab-144051c96add\">\n",
              "    <div class=\"colab-df-container\">\n",
              "      <div>\n",
              "<style scoped>\n",
              "    .dataframe tbody tr th:only-of-type {\n",
              "        vertical-align: middle;\n",
              "    }\n",
              "\n",
              "    .dataframe tbody tr th {\n",
              "        vertical-align: top;\n",
              "    }\n",
              "\n",
              "    .dataframe thead th {\n",
              "        text-align: right;\n",
              "    }\n",
              "</style>\n",
              "<table border=\"1\" class=\"dataframe\">\n",
              "  <thead>\n",
              "    <tr style=\"text-align: right;\">\n",
              "      <th></th>\n",
              "      <th>Hour</th>\n",
              "      <th>Time</th>\n",
              "      <th>Quality</th>\n",
              "      <th>Record</th>\n",
              "    </tr>\n",
              "  </thead>\n",
              "  <tbody>\n",
              "    <tr>\n",
              "      <th>34</th>\n",
              "      <td>35</td>\n",
              "      <td>34:55</td>\n",
              "      <td>1.000</td>\n",
              "      <td>ICARE_0829_35</td>\n",
              "    </tr>\n",
              "    <tr>\n",
              "      <th>35</th>\n",
              "      <td>36</td>\n",
              "      <td>35:55</td>\n",
              "      <td>1.000</td>\n",
              "      <td>ICARE_0829_36</td>\n",
              "    </tr>\n",
              "    <tr>\n",
              "      <th>36</th>\n",
              "      <td>37</td>\n",
              "      <td>36:55</td>\n",
              "      <td>1.000</td>\n",
              "      <td>ICARE_0829_37</td>\n",
              "    </tr>\n",
              "    <tr>\n",
              "      <th>37</th>\n",
              "      <td>38</td>\n",
              "      <td>37:35</td>\n",
              "      <td>1.000</td>\n",
              "      <td>ICARE_0829_38</td>\n",
              "    </tr>\n",
              "    <tr>\n",
              "      <th>38</th>\n",
              "      <td>39</td>\n",
              "      <td>38:55</td>\n",
              "      <td>1.000</td>\n",
              "      <td>ICARE_0829_39</td>\n",
              "    </tr>\n",
              "    <tr>\n",
              "      <th>...</th>\n",
              "      <td>...</td>\n",
              "      <td>...</td>\n",
              "      <td>...</td>\n",
              "      <td>...</td>\n",
              "    </tr>\n",
              "    <tr>\n",
              "      <th>57</th>\n",
              "      <td>58</td>\n",
              "      <td>57:55</td>\n",
              "      <td>1.000</td>\n",
              "      <td>ICARE_0874_58</td>\n",
              "    </tr>\n",
              "    <tr>\n",
              "      <th>58</th>\n",
              "      <td>59</td>\n",
              "      <td>58:15</td>\n",
              "      <td>1.000</td>\n",
              "      <td>ICARE_0874_59</td>\n",
              "    </tr>\n",
              "    <tr>\n",
              "      <th>59</th>\n",
              "      <td>60</td>\n",
              "      <td>59:35</td>\n",
              "      <td>1.000</td>\n",
              "      <td>ICARE_0874_60</td>\n",
              "    </tr>\n",
              "    <tr>\n",
              "      <th>60</th>\n",
              "      <td>61</td>\n",
              "      <td>60:20</td>\n",
              "      <td>1.000</td>\n",
              "      <td>ICARE_0874_61</td>\n",
              "    </tr>\n",
              "    <tr>\n",
              "      <th>61</th>\n",
              "      <td>62</td>\n",
              "      <td>61:35</td>\n",
              "      <td>0.983</td>\n",
              "      <td>ICARE_0874_62</td>\n",
              "    </tr>\n",
              "  </tbody>\n",
              "</table>\n",
              "<p>23528 rows × 4 columns</p>\n",
              "</div>\n",
              "      <button class=\"colab-df-convert\" onclick=\"convertToInteractive('df-e36cbb03-e00a-477a-a9ab-144051c96add')\"\n",
              "              title=\"Convert this dataframe to an interactive table.\"\n",
              "              style=\"display:none;\">\n",
              "        \n",
              "  <svg xmlns=\"http://www.w3.org/2000/svg\" height=\"24px\"viewBox=\"0 0 24 24\"\n",
              "       width=\"24px\">\n",
              "    <path d=\"M0 0h24v24H0V0z\" fill=\"none\"/>\n",
              "    <path d=\"M18.56 5.44l.94 2.06.94-2.06 2.06-.94-2.06-.94-.94-2.06-.94 2.06-2.06.94zm-11 1L8.5 8.5l.94-2.06 2.06-.94-2.06-.94L8.5 2.5l-.94 2.06-2.06.94zm10 10l.94 2.06.94-2.06 2.06-.94-2.06-.94-.94-2.06-.94 2.06-2.06.94z\"/><path d=\"M17.41 7.96l-1.37-1.37c-.4-.4-.92-.59-1.43-.59-.52 0-1.04.2-1.43.59L10.3 9.45l-7.72 7.72c-.78.78-.78 2.05 0 2.83L4 21.41c.39.39.9.59 1.41.59.51 0 1.02-.2 1.41-.59l7.78-7.78 2.81-2.81c.8-.78.8-2.07 0-2.86zM5.41 20L4 18.59l7.72-7.72 1.47 1.35L5.41 20z\"/>\n",
              "  </svg>\n",
              "      </button>\n",
              "      \n",
              "  <style>\n",
              "    .colab-df-container {\n",
              "      display:flex;\n",
              "      flex-wrap:wrap;\n",
              "      gap: 12px;\n",
              "    }\n",
              "\n",
              "    .colab-df-convert {\n",
              "      background-color: #E8F0FE;\n",
              "      border: none;\n",
              "      border-radius: 50%;\n",
              "      cursor: pointer;\n",
              "      display: none;\n",
              "      fill: #1967D2;\n",
              "      height: 32px;\n",
              "      padding: 0 0 0 0;\n",
              "      width: 32px;\n",
              "    }\n",
              "\n",
              "    .colab-df-convert:hover {\n",
              "      background-color: #E2EBFA;\n",
              "      box-shadow: 0px 1px 2px rgba(60, 64, 67, 0.3), 0px 1px 3px 1px rgba(60, 64, 67, 0.15);\n",
              "      fill: #174EA6;\n",
              "    }\n",
              "\n",
              "    [theme=dark] .colab-df-convert {\n",
              "      background-color: #3B4455;\n",
              "      fill: #D2E3FC;\n",
              "    }\n",
              "\n",
              "    [theme=dark] .colab-df-convert:hover {\n",
              "      background-color: #434B5C;\n",
              "      box-shadow: 0px 1px 3px 1px rgba(0, 0, 0, 0.15);\n",
              "      filter: drop-shadow(0px 1px 2px rgba(0, 0, 0, 0.3));\n",
              "      fill: #FFFFFF;\n",
              "    }\n",
              "  </style>\n",
              "\n",
              "      <script>\n",
              "        const buttonEl =\n",
              "          document.querySelector('#df-e36cbb03-e00a-477a-a9ab-144051c96add button.colab-df-convert');\n",
              "        buttonEl.style.display =\n",
              "          google.colab.kernel.accessAllowed ? 'block' : 'none';\n",
              "\n",
              "        async function convertToInteractive(key) {\n",
              "          const element = document.querySelector('#df-e36cbb03-e00a-477a-a9ab-144051c96add');\n",
              "          const dataTable =\n",
              "            await google.colab.kernel.invokeFunction('convertToInteractive',\n",
              "                                                     [key], {});\n",
              "          if (!dataTable) return;\n",
              "\n",
              "          const docLinkHtml = 'Like what you see? Visit the ' +\n",
              "            '<a target=\"_blank\" href=https://colab.research.google.com/notebooks/data_table.ipynb>data table notebook</a>'\n",
              "            + ' to learn more about interactive tables.';\n",
              "          element.innerHTML = '';\n",
              "          dataTable['output_type'] = 'display_data';\n",
              "          await google.colab.output.renderOutput(dataTable, element);\n",
              "          const docLink = document.createElement('div');\n",
              "          docLink.innerHTML = docLinkHtml;\n",
              "          element.appendChild(docLink);\n",
              "        }\n",
              "      </script>\n",
              "    </div>\n",
              "  </div>\n",
              "  "
            ]
          },
          "metadata": {},
          "execution_count": 96
        }
      ]
    },
    {
      "cell_type": "code",
      "source": [
        "df.groupby(\"Record\")[\"Quality\"].mean().plot.hist()"
      ],
      "metadata": {
        "colab": {
          "base_uri": "https://localhost:8080/",
          "height": 282
        },
        "id": "KPacDy8h0Nn6",
        "outputId": "f9311c00-3152-4daf-8074-6081d946caf0"
      },
      "execution_count": 93,
      "outputs": [
        {
          "output_type": "execute_result",
          "data": {
            "text/plain": [
              "<AxesSubplot:ylabel='Frequency'>"
            ]
          },
          "metadata": {},
          "execution_count": 93
        },
        {
          "output_type": "display_data",
          "data": {
            "text/plain": [
              "<Figure size 432x288 with 1 Axes>"
            ],
            "image/png": "[encoded data removed]"
          },
          "metadata": {
            "needs_background": "light"
          }
        }
      ]
    },
    {
      "cell_type": "code",
      "source": [
        "df.groupby(\"Record\")[\"Quality\"].mean()"
      ],
      "metadata": {
        "colab": {
          "base_uri": "https://localhost:8080/"
        },
        "id": "XwfCEeXkwJgp",
        "outputId": "2a39a429-f915-4008-8d09-88c371d6d8a5"
      },
      "execution_count": 95,
      "outputs": [
        {
          "output_type": "execute_result",
          "data": {
            "text/plain": [
              "Record\n",
              "ICARE_0284_05    1.000\n",
              "ICARE_0284_06    1.000\n",
              "ICARE_0284_07    1.000\n",
              "ICARE_0284_08    1.000\n",
              "ICARE_0284_09    0.983\n",
              "                 ...  \n",
              "ICARE_1020_68    1.000\n",
              "ICARE_1020_69    1.000\n",
              "ICARE_1020_70    1.000\n",
              "ICARE_1020_71    1.000\n",
              "ICARE_1020_72    1.000\n",
              "Name: Quality, Length: 23528, dtype: float64"
            ]
          },
          "metadata": {},
          "execution_count": 95
        }
      ]
    },
    {
      "cell_type": "code",
      "source": [
        "for i in os.listdir(\"./data/training/\"):\n",
        "  print(i)"
      ],
      "metadata": {
        "colab": {
          "base_uri": "https://localhost:8080/"
        },
        "id": "VZJC2I1isMZw",
        "outputId": "780ae8d7-59c8-4474-cf99-a9bfb330f14a"
      },
      "execution_count": 11,
      "outputs": [
        {
          "output_type": "stream",
          "name": "stdout",
          "text": [
            "ICARE_0829\n",
            "ICARE_0319\n",
            "ICARE_0773\n",
            "ICARE_0707\n",
            "ICARE_0916\n",
            "ICARE_0882\n",
            "ICARE_0879\n",
            "ICARE_0413\n",
            "ICARE_0545\n",
            "ICARE_0690\n",
            "ICARE_0610\n",
            "ICARE_0532\n",
            "ICARE_1017\n",
            "ICARE_0781\n",
            "ICARE_0890\n",
            "ICARE_0561\n",
            "ICARE_0299\n",
            "ICARE_0635\n",
            "ICARE_0980\n",
            "ICARE_0685\n",
            "ICARE_0601\n",
            "ICARE_0679\n",
            "ICARE_0904\n",
            "ICARE_0772\n",
            "ICARE_0502\n",
            "ICARE_0648\n",
            "ICARE_0340\n",
            "ICARE_0977\n",
            "ICARE_0477\n",
            "ICARE_0702\n",
            "ICARE_0967\n",
            "ICARE_0774\n",
            "ICARE_0741\n",
            "ICARE_0570\n",
            "ICARE_0501\n",
            "ICARE_0752\n",
            "ICARE_0941\n",
            "ICARE_1005\n",
            "ICARE_0432\n",
            "ICARE_0313\n",
            "ICARE_0370\n",
            "ICARE_0447\n",
            "ICARE_0632\n",
            "ICARE_0341\n",
            "ICARE_0937\n",
            "ICARE_0592\n",
            "ICARE_0637\n",
            "ICARE_0756\n",
            "ICARE_0872\n",
            "ICARE_0764\n",
            "ICARE_0525\n",
            "ICARE_1002\n",
            "ICARE_0604\n",
            "ICARE_0789\n",
            "ICARE_0368\n",
            "ICARE_0884\n",
            "ICARE_0656\n",
            "ICARE_0692\n",
            "ICARE_0785\n",
            "ICARE_0830\n",
            "ICARE_0363\n",
            "ICARE_0442\n",
            "ICARE_0713\n",
            "ICARE_0470\n",
            "ICARE_0334\n",
            "ICARE_0630\n",
            "ICARE_0423\n",
            "ICARE_1013\n",
            "ICARE_0398\n",
            "ICARE_0721\n",
            "ICARE_0779\n",
            "ICARE_0624\n",
            "ICARE_0745\n",
            "ICARE_0708\n",
            "ICARE_0649\n",
            "ICARE_0953\n",
            "ICARE_0658\n",
            "ICARE_0500\n",
            "ICARE_0833\n",
            "ICARE_0593\n",
            "ICARE_0354\n",
            "ICARE_0347\n",
            "ICARE_0437\n",
            "ICARE_0378\n",
            "ICARE_0474\n",
            "ICARE_0543\n",
            "ICARE_0472\n",
            "ICARE_0974\n",
            "ICARE_0730\n",
            "ICARE_0711\n",
            "ICARE_0414\n",
            "ICARE_0403\n",
            "ICARE_0626\n",
            "ICARE_0588\n",
            "ICARE_0777\n",
            "ICARE_0520\n",
            "ICARE_0729\n",
            "ICARE_0754\n",
            "ICARE_0851\n",
            "ICARE_0558\n",
            "ICARE_0680\n",
            "ICARE_0507\n",
            "ICARE_0458\n",
            "ICARE_0794\n",
            "ICARE_0612\n",
            "ICARE_0538\n",
            "ICARE_0566\n",
            "ICARE_0450\n",
            "ICARE_0618\n",
            "ICARE_0487\n",
            "ICARE_0376\n",
            "ICARE_0644\n",
            "ICARE_0615\n",
            "ICARE_0582\n",
            "ICARE_0496\n",
            "ICARE_0651\n",
            "ICARE_0598\n",
            "ICARE_0670\n",
            "ICARE_0955\n",
            "ICARE_0856\n",
            "ICARE_0850\n",
            "ICARE_0723\n",
            "ICARE_0365\n",
            "ICARE_0897\n",
            "ICARE_0865\n",
            "ICARE_0641\n",
            "ICARE_0822\n",
            "ICARE_0978\n",
            "ICARE_0727\n",
            "ICARE_0958\n",
            "ICARE_0440\n",
            "ICARE_0639\n",
            "ICARE_0893\n",
            "ICARE_0421\n",
            "ICARE_0402\n",
            "ICARE_0767\n",
            "ICARE_0427\n",
            "ICARE_0775\n",
            "ICARE_0628\n",
            "ICARE_0991\n",
            "ICARE_0852\n",
            "ICARE_0864\n",
            "ICARE_0392\n",
            "ICARE_0720\n",
            "ICARE_0584\n",
            "ICARE_0565\n",
            "ICARE_0311\n",
            "ICARE_0377\n",
            "ICARE_0896\n",
            "ICARE_0869\n",
            "ICARE_0316\n",
            "ICARE_0820\n",
            "ICARE_0964\n",
            "ICARE_0475\n",
            "ICARE_0446\n",
            "ICARE_0569\n",
            "ICARE_0473\n",
            "ICARE_0828\n",
            "ICARE_0930\n",
            "ICARE_0575\n",
            "ICARE_0337\n",
            "ICARE_0467\n",
            "ICARE_0448\n",
            "ICARE_0556\n",
            "ICARE_0877\n",
            "ICARE_0375\n",
            "ICARE_0932\n",
            "ICARE_0619\n",
            "ICARE_0759\n",
            "ICARE_0400\n",
            "ICARE_0750\n",
            "ICARE_0834\n",
            "ICARE_0717\n",
            "ICARE_0800\n",
            "ICARE_0675\n",
            "ICARE_0633\n",
            "ICARE_0457\n",
            "ICARE_0935\n",
            "ICARE_0757\n",
            "ICARE_0694\n",
            "ICARE_0918\n",
            "ICARE_0587\n",
            "ICARE_0629\n",
            "ICARE_0824\n",
            "ICARE_0880\n",
            "ICARE_0858\n",
            "ICARE_0571\n",
            "ICARE_0417\n",
            "ICARE_0780\n",
            "ICARE_0790\n",
            "ICARE_0625\n",
            "ICARE_0810\n",
            "ICARE_0710\n",
            "ICARE_1004\n",
            "ICARE_0997\n",
            "ICARE_0600\n",
            "ICARE_0839\n",
            "ICARE_0574\n",
            "ICARE_0546\n",
            "ICARE_0483\n",
            "ICARE_0579\n",
            "ICARE_0714\n",
            "ICARE_0616\n",
            "ICARE_0439\n",
            "ICARE_0900\n",
            "ICARE_0902\n",
            "ICARE_0867\n",
            "ICARE_0758\n",
            "ICARE_0349\n",
            "ICARE_0801\n",
            "ICARE_0312\n",
            "ICARE_0539\n",
            "ICARE_0638\n",
            "ICARE_0555\n",
            "ICARE_0999\n",
            "ICARE_0668\n",
            "ICARE_0751\n",
            "ICARE_0344\n",
            "ICARE_0922\n",
            "ICARE_0589\n",
            "ICARE_0597\n",
            "ICARE_0426\n",
            "ICARE_0909\n",
            "ICARE_0346\n",
            "ICARE_0691\n",
            "ICARE_0782\n",
            "ICARE_0784\n",
            "ICARE_0911\n",
            "ICARE_0567\n",
            "ICARE_0328\n",
            "ICARE_0860\n",
            "ICARE_0968\n",
            "ICARE_0530\n",
            "ICARE_0536\n",
            "ICARE_0799\n",
            "ICARE_0907\n",
            "ICARE_0576\n",
            "ICARE_0486\n",
            "ICARE_0420\n",
            "ICARE_0742\n",
            "ICARE_0755\n",
            "ICARE_0821\n",
            "ICARE_0700\n",
            "ICARE_0405\n",
            "ICARE_0732\n",
            "ICARE_0369\n",
            "ICARE_0373\n",
            "ICARE_0552\n",
            "ICARE_1014\n",
            "ICARE_0744\n",
            "ICARE_0404\n",
            "ICARE_0736\n",
            "ICARE_0451\n",
            "ICARE_0982\n",
            "ICARE_0435\n",
            "ICARE_0891\n",
            "ICARE_0831\n",
            "ICARE_0885\n",
            "ICARE_0889\n",
            "ICARE_0621\n",
            "ICARE_0553\n",
            "ICARE_0320\n",
            "ICARE_0976\n",
            "ICARE_0395\n",
            "ICARE_0987\n",
            "ICARE_0901\n",
            "ICARE_0695\n",
            "ICARE_0747\n",
            "ICARE_0523\n",
            "ICARE_0970\n",
            "ICARE_0908\n",
            "ICARE_1000\n",
            "ICARE_0731\n",
            "ICARE_0391\n",
            "ICARE_0306\n",
            "ICARE_0590\n",
            "ICARE_0490\n",
            "ICARE_0361\n",
            "ICARE_0725\n",
            "ICARE_0605\n",
            "ICARE_0748\n",
            "ICARE_0854\n",
            "ICARE_0855\n",
            "ICARE_0352\n",
            "ICARE_0728\n",
            "ICARE_0623\n",
            "ICARE_0984\n",
            "ICARE_0396\n",
            "ICARE_0416\n",
            "ICARE_1015\n",
            "ICARE_0841\n",
            "ICARE_0645\n",
            "ICARE_0424\n",
            "ICARE_0674\n",
            "ICARE_0835\n",
            "ICARE_0614\n",
            "ICARE_0506\n",
            "ICARE_0353\n",
            "ICARE_0788\n",
            "ICARE_0371\n",
            "ICARE_0429\n",
            "ICARE_0928\n",
            "ICARE_0463\n",
            "ICARE_0845\n",
            "ICARE_0460\n",
            "ICARE_0807\n",
            "ICARE_0351\n",
            "ICARE_0676\n",
            "ICARE_0459\n",
            "ICARE_0372\n",
            "ICARE_0434\n",
            "ICARE_0753\n",
            "ICARE_0886\n",
            "ICARE_0384\n",
            "ICARE_0444\n",
            "ICARE_0942\n",
            "ICARE_0409\n",
            "ICARE_0944\n",
            "ICARE_0560\n",
            "ICARE_0895\n",
            "ICARE_0894\n",
            "ICARE_1019\n",
            "ICARE_0636\n",
            "ICARE_0681\n",
            "ICARE_0778\n",
            "ICARE_0355\n",
            "ICARE_0915\n",
            "ICARE_0469\n",
            "ICARE_0771\n",
            "ICARE_0923\n",
            "ICARE_0410\n",
            "ICARE_0445\n",
            "ICARE_0548\n",
            "ICARE_0303\n",
            "ICARE_0816\n",
            "ICARE_0933\n",
            "ICARE_0527\n",
            "ICARE_0602\n",
            "ICARE_0661\n",
            "ICARE_0389\n",
            "ICARE_0476\n",
            "ICARE_0832\n",
            "ICARE_0438\n",
            "ICARE_0718\n",
            "ICARE_0540\n",
            "ICARE_0724\n",
            "ICARE_0887\n",
            "ICARE_0541\n",
            "ICARE_0433\n",
            "ICARE_0634\n",
            "ICARE_0359\n",
            "ICARE_0870\n",
            "ICARE_0920\n",
            "ICARE_0464\n",
            "ICARE_0945\n",
            "ICARE_1009\n",
            "ICARE_0740\n",
            "ICARE_0898\n",
            "ICARE_0712\n",
            "ICARE_0847\n",
            "ICARE_0738\n",
            "ICARE_0497\n",
            "ICARE_0515\n",
            "ICARE_0419\n",
            "ICARE_0380\n",
            "ICARE_0954\n",
            "ICARE_0960\n",
            "ICARE_0866\n",
            "ICARE_1006\n",
            "ICARE_0586\n",
            "ICARE_1020\n",
            "ICARE_0844\n",
            "ICARE_0647\n",
            "ICARE_0549\n",
            "ICARE_0817\n",
            "ICARE_0418\n",
            "ICARE_0542\n",
            "ICARE_0482\n",
            "ICARE_0971\n",
            "ICARE_0495\n",
            "ICARE_0326\n",
            "ICARE_0286\n",
            "ICARE_0981\n",
            "ICARE_1003\n",
            "ICARE_0655\n",
            "ICARE_0719\n",
            "ICARE_0595\n",
            "ICARE_0627\n",
            "ICARE_0947\n",
            "ICARE_0873\n",
            "ICARE_0522\n",
            "ICARE_0453\n",
            "ICARE_0665\n",
            "ICARE_0485\n",
            "ICARE_0749\n",
            "ICARE_0926\n",
            "ICARE_0554\n",
            "ICARE_0862\n",
            "ICARE_0559\n",
            "ICARE_0797\n",
            "ICARE_0826\n",
            "ICARE_0550\n",
            "ICARE_0769\n",
            "ICARE_0994\n",
            "ICARE_0415\n",
            "ICARE_0521\n",
            "ICARE_0739\n",
            "ICARE_0952\n",
            "ICARE_0806\n",
            "ICARE_0366\n",
            "ICARE_0985\n",
            "ICARE_0512\n",
            "ICARE_0934\n",
            "ICARE_0510\n",
            "ICARE_0701\n",
            "ICARE_0965\n",
            "ICARE_0875\n",
            "ICARE_0838\n",
            "ICARE_0394\n",
            "ICARE_0948\n",
            "ICARE_1012\n",
            "ICARE_0498\n",
            "ICARE_0466\n",
            "ICARE_0883\n",
            "ICARE_0406\n",
            "ICARE_0284\n",
            "ICARE_0513\n",
            "ICARE_0332\n",
            "ICARE_0652\n",
            "ICARE_0383\n",
            "ICARE_0577\n",
            "ICARE_0461\n",
            "ICARE_0407\n",
            "ICARE_0504\n",
            "ICARE_0390\n",
            "ICARE_0787\n",
            "ICARE_0699\n",
            "ICARE_0342\n",
            "ICARE_0526\n",
            "ICARE_0846\n",
            "ICARE_0642\n",
            "ICARE_0657\n",
            "ICARE_0683\n",
            "ICARE_0677\n",
            "ICARE_0709\n",
            "ICARE_0910\n",
            "ICARE_0760\n",
            "ICARE_0650\n",
            "ICARE_0973\n",
            "ICARE_0412\n",
            "ICARE_0613\n",
            "ICARE_0899\n",
            "ICARE_0462\n",
            "ICARE_1018\n",
            "ICARE_0962\n",
            "ICARE_0484\n",
            "ICARE_0768\n",
            "ICARE_0812\n",
            "ICARE_0950\n",
            "ICARE_0837\n",
            "ICARE_0296\n",
            "ICARE_0989\n",
            "ICARE_0678\n",
            "ICARE_0969\n",
            "ICARE_0766\n",
            "ICARE_0840\n",
            "ICARE_0479\n",
            "ICARE_1008\n",
            "ICARE_0493\n",
            "ICARE_0809\n",
            "ICARE_0988\n",
            "ICARE_0562\n",
            "ICARE_0903\n",
            "ICARE_0568\n",
            "ICARE_0563\n",
            "ICARE_0531\n",
            "ICARE_0671\n",
            "ICARE_0881\n",
            "ICARE_0734\n",
            "ICARE_0931\n",
            "ICARE_0358\n",
            "ICARE_0776\n",
            "ICARE_0471\n",
            "ICARE_0929\n",
            "ICARE_0606\n",
            "ICARE_0861\n",
            "ICARE_0382\n",
            "ICARE_0770\n",
            "ICARE_0379\n",
            "ICARE_1001\n",
            "ICARE_0468\n",
            "ICARE_0921\n",
            "ICARE_0364\n",
            "ICARE_0348\n",
            "ICARE_0533\n",
            "ICARE_0456\n",
            "ICARE_0686\n",
            "ICARE_0431\n",
            "ICARE_0360\n",
            "ICARE_0811\n",
            "ICARE_0585\n",
            "ICARE_0917\n",
            "ICARE_0706\n",
            "ICARE_0716\n",
            "ICARE_0666\n",
            "ICARE_0963\n",
            "ICARE_0580\n",
            "ICARE_0765\n",
            "ICARE_0631\n",
            "ICARE_0957\n",
            "ICARE_0452\n",
            "ICARE_0868\n",
            "ICARE_0697\n",
            "ICARE_0726\n",
            "ICARE_0871\n",
            "ICARE_0814\n",
            "ICARE_0535\n",
            "ICARE_0827\n",
            "ICARE_0688\n",
            "ICARE_0335\n",
            "ICARE_0859\n",
            "ICARE_0422\n",
            "ICARE_0975\n",
            "ICARE_0857\n",
            "ICARE_0853\n",
            "ICARE_0761\n",
            "ICARE_0746\n",
            "ICARE_0505\n",
            "ICARE_0823\n",
            "ICARE_0663\n",
            "ICARE_0943\n",
            "ICARE_0357\n",
            "ICARE_0796\n",
            "ICARE_0411\n",
            "ICARE_0993\n",
            "ICARE_0617\n",
            "ICARE_0737\n",
            "ICARE_0715\n",
            "ICARE_0804\n",
            "ICARE_0693\n",
            "ICARE_0455\n",
            "ICARE_0350\n",
            "ICARE_0998\n",
            "ICARE_0961\n",
            "ICARE_0430\n",
            "ICARE_0573\n",
            "ICARE_0514\n",
            "ICARE_0609\n",
            "ICARE_0979\n",
            "ICARE_0367\n",
            "ICARE_0924\n",
            "ICARE_0508\n",
            "ICARE_0564\n",
            "ICARE_0966\n",
            "ICARE_0919\n",
            "ICARE_0783\n",
            "ICARE_0684\n",
            "ICARE_0808\n",
            "ICARE_0888\n",
            "ICARE_0547\n",
            "ICARE_0492\n",
            "ICARE_0682\n",
            "ICARE_0843\n",
            "ICARE_0951\n",
            "ICARE_0465\n",
            "ICARE_0876\n",
            "ICARE_0925\n",
            "ICARE_0703\n",
            "ICARE_0805\n",
            "ICARE_0996\n",
            "ICARE_0517\n",
            "ICARE_0672\n",
            "ICARE_0591\n",
            "ICARE_1011\n",
            "ICARE_0544\n",
            "ICARE_0356\n",
            "ICARE_0848\n",
            "ICARE_0722\n",
            "ICARE_0481\n",
            "ICARE_0397\n",
            "ICARE_0441\n",
            "ICARE_0518\n",
            "ICARE_0387\n",
            "ICARE_0673\n",
            "ICARE_0669\n",
            "ICARE_0813\n",
            "ICARE_0892\n",
            "ICARE_0436\n",
            "ICARE_0607\n",
            "ICARE_1016\n",
            "ICARE_0611\n",
            "ICARE_0660\n",
            "ICARE_0428\n",
            "ICARE_0399\n",
            "ICARE_0443\n",
            "ICARE_0362\n",
            "ICARE_1007\n",
            "ICARE_0689\n",
            "ICARE_0792\n",
            "ICARE_0905\n",
            "ICARE_0529\n",
            "ICARE_0913\n",
            "ICARE_0646\n",
            "ICARE_0519\n",
            "ICARE_0385\n",
            "ICARE_0819\n",
            "ICARE_0874\n"
          ]
        }
      ]
    },
    {
      "cell_type": "code",
      "source": [],
      "metadata": {
        "id": "yrWdOvnTsXaj"
      },
      "execution_count": null,
      "outputs": []
    }
  ]
}