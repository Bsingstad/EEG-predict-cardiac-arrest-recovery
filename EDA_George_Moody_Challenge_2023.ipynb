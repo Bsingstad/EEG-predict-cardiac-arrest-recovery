{
  "nbformat": 4,
  "nbformat_minor": 0,
  "metadata": {
    "colab": {
      "provenance": []
    },
    "kernelspec": {
      "name": "python3",
      "display_name": "Python 3"
    },
    "language_info": {
      "name": "python"
    }
  },
  "cells": [
    {
      "cell_type": "code",
      "execution_count": 97,
      "metadata": {
        "colab": {
          "base_uri": "https://localhost:8080/"
        },
        "id": "q7rpHQfvpZyg",
        "outputId": "06beff16-d64e-4fa2-f4d1-ce66249c5963"
      },
      "outputs": [
        {
          "output_type": "stream",
          "name": "stdout",
          "text": [
            "Looking in indexes: https://pypi.org/simple, https://us-python.pkg.dev/colab-wheels/public/simple/\n",
            "Requirement already satisfied: wget in /usr/local/lib/python3.8/dist-packages (3.2)\n",
            "Requirement already satisfied: wfdb in /usr/local/lib/python3.8/dist-packages (4.1.0)\n",
            "Requirement already satisfied: neurokit2 in /usr/local/lib/python3.8/dist-packages (0.2.3)\n",
            "Requirement already satisfied: matplotlib<4.0.0,>=3.2.2 in /usr/local/lib/python3.8/dist-packages (from wfdb) (3.5.3)\n",
            "Requirement already satisfied: pandas<2.0.0,>=1.0.0 in /usr/local/lib/python3.8/dist-packages (from wfdb) (1.3.5)\n",
            "Requirement already satisfied: requests<3.0.0,>=2.8.1 in /usr/local/lib/python3.8/dist-packages (from wfdb) (2.25.1)\n",
            "Requirement already satisfied: SoundFile<0.12.0,>=0.10.0 in /usr/local/lib/python3.8/dist-packages (from wfdb) (0.11.0)\n",
            "Requirement already satisfied: scipy<2.0.0,>=1.0.0 in /usr/local/lib/python3.8/dist-packages (from wfdb) (1.10.1)\n",
            "Requirement already satisfied: numpy<2.0.0,>=1.10.1 in /usr/local/lib/python3.8/dist-packages (from wfdb) (1.22.4)\n",
            "Requirement already satisfied: scikit-learn>=1.0.0 in /usr/local/lib/python3.8/dist-packages (from neurokit2) (1.2.1)\n",
            "Requirement already satisfied: packaging>=20.0 in /usr/local/lib/python3.8/dist-packages (from matplotlib<4.0.0,>=3.2.2->wfdb) (23.0)\n",
            "Requirement already satisfied: kiwisolver>=1.0.1 in /usr/local/lib/python3.8/dist-packages (from matplotlib<4.0.0,>=3.2.2->wfdb) (1.4.4)\n",
            "Requirement already satisfied: pyparsing>=2.2.1 in /usr/local/lib/python3.8/dist-packages (from matplotlib<4.0.0,>=3.2.2->wfdb) (3.0.9)\n",
            "Requirement already satisfied: python-dateutil>=2.7 in /usr/local/lib/python3.8/dist-packages (from matplotlib<4.0.0,>=3.2.2->wfdb) (2.8.2)\n",
            "Requirement already satisfied: fonttools>=4.22.0 in /usr/local/lib/python3.8/dist-packages (from matplotlib<4.0.0,>=3.2.2->wfdb) (4.38.0)\n",
            "Requirement already satisfied: pillow>=6.2.0 in /usr/local/lib/python3.8/dist-packages (from matplotlib<4.0.0,>=3.2.2->wfdb) (8.4.0)\n",
            "Requirement already satisfied: cycler>=0.10 in /usr/local/lib/python3.8/dist-packages (from matplotlib<4.0.0,>=3.2.2->wfdb) (0.11.0)\n",
            "Requirement already satisfied: pytz>=2017.3 in /usr/local/lib/python3.8/dist-packages (from pandas<2.0.0,>=1.0.0->wfdb) (2022.7.1)\n",
            "Requirement already satisfied: certifi>=2017.4.17 in /usr/local/lib/python3.8/dist-packages (from requests<3.0.0,>=2.8.1->wfdb) (2022.12.7)\n",
            "Requirement already satisfied: chardet<5,>=3.0.2 in /usr/local/lib/python3.8/dist-packages (from requests<3.0.0,>=2.8.1->wfdb) (4.0.0)\n",
            "Requirement already satisfied: idna<3,>=2.5 in /usr/local/lib/python3.8/dist-packages (from requests<3.0.0,>=2.8.1->wfdb) (2.10)\n",
            "Requirement already satisfied: urllib3<1.27,>=1.21.1 in /usr/local/lib/python3.8/dist-packages (from requests<3.0.0,>=2.8.1->wfdb) (1.26.14)\n",
            "Requirement already satisfied: threadpoolctl>=2.0.0 in /usr/local/lib/python3.8/dist-packages (from scikit-learn>=1.0.0->neurokit2) (3.1.0)\n",
            "Requirement already satisfied: joblib>=1.1.1 in /usr/local/lib/python3.8/dist-packages (from scikit-learn>=1.0.0->neurokit2) (1.2.0)\n",
            "Requirement already satisfied: cffi>=1.0 in /usr/local/lib/python3.8/dist-packages (from SoundFile<0.12.0,>=0.10.0->wfdb) (1.15.1)\n",
            "Requirement already satisfied: pycparser in /usr/local/lib/python3.8/dist-packages (from cffi>=1.0->SoundFile<0.12.0,>=0.10.0->wfdb) (2.21)\n",
            "Requirement already satisfied: six>=1.5 in /usr/local/lib/python3.8/dist-packages (from python-dateutil>=2.7->matplotlib<4.0.0,>=3.2.2->wfdb) (1.15.0)\n"
          ]
        }
      ],
      "source": [
        "!pip install wget wfdb neurokit2"
      ]
    },
    {
      "cell_type": "code",
      "source": [
        "!mkdir -p ~/.kaggle\n",
        "!cp kaggle.json ~/.kaggle/\n",
        "!ls ~/.kaggle\n",
        "!chmod 600 /root/.kaggle/kaggle.json'"
      ],
      "metadata": {
        "colab": {
          "base_uri": "https://localhost:8080/"
        },
        "id": "_ZJuKV5Hpb0U",
        "outputId": "f522695d-7607-44ed-b484-61dfe692cf37"
      },
      "execution_count": 98,
      "outputs": [
        {
          "output_type": "stream",
          "name": "stdout",
          "text": [
            "kaggle.json\n",
            "/bin/bash: -c: line 0: unexpected EOF while looking for matching `''\n",
            "/bin/bash: -c: line 1: syntax error: unexpected end of file\n"
          ]
        }
      ]
    },
    {
      "cell_type": "code",
      "source": [
        "!kaggle datasets download -d bjoernjostein/george-moody-2023-complete-dataset"
      ],
      "metadata": {
        "colab": {
          "base_uri": "https://localhost:8080/"
        },
        "id": "NYqWe-76pgJt",
        "outputId": "27f674b8-a7d2-4ab2-9ea4-c7beea0a9775"
      },
      "execution_count": 100,
      "outputs": [
        {
          "output_type": "stream",
          "name": "stdout",
          "text": [
            "Warning: Your Kaggle API key is readable by other users on this system! To fix this, you can run 'chmod 600 /root/.kaggle/kaggle.json'\n",
            "george-moody-2023-complete-dataset.zip: Skipping, found more recently modified local copy (use --force to force download)\n"
          ]
        }
      ]
    },
    {
      "cell_type": "code",
      "source": [
        "!pip install GitPython\n",
        "from git import Repo"
      ],
      "metadata": {
        "colab": {
          "base_uri": "https://localhost:8080/"
        },
        "id": "f9BA35CKz8AY",
        "outputId": "bf0c46d5-41ea-4ff3-b702-cd06504b6fdf"
      },
      "execution_count": 158,
      "outputs": [
        {
          "output_type": "stream",
          "name": "stdout",
          "text": [
            "Looking in indexes: https://pypi.org/simple, https://us-python.pkg.dev/colab-wheels/public/simple/\n",
            "Collecting GitPython\n",
            "  Downloading GitPython-3.1.31-py3-none-any.whl (184 kB)\n",
            "\u001b[2K     \u001b[90m━━━━━━━━━━━━━━━━━━━━━━━━━━━━━━━━━━━━━━━\u001b[0m \u001b[32m184.3/184.3 KB\u001b[0m \u001b[31m4.7 MB/s\u001b[0m eta \u001b[36m0:00:00\u001b[0m\n",
            "\u001b[?25hCollecting gitdb<5,>=4.0.1\n",
            "  Downloading gitdb-4.0.10-py3-none-any.whl (62 kB)\n",
            "\u001b[2K     \u001b[90m━━━━━━━━━━━━━━━━━━━━━━━━━━━━━━━━━━━━━━━━\u001b[0m \u001b[32m62.7/62.7 KB\u001b[0m \u001b[31m6.3 MB/s\u001b[0m eta \u001b[36m0:00:00\u001b[0m\n",
            "\u001b[?25hCollecting smmap<6,>=3.0.1\n",
            "  Downloading smmap-5.0.0-py3-none-any.whl (24 kB)\n",
            "Installing collected packages: smmap, gitdb, GitPython\n",
            "Successfully installed GitPython-3.1.31 gitdb-4.0.10 smmap-5.0.0\n"
          ]
        }
      ]
    },
    {
      "cell_type": "code",
      "source": [
        "HTTPS_REMOTE_URL = 'https://github.com/Bsingstad/python-example-2023.git'\n",
        "DEST_NAME = 'repo'\n",
        "cloned_repo = Repo.clone_from(HTTPS_REMOTE_URL, DEST_NAME)"
      ],
      "metadata": {
        "id": "wLv8L-uh0Awu"
      },
      "execution_count": 159,
      "outputs": []
    },
    {
      "cell_type": "code",
      "source": [
        "from repo.helper_code import *"
      ],
      "metadata": {
        "id": "0wkCjnFB0QOW"
      },
      "execution_count": 171,
      "outputs": []
    },
    {
      "cell_type": "code",
      "source": [
        "import os\n",
        "import zipfile\n",
        "import numpy as np\n",
        "import pandas as pd\n",
        "import matplotlib.pyplot as plt\n",
        "import seaborn as sns\n",
        "import matplotlib\n",
        "\n",
        "font = {'size'   : 16}\n",
        "\n",
        "matplotlib.rc('font', **font)"
      ],
      "metadata": {
        "id": "quSp-rnhvG4T"
      },
      "execution_count": 273,
      "outputs": []
    },
    {
      "cell_type": "code",
      "source": [
        "dir_name = \"./\"\n",
        "extension = \".zip\"\n",
        " \n",
        "os.chdir(dir_name) # change directory from working dir to dir with files\n",
        "\n",
        "for item in os.listdir(dir_name): # loop through items in dir\n",
        "    if item.endswith(extension): # check for \".zip\" extension\n",
        "        file_name = os.path.abspath(item) # get full path of files\n",
        "        zip_ref = zipfile.ZipFile(file_name) # create zipfile object\n",
        "        zip_ref.extractall(dir_name) # extract file to dir\n",
        "        zip_ref.close() # close file\n",
        "        os.remove(file_name) # delete zipped file"
      ],
      "metadata": {
        "colab": {
          "base_uri": "https://localhost:8080/",
          "height": 381
        },
        "id": "vqRW-kx0psaC",
        "outputId": "9a5ca11f-4a26-4380-b6fc-641cea588641"
      },
      "execution_count": 274,
      "outputs": [
        {
          "output_type": "error",
          "ename": "BadZipFile",
          "evalue": "ignored",
          "traceback": [
            "\u001b[0;31m---------------------------------------------------------------------------\u001b[0m",
            "\u001b[0;31mBadZipFile\u001b[0m                                Traceback (most recent call last)",
            "\u001b[0;32m<ipython-input-274-3aa4d8d27934>\u001b[0m in \u001b[0;36m<module>\u001b[0;34m\u001b[0m\n\u001b[1;32m      7\u001b[0m     \u001b[0;32mif\u001b[0m \u001b[0mitem\u001b[0m\u001b[0;34m.\u001b[0m\u001b[0mendswith\u001b[0m\u001b[0;34m(\u001b[0m\u001b[0mextension\u001b[0m\u001b[0;34m)\u001b[0m\u001b[0;34m:\u001b[0m \u001b[0;31m# check for \".zip\" extension\u001b[0m\u001b[0;34m\u001b[0m\u001b[0;34m\u001b[0m\u001b[0m\n\u001b[1;32m      8\u001b[0m         \u001b[0mfile_name\u001b[0m \u001b[0;34m=\u001b[0m \u001b[0mos\u001b[0m\u001b[0;34m.\u001b[0m\u001b[0mpath\u001b[0m\u001b[0;34m.\u001b[0m\u001b[0mabspath\u001b[0m\u001b[0;34m(\u001b[0m\u001b[0mitem\u001b[0m\u001b[0;34m)\u001b[0m \u001b[0;31m# get full path of files\u001b[0m\u001b[0;34m\u001b[0m\u001b[0;34m\u001b[0m\u001b[0m\n\u001b[0;32m----> 9\u001b[0;31m         \u001b[0mzip_ref\u001b[0m \u001b[0;34m=\u001b[0m \u001b[0mzipfile\u001b[0m\u001b[0;34m.\u001b[0m\u001b[0mZipFile\u001b[0m\u001b[0;34m(\u001b[0m\u001b[0mfile_name\u001b[0m\u001b[0;34m)\u001b[0m \u001b[0;31m# create zipfile object\u001b[0m\u001b[0;34m\u001b[0m\u001b[0;34m\u001b[0m\u001b[0m\n\u001b[0m\u001b[1;32m     10\u001b[0m         \u001b[0mzip_ref\u001b[0m\u001b[0;34m.\u001b[0m\u001b[0mextractall\u001b[0m\u001b[0;34m(\u001b[0m\u001b[0mdir_name\u001b[0m\u001b[0;34m)\u001b[0m \u001b[0;31m# extract file to dir\u001b[0m\u001b[0;34m\u001b[0m\u001b[0;34m\u001b[0m\u001b[0m\n\u001b[1;32m     11\u001b[0m         \u001b[0mzip_ref\u001b[0m\u001b[0;34m.\u001b[0m\u001b[0mclose\u001b[0m\u001b[0;34m(\u001b[0m\u001b[0;34m)\u001b[0m \u001b[0;31m# close file\u001b[0m\u001b[0;34m\u001b[0m\u001b[0;34m\u001b[0m\u001b[0m\n",
            "\u001b[0;32m/usr/lib/python3.8/zipfile.py\u001b[0m in \u001b[0;36m__init__\u001b[0;34m(self, file, mode, compression, allowZip64, compresslevel, strict_timestamps)\u001b[0m\n\u001b[1;32m   1267\u001b[0m         \u001b[0;32mtry\u001b[0m\u001b[0;34m:\u001b[0m\u001b[0;34m\u001b[0m\u001b[0;34m\u001b[0m\u001b[0m\n\u001b[1;32m   1268\u001b[0m             \u001b[0;32mif\u001b[0m \u001b[0mmode\u001b[0m \u001b[0;34m==\u001b[0m \u001b[0;34m'r'\u001b[0m\u001b[0;34m:\u001b[0m\u001b[0;34m\u001b[0m\u001b[0;34m\u001b[0m\u001b[0m\n\u001b[0;32m-> 1269\u001b[0;31m                 \u001b[0mself\u001b[0m\u001b[0;34m.\u001b[0m\u001b[0m_RealGetContents\u001b[0m\u001b[0;34m(\u001b[0m\u001b[0;34m)\u001b[0m\u001b[0;34m\u001b[0m\u001b[0;34m\u001b[0m\u001b[0m\n\u001b[0m\u001b[1;32m   1270\u001b[0m             \u001b[0;32melif\u001b[0m \u001b[0mmode\u001b[0m \u001b[0;32min\u001b[0m \u001b[0;34m(\u001b[0m\u001b[0;34m'w'\u001b[0m\u001b[0;34m,\u001b[0m \u001b[0;34m'x'\u001b[0m\u001b[0;34m)\u001b[0m\u001b[0;34m:\u001b[0m\u001b[0;34m\u001b[0m\u001b[0;34m\u001b[0m\u001b[0m\n\u001b[1;32m   1271\u001b[0m                 \u001b[0;31m# set the modified flag so central directory gets written\u001b[0m\u001b[0;34m\u001b[0m\u001b[0;34m\u001b[0m\u001b[0;34m\u001b[0m\u001b[0m\n",
            "\u001b[0;32m/usr/lib/python3.8/zipfile.py\u001b[0m in \u001b[0;36m_RealGetContents\u001b[0;34m(self)\u001b[0m\n\u001b[1;32m   1334\u001b[0m             \u001b[0;32mraise\u001b[0m \u001b[0mBadZipFile\u001b[0m\u001b[0;34m(\u001b[0m\u001b[0;34m\"File is not a zip file\"\u001b[0m\u001b[0;34m)\u001b[0m\u001b[0;34m\u001b[0m\u001b[0;34m\u001b[0m\u001b[0m\n\u001b[1;32m   1335\u001b[0m         \u001b[0;32mif\u001b[0m \u001b[0;32mnot\u001b[0m \u001b[0mendrec\u001b[0m\u001b[0;34m:\u001b[0m\u001b[0;34m\u001b[0m\u001b[0;34m\u001b[0m\u001b[0m\n\u001b[0;32m-> 1336\u001b[0;31m             \u001b[0;32mraise\u001b[0m \u001b[0mBadZipFile\u001b[0m\u001b[0;34m(\u001b[0m\u001b[0;34m\"File is not a zip file\"\u001b[0m\u001b[0;34m)\u001b[0m\u001b[0;34m\u001b[0m\u001b[0;34m\u001b[0m\u001b[0m\n\u001b[0m\u001b[1;32m   1337\u001b[0m         \u001b[0;32mif\u001b[0m \u001b[0mself\u001b[0m\u001b[0;34m.\u001b[0m\u001b[0mdebug\u001b[0m \u001b[0;34m>\u001b[0m \u001b[0;36m1\u001b[0m\u001b[0;34m:\u001b[0m\u001b[0;34m\u001b[0m\u001b[0;34m\u001b[0m\u001b[0m\n\u001b[1;32m   1338\u001b[0m             \u001b[0mprint\u001b[0m\u001b[0;34m(\u001b[0m\u001b[0mendrec\u001b[0m\u001b[0;34m)\u001b[0m\u001b[0;34m\u001b[0m\u001b[0;34m\u001b[0m\u001b[0m\n",
            "\u001b[0;31mBadZipFile\u001b[0m: File is not a zip file"
          ]
        }
      ]
    },
    {
      "cell_type": "code",
      "source": [
        "os.rename(\"./i-care-international-cardiac-arrest-research-consortium-database-1.0/\", \"./data/\")"
      ],
      "metadata": {
        "colab": {
          "base_uri": "https://localhost:8080/",
          "height": 166
        },
        "id": "JRYZpH94sfXi",
        "outputId": "74afe999-c37c-48cf-86aa-b42d0b841e07"
      },
      "execution_count": 275,
      "outputs": [
        {
          "output_type": "error",
          "ename": "FileNotFoundError",
          "evalue": "ignored",
          "traceback": [
            "\u001b[0;31m---------------------------------------------------------------------------\u001b[0m",
            "\u001b[0;31mFileNotFoundError\u001b[0m                         Traceback (most recent call last)",
            "\u001b[0;32m<ipython-input-275-da479a7943b9>\u001b[0m in \u001b[0;36m<module>\u001b[0;34m\u001b[0m\n\u001b[0;32m----> 1\u001b[0;31m \u001b[0mos\u001b[0m\u001b[0;34m.\u001b[0m\u001b[0mrename\u001b[0m\u001b[0;34m(\u001b[0m\u001b[0;34m\"./i-care-international-cardiac-arrest-research-consortium-database-1.0/\"\u001b[0m\u001b[0;34m,\u001b[0m \u001b[0;34m\"./data/\"\u001b[0m\u001b[0;34m)\u001b[0m\u001b[0;34m\u001b[0m\u001b[0;34m\u001b[0m\u001b[0m\n\u001b[0m",
            "\u001b[0;31mFileNotFoundError\u001b[0m: [Errno 2] No such file or directory: './i-care-international-cardiac-arrest-research-consortium-database-1.0/' -> './data/'"
          ]
        }
      ]
    },
    {
      "cell_type": "code",
      "source": [
        "print(\"Total number of patients in training set: \", len(os.listdir(\"./data/training/\")))"
      ],
      "metadata": {
        "colab": {
          "base_uri": "https://localhost:8080/"
        },
        "id": "QRLlceEzs05E",
        "outputId": "5a35a945-7818-4e47-fa57-25c3b1b146f2"
      },
      "execution_count": 276,
      "outputs": [
        {
          "output_type": "stream",
          "name": "stdout",
          "text": [
            "Total number of patients in training set:  607\n"
          ]
        }
      ]
    },
    {
      "cell_type": "code",
      "source": [
        "cnt = 0\n",
        "for root, dirs, files in os.walk(\"./data/training/\"):\n",
        "   for name in files:\n",
        "      if os.path.join(root, name).endswith(\".mat\"):\n",
        "        cnt +=1\n",
        "print(\"Total number of recordings: \", cnt)"
      ],
      "metadata": {
        "colab": {
          "base_uri": "https://localhost:8080/"
        },
        "id": "VLXy_3q2tUZI",
        "outputId": "5a0b6981-abb3-4a5c-e63a-61f7f6c18c55"
      },
      "execution_count": 277,
      "outputs": [
        {
          "output_type": "stream",
          "name": "stdout",
          "text": [
            "Total number of recordings:  23528\n"
          ]
        }
      ]
    },
    {
      "cell_type": "code",
      "source": [
        "num_rec = []\n",
        "for root, dirs, files in os.walk(\"./data/training/\"):\n",
        "   for name in files:\n",
        "      if os.path.join(root, name).endswith(\".mat\"):\n",
        "        num_rec.append(os.path.join(root, name).split(\"/\")[-2])\n",
        "num_rec = np.asarray(num_rec)\n",
        "_, num_rec_pr_pat = np.unique(num_rec, return_counts=True)"
      ],
      "metadata": {
        "id": "aailmzUcuRCe"
      },
      "execution_count": 278,
      "outputs": []
    },
    {
      "cell_type": "code",
      "source": [
        "num_rec.shape"
      ],
      "metadata": {
        "colab": {
          "base_uri": "https://localhost:8080/"
        },
        "id": "Fg7W0Y-mxn9j",
        "outputId": "321fa6be-fff5-49a8-990b-843ced063980"
      },
      "execution_count": 279,
      "outputs": [
        {
          "output_type": "execute_result",
          "data": {
            "text/plain": [
              "(23528,)"
            ]
          },
          "metadata": {},
          "execution_count": 279
        }
      ]
    },
    {
      "cell_type": "code",
      "source": [
        "plt.hist(num_rec_pr_pat, bins=30)\n",
        "plt.xlabel(\"Number of recordings\")\n",
        "plt.ylabel(\"Number of patients\")\n",
        "plt.title(\"Number of recordings among the patients\")\n",
        "plt.show()"
      ],
      "metadata": {
        "colab": {
          "base_uri": "https://localhost:8080/",
          "height": 310
        },
        "id": "9Qsqffe-ub6U",
        "outputId": "18d66ca7-cd01-464b-d121-850161c74976"
      },
      "execution_count": 280,
      "outputs": [
        {
          "output_type": "display_data",
          "data": {
            "text/plain": [
              "<Figure size 432x288 with 1 Axes>"
            ],
            "image/png": "[encoded data removed]"
          },
          "metadata": {
            "needs_background": "light"
          }
        }
      ]
    },
    {
      "cell_type": "code",
      "source": [
        "df = 0\n",
        "cnt = 0\n",
        "for root, dirs, files in os.walk(\"./data/training/\"):\n",
        "   for name in files:\n",
        "      if os.path.join(root, name).endswith(\".tsv\"):\n",
        "        df_temp = pd.read_csv(os.path.join(root, name), sep=\"\\t\").dropna()\n",
        "        if cnt == 0:\n",
        "          df = df_temp\n",
        "        else:\n",
        "          df = pd.concat([df,df_temp])\n",
        "        cnt+=1"
      ],
      "metadata": {
        "id": "YLE3HSRzv6QE"
      },
      "execution_count": 281,
      "outputs": []
    },
    {
      "cell_type": "code",
      "source": [
        "df.head()"
      ],
      "metadata": {
        "colab": {
          "base_uri": "https://localhost:8080/",
          "height": 206
        },
        "id": "3gV58SCbyQl3",
        "outputId": "5e1feac0-546f-4bb3-f82a-d378ddf4bfd4"
      },
      "execution_count": 282,
      "outputs": [
        {
          "output_type": "execute_result",
          "data": {
            "text/plain": [
              "    Hour   Time  Quality         Record\n",
              "34    35  34:55      1.0  ICARE_0829_35\n",
              "35    36  35:55      1.0  ICARE_0829_36\n",
              "36    37  36:55      1.0  ICARE_0829_37\n",
              "37    38  37:35      1.0  ICARE_0829_38\n",
              "38    39  38:55      1.0  ICARE_0829_39"
            ],
            "text/html": [
              "\n",
              "  <div id=\"df-dceaafe0-78a0-4deb-8660-9612ea75ebe0\">\n",
              "    <div class=\"colab-df-container\">\n",
              "      <div>\n",
              "<style scoped>\n",
              "    .dataframe tbody tr th:only-of-type {\n",
              "        vertical-align: middle;\n",
              "    }\n",
              "\n",
              "    .dataframe tbody tr th {\n",
              "        vertical-align: top;\n",
              "    }\n",
              "\n",
              "    .dataframe thead th {\n",
              "        text-align: right;\n",
              "    }\n",
              "</style>\n",
              "<table border=\"1\" class=\"dataframe\">\n",
              "  <thead>\n",
              "    <tr style=\"text-align: right;\">\n",
              "      <th></th>\n",
              "      <th>Hour</th>\n",
              "      <th>Time</th>\n",
              "      <th>Quality</th>\n",
              "      <th>Record</th>\n",
              "    </tr>\n",
              "  </thead>\n",
              "  <tbody>\n",
              "    <tr>\n",
              "      <th>34</th>\n",
              "      <td>35</td>\n",
              "      <td>34:55</td>\n",
              "      <td>1.0</td>\n",
              "      <td>ICARE_0829_35</td>\n",
              "    </tr>\n",
              "    <tr>\n",
              "      <th>35</th>\n",
              "      <td>36</td>\n",
              "      <td>35:55</td>\n",
              "      <td>1.0</td>\n",
              "      <td>ICARE_0829_36</td>\n",
              "    </tr>\n",
              "    <tr>\n",
              "      <th>36</th>\n",
              "      <td>37</td>\n",
              "      <td>36:55</td>\n",
              "      <td>1.0</td>\n",
              "      <td>ICARE_0829_37</td>\n",
              "    </tr>\n",
              "    <tr>\n",
              "      <th>37</th>\n",
              "      <td>38</td>\n",
              "      <td>37:35</td>\n",
              "      <td>1.0</td>\n",
              "      <td>ICARE_0829_38</td>\n",
              "    </tr>\n",
              "    <tr>\n",
              "      <th>38</th>\n",
              "      <td>39</td>\n",
              "      <td>38:55</td>\n",
              "      <td>1.0</td>\n",
              "      <td>ICARE_0829_39</td>\n",
              "    </tr>\n",
              "  </tbody>\n",
              "</table>\n",
              "</div>\n",
              "      <button class=\"colab-df-convert\" onclick=\"convertToInteractive('df-dceaafe0-78a0-4deb-8660-9612ea75ebe0')\"\n",
              "              title=\"Convert this dataframe to an interactive table.\"\n",
              "              style=\"display:none;\">\n",
              "        \n",
              "  <svg xmlns=\"http://www.w3.org/2000/svg\" height=\"24px\"viewBox=\"0 0 24 24\"\n",
              "       width=\"24px\">\n",
              "    <path d=\"M0 0h24v24H0V0z\" fill=\"none\"/>\n",
              "    <path d=\"M18.56 5.44l.94 2.06.94-2.06 2.06-.94-2.06-.94-.94-2.06-.94 2.06-2.06.94zm-11 1L8.5 8.5l.94-2.06 2.06-.94-2.06-.94L8.5 2.5l-.94 2.06-2.06.94zm10 10l.94 2.06.94-2.06 2.06-.94-2.06-.94-.94-2.06-.94 2.06-2.06.94z\"/><path d=\"M17.41 7.96l-1.37-1.37c-.4-.4-.92-.59-1.43-.59-.52 0-1.04.2-1.43.59L10.3 9.45l-7.72 7.72c-.78.78-.78 2.05 0 2.83L4 21.41c.39.39.9.59 1.41.59.51 0 1.02-.2 1.41-.59l7.78-7.78 2.81-2.81c.8-.78.8-2.07 0-2.86zM5.41 20L4 18.59l7.72-7.72 1.47 1.35L5.41 20z\"/>\n",
              "  </svg>\n",
              "      </button>\n",
              "      \n",
              "  <style>\n",
              "    .colab-df-container {\n",
              "      display:flex;\n",
              "      flex-wrap:wrap;\n",
              "      gap: 12px;\n",
              "    }\n",
              "\n",
              "    .colab-df-convert {\n",
              "      background-color: #E8F0FE;\n",
              "      border: none;\n",
              "      border-radius: 50%;\n",
              "      cursor: pointer;\n",
              "      display: none;\n",
              "      fill: #1967D2;\n",
              "      height: 32px;\n",
              "      padding: 0 0 0 0;\n",
              "      width: 32px;\n",
              "    }\n",
              "\n",
              "    .colab-df-convert:hover {\n",
              "      background-color: #E2EBFA;\n",
              "      box-shadow: 0px 1px 2px rgba(60, 64, 67, 0.3), 0px 1px 3px 1px rgba(60, 64, 67, 0.15);\n",
              "      fill: #174EA6;\n",
              "    }\n",
              "\n",
              "    [theme=dark] .colab-df-convert {\n",
              "      background-color: #3B4455;\n",
              "      fill: #D2E3FC;\n",
              "    }\n",
              "\n",
              "    [theme=dark] .colab-df-convert:hover {\n",
              "      background-color: #434B5C;\n",
              "      box-shadow: 0px 1px 3px 1px rgba(0, 0, 0, 0.15);\n",
              "      filter: drop-shadow(0px 1px 2px rgba(0, 0, 0, 0.3));\n",
              "      fill: #FFFFFF;\n",
              "    }\n",
              "  </style>\n",
              "\n",
              "      <script>\n",
              "        const buttonEl =\n",
              "          document.querySelector('#df-dceaafe0-78a0-4deb-8660-9612ea75ebe0 button.colab-df-convert');\n",
              "        buttonEl.style.display =\n",
              "          google.colab.kernel.accessAllowed ? 'block' : 'none';\n",
              "\n",
              "        async function convertToInteractive(key) {\n",
              "          const element = document.querySelector('#df-dceaafe0-78a0-4deb-8660-9612ea75ebe0');\n",
              "          const dataTable =\n",
              "            await google.colab.kernel.invokeFunction('convertToInteractive',\n",
              "                                                     [key], {});\n",
              "          if (!dataTable) return;\n",
              "\n",
              "          const docLinkHtml = 'Like what you see? Visit the ' +\n",
              "            '<a target=\"_blank\" href=https://colab.research.google.com/notebooks/data_table.ipynb>data table notebook</a>'\n",
              "            + ' to learn more about interactive tables.';\n",
              "          element.innerHTML = '';\n",
              "          dataTable['output_type'] = 'display_data';\n",
              "          await google.colab.output.renderOutput(dataTable, element);\n",
              "          const docLink = document.createElement('div');\n",
              "          docLink.innerHTML = docLinkHtml;\n",
              "          element.appendChild(docLink);\n",
              "        }\n",
              "      </script>\n",
              "    </div>\n",
              "  </div>\n",
              "  "
            ]
          },
          "metadata": {},
          "execution_count": 282
        }
      ]
    },
    {
      "cell_type": "code",
      "source": [
        "plt.hist(df[\"Quality\"], bins=100)\n",
        "plt.xlabel(\"Recording quality\")\n",
        "plt.ylabel(\"Number of recordings\")\n",
        "plt.title(\"Quality among the recordings\")\n",
        "plt.show()"
      ],
      "metadata": {
        "colab": {
          "base_uri": "https://localhost:8080/",
          "height": 310
        },
        "id": "0kbOXKG8yIrR",
        "outputId": "13f6a82a-c7cf-408b-ee07-4a825997e4fa"
      },
      "execution_count": 283,
      "outputs": [
        {
          "output_type": "display_data",
          "data": {
            "text/plain": [
              "<Figure size 432x288 with 1 Axes>"
            ],
            "image/png": "[encoded data removed]"
          },
          "metadata": {
            "needs_background": "light"
          }
        }
      ]
    },
    {
      "cell_type": "code",
      "source": [
        "print(\"Number of signals with quality equal to 1.0 = \", np.where(df[\"Quality\"] == 1.0)[0].shape[0])\n",
        "print(\"Percent of total signal with quality equal to 1.0 = \", round((np.where(df[\"Quality\"] == 1.0)[0].shape[0]/df.shape[0])*100,2))"
      ],
      "metadata": {
        "colab": {
          "base_uri": "https://localhost:8080/"
        },
        "id": "FsemxGaqyovT",
        "outputId": "febbcb20-b0f5-47f8-e4dd-2d68788b4d59"
      },
      "execution_count": 284,
      "outputs": [
        {
          "output_type": "stream",
          "name": "stdout",
          "text": [
            "Number of signals with quality equal to 1.0 =  18235\n",
            "Percent of total signal with quality equal to 1.0 =  77.5\n"
          ]
        }
      ]
    },
    {
      "cell_type": "code",
      "source": [
        "print(\"Number of signals with quality less than 1.0 = \", np.where(df[\"Quality\"] != 1.0)[0].shape[0])\n",
        "print(\"Percent of total signal with quality less than 1.0 = \", round((np.where(df[\"Quality\"] != 1.0)[0].shape[0]/df.shape[0])*100,2))"
      ],
      "metadata": {
        "colab": {
          "base_uri": "https://localhost:8080/"
        },
        "id": "geTMwdOFywD_",
        "outputId": "fde95c8e-d699-4023-b619-de979db6abac"
      },
      "execution_count": 285,
      "outputs": [
        {
          "output_type": "stream",
          "name": "stdout",
          "text": [
            "Number of signals with quality less than 1.0 =  5293\n",
            "Percent of total signal with quality less than 1.0 =  22.5\n"
          ]
        }
      ]
    },
    {
      "cell_type": "code",
      "source": [
        "print(\"Number of signals with quality less than 0.75 = \", np.where(df[\"Quality\"] < 0.75)[0].shape[0])\n",
        "print(\"Percent of total signal with quality less than 0.75 = \", round((np.where(df[\"Quality\"] < 0.75)[0].shape[0]/df.shape[0])*100,2))"
      ],
      "metadata": {
        "colab": {
          "base_uri": "https://localhost:8080/"
        },
        "id": "8BQl2hb8yCV-",
        "outputId": "bb65ad4b-b7e3-4e66-b229-26d056b2f5fb"
      },
      "execution_count": 286,
      "outputs": [
        {
          "output_type": "stream",
          "name": "stdout",
          "text": [
            "Number of signals with quality less than 0.75 =  2338\n",
            "Percent of total signal with quality less than 0.75 =  9.94\n"
          ]
        }
      ]
    },
    {
      "cell_type": "code",
      "source": [
        "print(\"Number of signals with quality less than 0.5 = \", np.where(df[\"Quality\"] < 0.5)[0].shape[0])\n",
        "print(\"Percent of total signal with quality less than 0.5 = \", round((np.where(df[\"Quality\"] < 0.5)[0].shape[0]/df.shape[0])*100,2))"
      ],
      "metadata": {
        "colab": {
          "base_uri": "https://localhost:8080/"
        },
        "id": "F6len2Zkxjw8",
        "outputId": "781d36da-4353-4fbf-9271-190a3b3245ab"
      },
      "execution_count": 287,
      "outputs": [
        {
          "output_type": "stream",
          "name": "stdout",
          "text": [
            "Number of signals with quality less than 0.5 =  1756\n",
            "Percent of total signal with quality less than 0.5 =  7.46\n"
          ]
        }
      ]
    },
    {
      "cell_type": "code",
      "source": [
        "print(\"Number of signals with quality less than 0.25 = \", np.where(df[\"Quality\"] < 0.25)[0].shape[0])\n",
        "print(\"Percent of total signal with quality less than 0.25 = \", round((np.where(df[\"Quality\"] < 0.25)[0].shape[0]/df.shape[0])*100,2))"
      ],
      "metadata": {
        "colab": {
          "base_uri": "https://localhost:8080/"
        },
        "id": "KD9kumxPxBaM",
        "outputId": "85a7b824-bee8-4cbb-e716-66ccfcef125b"
      },
      "execution_count": 288,
      "outputs": [
        {
          "output_type": "stream",
          "name": "stdout",
          "text": [
            "Number of signals with quality less than 0.25 =  1069\n",
            "Percent of total signal with quality less than 0.25 =  4.54\n"
          ]
        }
      ]
    },
    {
      "cell_type": "code",
      "source": [
        "df[\"Record\"].str.rsplit(\"_\",n=1).str[0]"
      ],
      "metadata": {
        "colab": {
          "base_uri": "https://localhost:8080/"
        },
        "id": "wgPgl_dP1FDY",
        "outputId": "22e6128f-f4e0-4ac5-fa50-4f6201c1c328"
      },
      "execution_count": 289,
      "outputs": [
        {
          "output_type": "execute_result",
          "data": {
            "text/plain": [
              "34    ICARE_0829\n",
              "35    ICARE_0829\n",
              "36    ICARE_0829\n",
              "37    ICARE_0829\n",
              "38    ICARE_0829\n",
              "         ...    \n",
              "57    ICARE_0874\n",
              "58    ICARE_0874\n",
              "59    ICARE_0874\n",
              "60    ICARE_0874\n",
              "61    ICARE_0874\n",
              "Name: Record, Length: 23528, dtype: object"
            ]
          },
          "metadata": {},
          "execution_count": 289
        }
      ]
    },
    {
      "cell_type": "code",
      "source": [
        "df[\"Patient\"] = df[\"Record\"].str.rsplit(\"_\",n=1).str[0]"
      ],
      "metadata": {
        "id": "7ySnIfEM0_xO"
      },
      "execution_count": 290,
      "outputs": []
    },
    {
      "cell_type": "code",
      "source": [
        "df.head()"
      ],
      "metadata": {
        "colab": {
          "base_uri": "https://localhost:8080/",
          "height": 206
        },
        "id": "2R6sqfDswAV8",
        "outputId": "db61654c-b923-4cf5-c678-32a985c6175a"
      },
      "execution_count": 291,
      "outputs": [
        {
          "output_type": "execute_result",
          "data": {
            "text/plain": [
              "    Hour   Time  Quality         Record     Patient\n",
              "34    35  34:55      1.0  ICARE_0829_35  ICARE_0829\n",
              "35    36  35:55      1.0  ICARE_0829_36  ICARE_0829\n",
              "36    37  36:55      1.0  ICARE_0829_37  ICARE_0829\n",
              "37    38  37:35      1.0  ICARE_0829_38  ICARE_0829\n",
              "38    39  38:55      1.0  ICARE_0829_39  ICARE_0829"
            ],
            "text/html": [
              "\n",
              "  <div id=\"df-250ceaef-667f-4b59-addd-4b15bd8f41f1\">\n",
              "    <div class=\"colab-df-container\">\n",
              "      <div>\n",
              "<style scoped>\n",
              "    .dataframe tbody tr th:only-of-type {\n",
              "        vertical-align: middle;\n",
              "    }\n",
              "\n",
              "    .dataframe tbody tr th {\n",
              "        vertical-align: top;\n",
              "    }\n",
              "\n",
              "    .dataframe thead th {\n",
              "        text-align: right;\n",
              "    }\n",
              "</style>\n",
              "<table border=\"1\" class=\"dataframe\">\n",
              "  <thead>\n",
              "    <tr style=\"text-align: right;\">\n",
              "      <th></th>\n",
              "      <th>Hour</th>\n",
              "      <th>Time</th>\n",
              "      <th>Quality</th>\n",
              "      <th>Record</th>\n",
              "      <th>Patient</th>\n",
              "    </tr>\n",
              "  </thead>\n",
              "  <tbody>\n",
              "    <tr>\n",
              "      <th>34</th>\n",
              "      <td>35</td>\n",
              "      <td>34:55</td>\n",
              "      <td>1.0</td>\n",
              "      <td>ICARE_0829_35</td>\n",
              "      <td>ICARE_0829</td>\n",
              "    </tr>\n",
              "    <tr>\n",
              "      <th>35</th>\n",
              "      <td>36</td>\n",
              "      <td>35:55</td>\n",
              "      <td>1.0</td>\n",
              "      <td>ICARE_0829_36</td>\n",
              "      <td>ICARE_0829</td>\n",
              "    </tr>\n",
              "    <tr>\n",
              "      <th>36</th>\n",
              "      <td>37</td>\n",
              "      <td>36:55</td>\n",
              "      <td>1.0</td>\n",
              "      <td>ICARE_0829_37</td>\n",
              "      <td>ICARE_0829</td>\n",
              "    </tr>\n",
              "    <tr>\n",
              "      <th>37</th>\n",
              "      <td>38</td>\n",
              "      <td>37:35</td>\n",
              "      <td>1.0</td>\n",
              "      <td>ICARE_0829_38</td>\n",
              "      <td>ICARE_0829</td>\n",
              "    </tr>\n",
              "    <tr>\n",
              "      <th>38</th>\n",
              "      <td>39</td>\n",
              "      <td>38:55</td>\n",
              "      <td>1.0</td>\n",
              "      <td>ICARE_0829_39</td>\n",
              "      <td>ICARE_0829</td>\n",
              "    </tr>\n",
              "  </tbody>\n",
              "</table>\n",
              "</div>\n",
              "      <button class=\"colab-df-convert\" onclick=\"convertToInteractive('df-250ceaef-667f-4b59-addd-4b15bd8f41f1')\"\n",
              "              title=\"Convert this dataframe to an interactive table.\"\n",
              "              style=\"display:none;\">\n",
              "        \n",
              "  <svg xmlns=\"http://www.w3.org/2000/svg\" height=\"24px\"viewBox=\"0 0 24 24\"\n",
              "       width=\"24px\">\n",
              "    <path d=\"M0 0h24v24H0V0z\" fill=\"none\"/>\n",
              "    <path d=\"M18.56 5.44l.94 2.06.94-2.06 2.06-.94-2.06-.94-.94-2.06-.94 2.06-2.06.94zm-11 1L8.5 8.5l.94-2.06 2.06-.94-2.06-.94L8.5 2.5l-.94 2.06-2.06.94zm10 10l.94 2.06.94-2.06 2.06-.94-2.06-.94-.94-2.06-.94 2.06-2.06.94z\"/><path d=\"M17.41 7.96l-1.37-1.37c-.4-.4-.92-.59-1.43-.59-.52 0-1.04.2-1.43.59L10.3 9.45l-7.72 7.72c-.78.78-.78 2.05 0 2.83L4 21.41c.39.39.9.59 1.41.59.51 0 1.02-.2 1.41-.59l7.78-7.78 2.81-2.81c.8-.78.8-2.07 0-2.86zM5.41 20L4 18.59l7.72-7.72 1.47 1.35L5.41 20z\"/>\n",
              "  </svg>\n",
              "      </button>\n",
              "      \n",
              "  <style>\n",
              "    .colab-df-container {\n",
              "      display:flex;\n",
              "      flex-wrap:wrap;\n",
              "      gap: 12px;\n",
              "    }\n",
              "\n",
              "    .colab-df-convert {\n",
              "      background-color: #E8F0FE;\n",
              "      border: none;\n",
              "      border-radius: 50%;\n",
              "      cursor: pointer;\n",
              "      display: none;\n",
              "      fill: #1967D2;\n",
              "      height: 32px;\n",
              "      padding: 0 0 0 0;\n",
              "      width: 32px;\n",
              "    }\n",
              "\n",
              "    .colab-df-convert:hover {\n",
              "      background-color: #E2EBFA;\n",
              "      box-shadow: 0px 1px 2px rgba(60, 64, 67, 0.3), 0px 1px 3px 1px rgba(60, 64, 67, 0.15);\n",
              "      fill: #174EA6;\n",
              "    }\n",
              "\n",
              "    [theme=dark] .colab-df-convert {\n",
              "      background-color: #3B4455;\n",
              "      fill: #D2E3FC;\n",
              "    }\n",
              "\n",
              "    [theme=dark] .colab-df-convert:hover {\n",
              "      background-color: #434B5C;\n",
              "      box-shadow: 0px 1px 3px 1px rgba(0, 0, 0, 0.15);\n",
              "      filter: drop-shadow(0px 1px 2px rgba(0, 0, 0, 0.3));\n",
              "      fill: #FFFFFF;\n",
              "    }\n",
              "  </style>\n",
              "\n",
              "      <script>\n",
              "        const buttonEl =\n",
              "          document.querySelector('#df-250ceaef-667f-4b59-addd-4b15bd8f41f1 button.colab-df-convert');\n",
              "        buttonEl.style.display =\n",
              "          google.colab.kernel.accessAllowed ? 'block' : 'none';\n",
              "\n",
              "        async function convertToInteractive(key) {\n",
              "          const element = document.querySelector('#df-250ceaef-667f-4b59-addd-4b15bd8f41f1');\n",
              "          const dataTable =\n",
              "            await google.colab.kernel.invokeFunction('convertToInteractive',\n",
              "                                                     [key], {});\n",
              "          if (!dataTable) return;\n",
              "\n",
              "          const docLinkHtml = 'Like what you see? Visit the ' +\n",
              "            '<a target=\"_blank\" href=https://colab.research.google.com/notebooks/data_table.ipynb>data table notebook</a>'\n",
              "            + ' to learn more about interactive tables.';\n",
              "          element.innerHTML = '';\n",
              "          dataTable['output_type'] = 'display_data';\n",
              "          await google.colab.output.renderOutput(dataTable, element);\n",
              "          const docLink = document.createElement('div');\n",
              "          docLink.innerHTML = docLinkHtml;\n",
              "          element.appendChild(docLink);\n",
              "        }\n",
              "      </script>\n",
              "    </div>\n",
              "  </div>\n",
              "  "
            ]
          },
          "metadata": {},
          "execution_count": 291
        }
      ]
    },
    {
      "cell_type": "code",
      "source": [
        "plt.hist(df.groupby(\"Patient\")[\"Quality\"].mean())\n",
        "plt.show()"
      ],
      "metadata": {
        "colab": {
          "base_uri": "https://localhost:8080/",
          "height": 270
        },
        "id": "7V9A55sUv2B_",
        "outputId": "dcc3560a-00a5-405f-b79a-a927e07827bd"
      },
      "execution_count": 292,
      "outputs": [
        {
          "output_type": "display_data",
          "data": {
            "text/plain": [
              "<Figure size 432x288 with 1 Axes>"
            ],
            "image/png": "[encoded data removed]"
          },
          "metadata": {
            "needs_background": "light"
          }
        }
      ]
    },
    {
      "cell_type": "code",
      "source": [
        "patient_data =  load_text_file(\"/content/data/training/ICARE_0284/ICARE_0284.txt\")"
      ],
      "metadata": {
        "id": "1D9pQWmOzUC-"
      },
      "execution_count": 293,
      "outputs": []
    },
    {
      "cell_type": "code",
      "source": [
        "patient_data.split(\"\\n\")"
      ],
      "metadata": {
        "colab": {
          "base_uri": "https://localhost:8080/"
        },
        "id": "OSpWmMoe0w10",
        "outputId": "9eb14fc2-0e2a-4f0e-8223-717516528e26"
      },
      "execution_count": 294,
      "outputs": [
        {
          "output_type": "execute_result",
          "data": {
            "text/plain": [
              "['Patient: ICARE_0284',\n",
              " 'Age: 53',\n",
              " 'Sex: Male',\n",
              " 'ROSC: nan',\n",
              " 'OHCA: True',\n",
              " 'VFib: True',\n",
              " 'TTM: 33',\n",
              " 'Outcome: Good',\n",
              " 'CPC: 1',\n",
              " '']"
            ]
          },
          "metadata": {},
          "execution_count": 294
        }
      ]
    },
    {
      "cell_type": "code",
      "source": [
        "get_outcome(patient_data)"
      ],
      "metadata": {
        "colab": {
          "base_uri": "https://localhost:8080/"
        },
        "id": "yHFK0FD40hxL",
        "outputId": "9c67fbc1-a1c4-4974-c4f4-c26975647fa7"
      },
      "execution_count": 295,
      "outputs": [
        {
          "output_type": "execute_result",
          "data": {
            "text/plain": [
              "0"
            ]
          },
          "metadata": {},
          "execution_count": 295
        }
      ]
    },
    {
      "cell_type": "code",
      "source": [
        "patient = []\n",
        "age = []\n",
        "sex = []\n",
        "rosc = []\n",
        "ohca = []\n",
        "vfib = []\n",
        "ttm = []\n",
        "outcome = []\n",
        "outcome_prob = []\n",
        "cpc = []\n",
        "\n",
        "for root, dirs, files in os.walk(\"./data/training/\"):\n",
        "   for name in files:\n",
        "      if os.path.join(root, name).endswith(\".txt\"):\n",
        "        patient_data = load_text_file(os.path.join(root, name))\n",
        "        patient.append(get_patient_id(patient_data))\n",
        "        age.append(get_age(patient_data))\n",
        "        sex.append(get_sex(patient_data))\n",
        "        rosc.append(get_rosc(patient_data))\n",
        "        ohca.append(get_ohca(patient_data))\n",
        "        vfib.append(get_vfib(patient_data))\n",
        "        ttm.append(get_ttm(patient_data))\n",
        "        outcome.append(get_outcome(patient_data))\n",
        "        #outcome_prob.append(get_outcome_probability(patient_data))\n",
        "        cpc.append(get_cpc(patient_data))\n",
        "patient = np.asarray(patient)\n",
        "age = np.asarray(age)\n",
        "sex = np.asarray(sex)\n",
        "rosc = np.asarray(rosc)\n",
        "ohca = np.asarray(ohca)\n",
        "vfib = np.asarray(vfib)\n",
        "ttm = np.asarray(ttm)\n",
        "outcome = np.asarray(outcome)\n",
        "outcome_prob =np.asarray(outcome_prob)\n",
        "cpc = np.asarray(cpc)"
      ],
      "metadata": {
        "id": "rON7sP3YyZ4y"
      },
      "execution_count": 296,
      "outputs": []
    },
    {
      "cell_type": "code",
      "source": [
        "plt.hist(age, bins=20)\n",
        "plt.xlabel(\"Age\")\n",
        "plt.ylabel(\"Count\")\n",
        "plt.show()"
      ],
      "metadata": {
        "colab": {
          "base_uri": "https://localhost:8080/",
          "height": 289
        },
        "id": "5yRrokjN4G5_",
        "outputId": "75951591-9712-4346-eeb8-90094e68b562"
      },
      "execution_count": 297,
      "outputs": [
        {
          "output_type": "display_data",
          "data": {
            "text/plain": [
              "<Figure size 432x288 with 1 Axes>"
            ],
            "image/png": "[encoded data removed]"
          },
          "metadata": {
            "needs_background": "light"
          }
        }
      ]
    },
    {
      "cell_type": "code",
      "source": [
        "label, value = np.unique(sex, return_counts=True)"
      ],
      "metadata": {
        "id": "hp4xBhJ_4sdS"
      },
      "execution_count": 298,
      "outputs": []
    },
    {
      "cell_type": "code",
      "source": [
        "plt.figure(figsize=(8,8))\n",
        "plt.title(\"Gender distribution\")\n",
        "plt.pie(value, labels = label, autopct='%1.1f%%')\n",
        "plt.show()"
      ],
      "metadata": {
        "colab": {
          "base_uri": "https://localhost:8080/",
          "height": 487
        },
        "id": "IETWQMT24aD9",
        "outputId": "b2233d4f-b472-42d8-e81d-51f2bd4ae0b0"
      },
      "execution_count": 299,
      "outputs": [
        {
          "output_type": "display_data",
          "data": {
            "text/plain": [
              "<Figure size 576x576 with 1 Axes>"
            ],
            "image/png": "[encoded data removed]"
          },
          "metadata": {}
        }
      ]
    },
    {
      "cell_type": "code",
      "source": [
        "plt.figure(figsize=(8,8))\n",
        "plt.title(\"Information about return of spontaneous circulation (training data)\")\n",
        "lab,cnt = np.unique(np.isnan(rosc)*1,return_counts=True)\n",
        "plt.pie(cnt,labels=[\"Value\",\"Missing value\"],autopct='%1.1f%%')\n",
        "plt.show()"
      ],
      "metadata": {
        "colab": {
          "base_uri": "https://localhost:8080/",
          "height": 487
        },
        "id": "PKaJBJF77G4A",
        "outputId": "a832bc94-4621-4021-c5c8-977e819b90e2"
      },
      "execution_count": 300,
      "outputs": [
        {
          "output_type": "display_data",
          "data": {
            "text/plain": [
              "<Figure size 576x576 with 1 Axes>"
            ],
            "image/png": "[encoded data removed]"
          },
          "metadata": {}
        }
      ]
    },
    {
      "cell_type": "code",
      "source": [
        "plt.title(\"Return of spontaneous circulation\")\n",
        "plt.hist(rosc)\n",
        "plt.xlabel(\"Time to return of spontaneous circulation (min)\")\n",
        "plt.ylabel(\"Count\")\n",
        "plt.show()"
      ],
      "metadata": {
        "colab": {
          "base_uri": "https://localhost:8080/",
          "height": 310
        },
        "id": "avHsh9sB6hyV",
        "outputId": "467fbd97-605a-4a1f-c340-30ebc4b81924"
      },
      "execution_count": 301,
      "outputs": [
        {
          "output_type": "display_data",
          "data": {
            "text/plain": [
              "<Figure size 432x288 with 1 Axes>"
            ],
            "image/png": "[encoded data removed]"
          },
          "metadata": {
            "needs_background": "light"
          }
        }
      ]
    },
    {
      "cell_type": "code",
      "source": [
        "np.unique(ohca,return_counts=True)"
      ],
      "metadata": {
        "colab": {
          "base_uri": "https://localhost:8080/"
        },
        "id": "hF8a4dAA8Zy1",
        "outputId": "1ecfa115-6c0c-4ffc-f6ee-0294f30073a6"
      },
      "execution_count": 302,
      "outputs": [
        {
          "output_type": "execute_result",
          "data": {
            "text/plain": [
              "(array([ 1., nan]), array([566,  41]))"
            ]
          },
          "metadata": {},
          "execution_count": 302
        }
      ]
    },
    {
      "cell_type": "code",
      "source": [
        "plt.figure(figsize=(8,8))\n",
        "plt.title(\"Out of hospital cardiac arrest\")\n",
        "lab,cnt = np.unique(np.isnan(ohca)*1,return_counts=True)\n",
        "plt.pie(cnt,labels=[\"Out of hospital cardiac arrest\",\"Missing value\"],autopct='%1.1f%%')\n",
        "plt.show()"
      ],
      "metadata": {
        "colab": {
          "base_uri": "https://localhost:8080/",
          "height": 487
        },
        "id": "61kW72vn8v-g",
        "outputId": "e2da2aba-7d18-4986-d17e-90be6839fa66"
      },
      "execution_count": 303,
      "outputs": [
        {
          "output_type": "display_data",
          "data": {
            "text/plain": [
              "<Figure size 576x576 with 1 Axes>"
            ],
            "image/png": "[encoded data removed]"
          },
          "metadata": {}
        }
      ]
    },
    {
      "cell_type": "code",
      "source": [
        "plt.figure(figsize=(8,8))\n",
        "plt.title(\"Vfib - Shockable rythm\")\n",
        "lab,cnt = np.unique(np.isnan(vfib)*1,return_counts=True)\n",
        "plt.pie(cnt,labels=[\"Shockable\",\"Missing value\"],autopct='%1.1f%%')\n",
        "plt.show()"
      ],
      "metadata": {
        "colab": {
          "base_uri": "https://localhost:8080/",
          "height": 487
        },
        "id": "B1bFmOpX9D0S",
        "outputId": "9dd5efd9-9b8f-4fae-9778-a95af88073a4"
      },
      "execution_count": 304,
      "outputs": [
        {
          "output_type": "display_data",
          "data": {
            "text/plain": [
              "<Figure size 576x576 with 1 Axes>"
            ],
            "image/png": "[encoded data removed]"
          },
          "metadata": {}
        }
      ]
    },
    {
      "cell_type": "code",
      "source": [
        "np.unique(ttm, return_counts=True)"
      ],
      "metadata": {
        "colab": {
          "base_uri": "https://localhost:8080/"
        },
        "id": "JdppJcW4zCRz",
        "outputId": "b0f431e9-1409-45d6-ddc0-e6fd7cc47641"
      },
      "execution_count": 305,
      "outputs": [
        {
          "output_type": "execute_result",
          "data": {
            "text/plain": [
              "(array([33., 36., nan]), array([448,  61,  98]))"
            ]
          },
          "metadata": {},
          "execution_count": 305
        }
      ]
    },
    {
      "cell_type": "code",
      "source": [
        "plt.figure(figsize=(8,8))\n",
        "plt.title(\"Targeted temperature management (celcius)\")\n",
        "lab,cnt = np.unique(ttm,return_counts=True)\n",
        "plt.pie(cnt,labels=[\"33\",\"36\",\"nan\"],autopct='%1.1f%%')\n",
        "plt.show()"
      ],
      "metadata": {
        "colab": {
          "base_uri": "https://localhost:8080/",
          "height": 487
        },
        "id": "MkdImQzk-Zn9",
        "outputId": "fb79cb4a-a619-4401-aea6-dad06e89c8f1"
      },
      "execution_count": 306,
      "outputs": [
        {
          "output_type": "display_data",
          "data": {
            "text/plain": [
              "<Figure size 576x576 with 1 Axes>"
            ],
            "image/png": "[encoded data removed]"
          },
          "metadata": {}
        }
      ]
    },
    {
      "cell_type": "code",
      "source": [
        "plt.figure(figsize=(8,8))\n",
        "plt.title(\"Outcome\")\n",
        "lab,cnt = np.unique(outcome,return_counts=True)\n",
        "plt.pie(cnt,labels=[\"Good (CPC score of 1-2)\", \"Poor (CPC score of 3-5)\"],autopct='%1.1f%%')\n",
        "plt.show()"
      ],
      "metadata": {
        "colab": {
          "base_uri": "https://localhost:8080/",
          "height": 487
        },
        "id": "tXZsvUk9y1fz",
        "outputId": "57d4ebc0-f08e-4386-dbc8-148e21fe02a1"
      },
      "execution_count": 307,
      "outputs": [
        {
          "output_type": "display_data",
          "data": {
            "text/plain": [
              "<Figure size 576x576 with 1 Axes>"
            ],
            "image/png": "[encoded data removed]"
          },
          "metadata": {}
        }
      ]
    },
    {
      "cell_type": "code",
      "source": [
        "plt.figure(figsize=(8,8))\n",
        "plt.title(\"CPC score\")\n",
        "lab,cnt = np.unique(cpc,return_counts=True)\n",
        "plt.bar(x=lab , height=cnt)\n",
        "plt.show()"
      ],
      "metadata": {
        "colab": {
          "base_uri": "https://localhost:8080/",
          "height": 509
        },
        "id": "qQUJc2hd-8YX",
        "outputId": "432cfc81-4583-4beb-c57b-f8180b50bb27"
      },
      "execution_count": 308,
      "outputs": [
        {
          "output_type": "display_data",
          "data": {
            "text/plain": [
              "<Figure size 576x576 with 1 Axes>"
            ],
            "image/png": "[encoded data removed]"
          },
          "metadata": {
            "needs_background": "light"
          }
        }
      ]
    },
    {
      "cell_type": "code",
      "source": [
        "np.unique(df[\"Record\"].str.rsplit(\"_\",n=1).str[1].astype(int),return_counts=True)"
      ],
      "metadata": {
        "colab": {
          "base_uri": "https://localhost:8080/"
        },
        "id": "Plj2YwnfARon",
        "outputId": "f7e3e251-2bb5-4d1e-8050-bc43b2c5469f"
      },
      "execution_count": 313,
      "outputs": [
        {
          "output_type": "execute_result",
          "data": {
            "text/plain": [
              "(array([ 1,  2,  3,  4,  5,  6,  7,  8,  9, 10, 11, 12, 13, 14, 15, 16, 17,\n",
              "        18, 19, 20, 21, 22, 23, 24, 25, 26, 27, 28, 29, 30, 31, 32, 33, 34,\n",
              "        35, 36, 37, 38, 39, 40, 41, 42, 43, 44, 45, 46, 47, 48, 49, 50, 51,\n",
              "        52, 53, 54, 55, 56, 57, 58, 59, 60, 61, 62, 63, 64, 65, 66, 67, 68,\n",
              "        69, 70, 71, 72]),\n",
              " array([  3,   6,  24,  54,  94, 150, 175, 189, 214, 240, 266, 281, 298,\n",
              "        323, 335, 351, 368, 399, 408, 421, 443, 458, 457, 465, 468, 469,\n",
              "        464, 472, 469, 466, 469, 466, 462, 449, 439, 436, 428, 426, 416,\n",
              "        418, 417, 415, 404, 401, 386, 382, 369, 357, 355, 340, 331, 323,\n",
              "        317, 315, 312, 306, 302, 292, 294, 288, 285, 278, 275, 268, 262,\n",
              "        250, 242, 236, 232, 226, 216, 213]))"
            ]
          },
          "metadata": {},
          "execution_count": 313
        }
      ]
    },
    {
      "cell_type": "code",
      "source": [
        "plt.figure(figsize=(8,8))\n",
        "plt.title(\"num recordings from 0 to 72 hours \")\n",
        "lab,cnt = np.unique(df[\"Record\"].str.rsplit(\"_\",n=1).str[1].astype(int),return_counts=True)\n",
        "plt.bar(x=lab , height=cnt)\n",
        "plt.show()"
      ],
      "metadata": {
        "colab": {
          "base_uri": "https://localhost:8080/",
          "height": 509
        },
        "id": "NDjPFeuMAhQl",
        "outputId": "e8c770da-dcec-42ae-b1c5-995bfac19990"
      },
      "execution_count": 314,
      "outputs": [
        {
          "output_type": "display_data",
          "data": {
            "text/plain": [
              "<Figure size 576x576 with 1 Axes>"
            ],
            "image/png": "[encoded data removed]"
          },
          "metadata": {
            "needs_background": "light"
          }
        }
      ]
    },
    {
      "cell_type": "code",
      "source": [
        "timeslots = np.asarray([(0,12),(12,24),(24,48),(48,72)])"
      ],
      "metadata": {
        "id": "yQAaO2ZmBHcB"
      },
      "execution_count": 317,
      "outputs": []
    },
    {
      "cell_type": "code",
      "source": [
        "rec_after_time = np.zeros((timeslots.shape[0],607))\n",
        "for num,i in enumerate(timeslots):\n",
        "  cnt = 0\n",
        "  for root, dirs, files in os.walk(\"./data/training/\"):\n",
        "    for name in files:\n",
        "        if os.path.join(root, name).endswith(\".tsv\"):\n",
        "          df_temp = pd.read_csv(os.path.join(root, name), sep=\"\\t\")\n",
        "          rec_after_time[num,cnt] = df_temp[i[0]:i[1]].dropna().shape[0]\n",
        "          cnt+=1"
      ],
      "metadata": {
        "id": "kL4GsFN_CUnv"
      },
      "execution_count": 332,
      "outputs": []
    },
    {
      "cell_type": "markdown",
      "source": [
        "## 0 to 12 hours"
      ],
      "metadata": {
        "id": "btsC3iQZGCNs"
      }
    },
    {
      "cell_type": "code",
      "source": [
        "plt.figure(figsize=(8,8))\n",
        "plt.title(\"Recordings from 0 to 12 hours\")\n",
        "lab,cnt = np.unique(rec_after_time[0] == 0,return_counts=True)\n",
        "plt.pie(cnt,labels=[\"Yes\", \"No\"],autopct='%1.1f%%')\n",
        "plt.show()"
      ],
      "metadata": {
        "colab": {
          "base_uri": "https://localhost:8080/",
          "height": 487
        },
        "id": "j6JydpKtFh7d",
        "outputId": "1299be27-2c73-4c69-e7b7-d9a0554211a0"
      },
      "execution_count": 340,
      "outputs": [
        {
          "output_type": "display_data",
          "data": {
            "text/plain": [
              "<Figure size 576x576 with 1 Axes>"
            ],
            "image/png": "[encoded data removed]"
          },
          "metadata": {}
        }
      ]
    },
    {
      "cell_type": "code",
      "source": [
        "plt.figure(figsize=(8,8))\n",
        "plt.title(\"num recordings from 0 to 12 hours\")\n",
        "lab,cnt = np.unique(rec_after_time[0],return_counts=True)\n",
        "plt.bar(x=lab , height=cnt)\n",
        "plt.show()"
      ],
      "metadata": {
        "colab": {
          "base_uri": "https://localhost:8080/",
          "height": 509
        },
        "id": "gZVFcr7zFKU3",
        "outputId": "14275efb-70bb-46b5-943d-23639caf6a55"
      },
      "execution_count": 336,
      "outputs": [
        {
          "output_type": "display_data",
          "data": {
            "text/plain": [
              "<Figure size 576x576 with 1 Axes>"
            ],
            "image/png": "[encoded data removed]"
          },
          "metadata": {
            "needs_background": "light"
          }
        }
      ]
    },
    {
      "cell_type": "markdown",
      "source": [
        "## 12 to 24 hours"
      ],
      "metadata": {
        "id": "CCmV-CWTGFE1"
      }
    },
    {
      "cell_type": "code",
      "source": [
        "plt.figure(figsize=(8,8))\n",
        "plt.title(\"Recordings from 12 to 24 hours\")\n",
        "lab,cnt = np.unique(rec_after_time[1] == 0,return_counts=True)\n",
        "plt.pie(cnt,labels=[\"Yes\", \"No\"],autopct='%1.1f%%')\n",
        "plt.show()"
      ],
      "metadata": {
        "colab": {
          "base_uri": "https://localhost:8080/",
          "height": 487
        },
        "id": "_zyfZikpCn2i",
        "outputId": "5f014593-8a82-44d4-b762-2943ffc267fa"
      },
      "execution_count": 342,
      "outputs": [
        {
          "output_type": "display_data",
          "data": {
            "text/plain": [
              "<Figure size 576x576 with 1 Axes>"
            ],
            "image/png": "[encoded data removed]"
          },
          "metadata": {}
        }
      ]
    },
    {
      "cell_type": "code",
      "source": [
        "plt.figure(figsize=(8,8))\n",
        "plt.title(\"num recordings from 12 to 24 hours\")\n",
        "lab,cnt = np.unique(rec_after_time[1],return_counts=True)\n",
        "plt.bar(x=lab , height=cnt)\n",
        "plt.show()"
      ],
      "metadata": {
        "colab": {
          "base_uri": "https://localhost:8080/",
          "height": 509
        },
        "id": "8rd_vsTAF2wl",
        "outputId": "424f282c-1db9-4968-cb72-ccb62347728a"
      },
      "execution_count": 358,
      "outputs": [
        {
          "output_type": "display_data",
          "data": {
            "text/plain": [
              "<Figure size 576x576 with 1 Axes>"
            ],
            "image/png": "[encoded data removed]"
          },
          "metadata": {
            "needs_background": "light"
          }
        }
      ]
    },
    {
      "cell_type": "markdown",
      "source": [
        "## 24 to 48 hours"
      ],
      "metadata": {
        "id": "byRKE0F-GKED"
      }
    },
    {
      "cell_type": "code",
      "source": [
        "plt.figure(figsize=(8,8))\n",
        "plt.title(\"Recordings from 24 to 48 hours\")\n",
        "lab,cnt = np.unique(rec_after_time[2] == 0,return_counts=True)\n",
        "plt.pie(cnt,labels=[\"Yes\", \"No\"],autopct='%1.1f%%')\n",
        "plt.show()"
      ],
      "metadata": {
        "colab": {
          "base_uri": "https://localhost:8080/",
          "height": 487
        },
        "id": "8TV4DD-7F_Hc",
        "outputId": "dc34d311-475d-457a-fd5f-c61875e6c92b"
      },
      "execution_count": 346,
      "outputs": [
        {
          "output_type": "display_data",
          "data": {
            "text/plain": [
              "<Figure size 576x576 with 1 Axes>"
            ],
            "image/png": "[encoded data removed]"
          },
          "metadata": {}
        }
      ]
    },
    {
      "cell_type": "code",
      "source": [
        "plt.figure(figsize=(12,8))\n",
        "plt.title(\"num recordings from 24 to 48 hours\")\n",
        "lab,cnt = np.unique(rec_after_time[2],return_counts=True)\n",
        "plt.bar(x=lab , height=cnt)\n",
        "plt.show()"
      ],
      "metadata": {
        "colab": {
          "base_uri": "https://localhost:8080/",
          "height": 509
        },
        "id": "P0AJsCwdGO59",
        "outputId": "a31eed1d-dfd1-48e8-b169-785895c245cb"
      },
      "execution_count": 357,
      "outputs": [
        {
          "output_type": "display_data",
          "data": {
            "text/plain": [
              "<Figure size 864x576 with 1 Axes>"
            ],
            "image/png": "[encoded data removed]"
          },
          "metadata": {
            "needs_background": "light"
          }
        }
      ]
    },
    {
      "cell_type": "markdown",
      "source": [
        "## 48 to 72 hours"
      ],
      "metadata": {
        "id": "g_0DfjyHG1i1"
      }
    },
    {
      "cell_type": "code",
      "source": [
        "plt.figure(figsize=(8,8))\n",
        "plt.title(\"Recordings from 48 to 72 hours\")\n",
        "lab,cnt = np.unique(rec_after_time[3] == 0,return_counts=True)\n",
        "plt.pie(cnt,labels=[\"Yes\", \"No\"],autopct='%1.1f%%')\n",
        "plt.show()"
      ],
      "metadata": {
        "colab": {
          "base_uri": "https://localhost:8080/",
          "height": 487
        },
        "id": "Du7zdhUQGX18",
        "outputId": "47cf04e2-5a36-45fa-b340-97596b77e29d"
      },
      "execution_count": 353,
      "outputs": [
        {
          "output_type": "display_data",
          "data": {
            "text/plain": [
              "<Figure size 576x576 with 1 Axes>"
            ],
            "image/png": "[encoded data removed]"
          },
          "metadata": {}
        }
      ]
    },
    {
      "cell_type": "code",
      "source": [
        "plt.figure(figsize=(12,8))\n",
        "plt.title(\"num recordings from 48 to 72 hours\")\n",
        "lab,cnt = np.unique(rec_after_time[3],return_counts=True)\n",
        "plt.bar(x=lab , height=cnt)\n",
        "plt.show()"
      ],
      "metadata": {
        "colab": {
          "base_uri": "https://localhost:8080/",
          "height": 509
        },
        "id": "EZ8Dt8tDG-Zx",
        "outputId": "da7c3350-281d-44fb-d254-445775d247e3"
      },
      "execution_count": 356,
      "outputs": [
        {
          "output_type": "display_data",
          "data": {
            "text/plain": [
              "<Figure size 864x576 with 1 Axes>"
            ],
            "image/png": "[encoded data removed]"
          },
          "metadata": {
            "needs_background": "light"
          }
        }
      ]
    },
    {
      "cell_type": "code",
      "source": [
        "for num,i in enumerate(timeslots):\n",
        "  for root, dirs, files in os.walk(\"./data/training/\"):\n",
        "    for name in files:\n",
        "        if os.path.join(root, name).endswith(\".tsv\"):\n",
        "          df_temp = pd.read_csv(os.path.join(root, name), sep=\"\\t\")\n",
        "          break"
      ],
      "metadata": {
        "id": "xY0IugSRHJX_"
      },
      "execution_count": 359,
      "outputs": []
    },
    {
      "cell_type": "code",
      "source": [
        "\n",
        "for num,i in enumerate(timeslots):\n",
        "  for root, dirs, files in os.walk(\"./data/training/\"):\n",
        "    for name in files:\n",
        "        if os.path.join(root, name).endswith(\".tsv\"):\n",
        "          df_temp = pd.read_csv(os.path.join(root, name), sep=\"\\t\")\n",
        "          df_temp[i[0]:i[1]].dropna()\n",
        "          "
      ],
      "metadata": {
        "id": "unKswHghIZih"
      },
      "execution_count": null,
      "outputs": []
    },
    {
      "cell_type": "code",
      "source": [
        "patient_id=\"ICARE_0874\"\n",
        "data_folder=\"./data/training/\""
      ],
      "metadata": {
        "id": "SbVJLt-VJJRK"
      },
      "execution_count": 363,
      "outputs": []
    },
    {
      "cell_type": "code",
      "source": [
        "patient_metadata, recording_metadata, recording_data = load_challenge_data(data_folder, patient_id)"
      ],
      "metadata": {
        "id": "Zf6L4kiiJGfj"
      },
      "execution_count": 365,
      "outputs": []
    },
    {
      "cell_type": "code",
      "source": [
        "def get_signal_indx(recording_metadata, task, signal_len = 30):\n",
        "  \"\"\"\n",
        "  task: 0,1,2,3 - 0: 0,12 hours, 1: 12-24 hours, 2: 24-48 hours, 3: 48-72 hours\n",
        "  signal_len: desired signal lenght to extract from the total signal\n",
        "  \"\"\"\n",
        "  TIMESLOTS = np.asarray([(0,12),(12,24),(24,48),(48,72)])\n",
        "  time = TIMESLOTS[task]\n",
        "  valid_signals = pd.read_csv(StringIO(recording_metadata), sep='\\t')[time[0]:time[1]].dropna()\n",
        "  if valid_signals.shape[0] > 0:\n",
        "    indx = valid_signals[\"Quality\"].argmax()\n",
        "  else:\n",
        "    indx = np.nan\n",
        "  return indx"
      ],
      "metadata": {
        "id": "KKuHWuqJLRQ3"
      },
      "execution_count": 403,
      "outputs": []
    },
    {
      "cell_type": "code",
      "source": [
        "\n",
        "recording_data[17][0][0]"
      ],
      "metadata": {
        "colab": {
          "base_uri": "https://localhost:8080/"
        },
        "id": "ZDqtTKLiKfY3",
        "outputId": "281b9b5c-782e-499f-f2d7-1d954a06e9a2"
      },
      "execution_count": 390,
      "outputs": [
        {
          "output_type": "execute_result",
          "data": {
            "text/plain": [
              "array([0., 0., 0., ..., 0., 0., 0.], dtype=float32)"
            ]
          },
          "metadata": {},
          "execution_count": 390
        }
      ]
    },
    {
      "cell_type": "code",
      "source": [
        "recording_metadata"
      ],
      "metadata": {
        "colab": {
          "base_uri": "https://localhost:8080/",
          "height": 122
        },
        "id": "jOGKcWG9JgD1",
        "outputId": "dc6240b9-48a9-4153-81f2-e185fc266633"
      },
      "execution_count": 367,
      "outputs": [
        {
          "output_type": "execute_result",
          "data": {
            "text/plain": [
              "'Hour\\tTime\\tQuality\\tRecord\\n01\\tnan\\tnan\\tnan\\n02\\tnan\\tnan\\tnan\\n03\\tnan\\tnan\\tnan\\n04\\tnan\\tnan\\tnan\\n05\\tnan\\tnan\\tnan\\n06\\tnan\\tnan\\tnan\\n07\\tnan\\tnan\\tnan\\n08\\tnan\\tnan\\tnan\\n09\\tnan\\tnan\\tnan\\n10\\tnan\\tnan\\tnan\\n11\\tnan\\tnan\\tnan\\n12\\tnan\\tnan\\tnan\\n13\\tnan\\tnan\\tnan\\n14\\tnan\\tnan\\tnan\\n15\\tnan\\tnan\\tnan\\n16\\tnan\\tnan\\tnan\\n17\\tnan\\tnan\\tnan\\n18\\t17:55\\t0.000\\tICARE_0874_18\\n19\\t18:55\\t0.817\\tICARE_0874_19\\n20\\t19:45\\t1.000\\tICARE_0874_20\\n21\\t20:55\\t1.000\\tICARE_0874_21\\n22\\t21:00\\t0.983\\tICARE_0874_22\\n23\\t22:20\\t0.967\\tICARE_0874_23\\n24\\t23:55\\t1.000\\tICARE_0874_24\\n25\\t24:20\\t1.000\\tICARE_0874_25\\n26\\t25:25\\t1.000\\tICARE_0874_26\\n27\\tnan\\tnan\\tnan\\n28\\t27:20\\t0.517\\tICARE_0874_28\\n29\\t28:55\\t0.000\\tICARE_0874_29\\n30\\t29:55\\t0.000\\tICARE_0874_30\\n31\\t30:40\\t0.900\\tICARE_0874_31\\n32\\t31:30\\t1.000\\tICARE_0874_32\\n33\\t32:20\\t0.983\\tICARE_0874_33\\n34\\t33:00\\t0.967\\tICARE_0874_34\\n35\\t34:30\\t1.000\\tICARE_0874_35\\n36\\t35:55\\t1.000\\tICARE_0874_36\\n37\\t36:40\\t1.000\\tICARE_0874_37\\n38\\t37:45\\t1.000\\tICARE_0874_38\\n39\\tnan\\tnan\\tnan\\n40\\tnan\\tnan\\tnan\\n41\\tnan\\tnan\\tnan\\n42\\tnan\\tnan\\tnan\\n43\\tnan\\tnan\\tnan\\n44\\t43:25\\t1.000\\tICARE_0874_44\\n45\\t44:45\\t1.000\\tICARE_0874_45\\n46\\t45:55\\t1.000\\tICARE_0874_46\\n47\\t46:50\\t1.000\\tICARE_0874_47\\n48\\t47:40\\t1.000\\tICARE_0874_48\\n49\\t48:30\\t1.000\\tICARE_0874_49\\n50\\t49:25\\t1.000\\tICARE_0874_50\\n51\\t50:10\\t0.950\\tICARE_0874_51\\n52\\t51:35\\t1.000\\tICARE_0874_52\\n53\\t52:55\\t1.000\\tICARE_0874_53\\n54\\t53:50\\t1.000\\tICARE_0874_54\\n55\\t54:15\\t1.000\\tICARE_0874_55\\n56\\t55:55\\t1.000\\tICARE_0874_56\\n57\\t56:40\\t1.000\\tICARE_0874_57\\n58\\t57:55\\t1.000\\tICARE_0874_58\\n59\\t58:15\\t1.000\\tICARE_0874_59\\n60\\t59:35\\t1.000\\tICARE_0874_60\\n61\\t60:20\\t1.000\\tICARE_0874_61\\n62\\t61:35\\t0.983\\tICARE_0874_62\\n63\\tnan\\tnan\\tnan\\n64\\tnan\\tnan\\tnan\\n65\\tnan\\tnan\\tnan\\n66\\tnan\\tnan\\tnan\\n67\\tnan\\tnan\\tnan\\n68\\tnan\\tnan\\tnan\\n69\\tnan\\tnan\\tnan\\n70\\tnan\\tnan\\tnan\\n71\\tnan\\tnan\\tnan\\n72\\tnan\\tnan\\tnan\\n'"
            ],
            "application/vnd.google.colaboratory.intrinsic+json": {
              "type": "string"
            }
          },
          "metadata": {},
          "execution_count": 367
        }
      ]
    },
    {
      "cell_type": "code",
      "source": [
        "from io import StringIO\n",
        "pd.read_csv(StringIO(recording_metadata), sep='\\t').dropna()[\"Quality\"].argmax()"
      ],
      "metadata": {
        "colab": {
          "base_uri": "https://localhost:8080/"
        },
        "id": "gVDD9efgJ91d",
        "outputId": "b7b77418-32b8-49e0-ea78-d6857d252494"
      },
      "execution_count": 402,
      "outputs": [
        {
          "output_type": "execute_result",
          "data": {
            "text/plain": [
              "2"
            ]
          },
          "metadata": {},
          "execution_count": 402
        }
      ]
    },
    {
      "cell_type": "code",
      "source": [
        "df_temp.dropna()"
      ],
      "metadata": {
        "colab": {
          "base_uri": "https://localhost:8080/",
          "height": 1000
        },
        "id": "9OrdzGPHIPn6",
        "outputId": "f6e778cd-aa2a-42c7-d8c1-8381ac9a1826"
      },
      "execution_count": 361,
      "outputs": [
        {
          "output_type": "execute_result",
          "data": {
            "text/plain": [
              "    Hour   Time  Quality         Record\n",
              "17    18  17:55    0.000  ICARE_0874_18\n",
              "18    19  18:55    0.817  ICARE_0874_19\n",
              "19    20  19:45    1.000  ICARE_0874_20\n",
              "20    21  20:55    1.000  ICARE_0874_21\n",
              "21    22  21:00    0.983  ICARE_0874_22\n",
              "22    23  22:20    0.967  ICARE_0874_23\n",
              "23    24  23:55    1.000  ICARE_0874_24\n",
              "24    25  24:20    1.000  ICARE_0874_25\n",
              "25    26  25:25    1.000  ICARE_0874_26\n",
              "27    28  27:20    0.517  ICARE_0874_28\n",
              "28    29  28:55    0.000  ICARE_0874_29\n",
              "29    30  29:55    0.000  ICARE_0874_30\n",
              "30    31  30:40    0.900  ICARE_0874_31\n",
              "31    32  31:30    1.000  ICARE_0874_32\n",
              "32    33  32:20    0.983  ICARE_0874_33\n",
              "33    34  33:00    0.967  ICARE_0874_34\n",
              "34    35  34:30    1.000  ICARE_0874_35\n",
              "35    36  35:55    1.000  ICARE_0874_36\n",
              "36    37  36:40    1.000  ICARE_0874_37\n",
              "37    38  37:45    1.000  ICARE_0874_38\n",
              "43    44  43:25    1.000  ICARE_0874_44\n",
              "44    45  44:45    1.000  ICARE_0874_45\n",
              "45    46  45:55    1.000  ICARE_0874_46\n",
              "46    47  46:50    1.000  ICARE_0874_47\n",
              "47    48  47:40    1.000  ICARE_0874_48\n",
              "48    49  48:30    1.000  ICARE_0874_49\n",
              "49    50  49:25    1.000  ICARE_0874_50\n",
              "50    51  50:10    0.950  ICARE_0874_51\n",
              "51    52  51:35    1.000  ICARE_0874_52\n",
              "52    53  52:55    1.000  ICARE_0874_53\n",
              "53    54  53:50    1.000  ICARE_0874_54\n",
              "54    55  54:15    1.000  ICARE_0874_55\n",
              "55    56  55:55    1.000  ICARE_0874_56\n",
              "56    57  56:40    1.000  ICARE_0874_57\n",
              "57    58  57:55    1.000  ICARE_0874_58\n",
              "58    59  58:15    1.000  ICARE_0874_59\n",
              "59    60  59:35    1.000  ICARE_0874_60\n",
              "60    61  60:20    1.000  ICARE_0874_61\n",
              "61    62  61:35    0.983  ICARE_0874_62"
            ],
            "text/html": [
              "\n",
              "  <div id=\"df-e9161fb2-3adc-4d49-8b62-5ddef99f46a6\">\n",
              "    <div class=\"colab-df-container\">\n",
              "      <div>\n",
              "<style scoped>\n",
              "    .dataframe tbody tr th:only-of-type {\n",
              "        vertical-align: middle;\n",
              "    }\n",
              "\n",
              "    .dataframe tbody tr th {\n",
              "        vertical-align: top;\n",
              "    }\n",
              "\n",
              "    .dataframe thead th {\n",
              "        text-align: right;\n",
              "    }\n",
              "</style>\n",
              "<table border=\"1\" class=\"dataframe\">\n",
              "  <thead>\n",
              "    <tr style=\"text-align: right;\">\n",
              "      <th></th>\n",
              "      <th>Hour</th>\n",
              "      <th>Time</th>\n",
              "      <th>Quality</th>\n",
              "      <th>Record</th>\n",
              "    </tr>\n",
              "  </thead>\n",
              "  <tbody>\n",
              "    <tr>\n",
              "      <th>17</th>\n",
              "      <td>18</td>\n",
              "      <td>17:55</td>\n",
              "      <td>0.000</td>\n",
              "      <td>ICARE_0874_18</td>\n",
              "    </tr>\n",
              "    <tr>\n",
              "      <th>18</th>\n",
              "      <td>19</td>\n",
              "      <td>18:55</td>\n",
              "      <td>0.817</td>\n",
              "      <td>ICARE_0874_19</td>\n",
              "    </tr>\n",
              "    <tr>\n",
              "      <th>19</th>\n",
              "      <td>20</td>\n",
              "      <td>19:45</td>\n",
              "      <td>1.000</td>\n",
              "      <td>ICARE_0874_20</td>\n",
              "    </tr>\n",
              "    <tr>\n",
              "      <th>20</th>\n",
              "      <td>21</td>\n",
              "      <td>20:55</td>\n",
              "      <td>1.000</td>\n",
              "      <td>ICARE_0874_21</td>\n",
              "    </tr>\n",
              "    <tr>\n",
              "      <th>21</th>\n",
              "      <td>22</td>\n",
              "      <td>21:00</td>\n",
              "      <td>0.983</td>\n",
              "      <td>ICARE_0874_22</td>\n",
              "    </tr>\n",
              "    <tr>\n",
              "      <th>22</th>\n",
              "      <td>23</td>\n",
              "      <td>22:20</td>\n",
              "      <td>0.967</td>\n",
              "      <td>ICARE_0874_23</td>\n",
              "    </tr>\n",
              "    <tr>\n",
              "      <th>23</th>\n",
              "      <td>24</td>\n",
              "      <td>23:55</td>\n",
              "      <td>1.000</td>\n",
              "      <td>ICARE_0874_24</td>\n",
              "    </tr>\n",
              "    <tr>\n",
              "      <th>24</th>\n",
              "      <td>25</td>\n",
              "      <td>24:20</td>\n",
              "      <td>1.000</td>\n",
              "      <td>ICARE_0874_25</td>\n",
              "    </tr>\n",
              "    <tr>\n",
              "      <th>25</th>\n",
              "      <td>26</td>\n",
              "      <td>25:25</td>\n",
              "      <td>1.000</td>\n",
              "      <td>ICARE_0874_26</td>\n",
              "    </tr>\n",
              "    <tr>\n",
              "      <th>27</th>\n",
              "      <td>28</td>\n",
              "      <td>27:20</td>\n",
              "      <td>0.517</td>\n",
              "      <td>ICARE_0874_28</td>\n",
              "    </tr>\n",
              "    <tr>\n",
              "      <th>28</th>\n",
              "      <td>29</td>\n",
              "      <td>28:55</td>\n",
              "      <td>0.000</td>\n",
              "      <td>ICARE_0874_29</td>\n",
              "    </tr>\n",
              "    <tr>\n",
              "      <th>29</th>\n",
              "      <td>30</td>\n",
              "      <td>29:55</td>\n",
              "      <td>0.000</td>\n",
              "      <td>ICARE_0874_30</td>\n",
              "    </tr>\n",
              "    <tr>\n",
              "      <th>30</th>\n",
              "      <td>31</td>\n",
              "      <td>30:40</td>\n",
              "      <td>0.900</td>\n",
              "      <td>ICARE_0874_31</td>\n",
              "    </tr>\n",
              "    <tr>\n",
              "      <th>31</th>\n",
              "      <td>32</td>\n",
              "      <td>31:30</td>\n",
              "      <td>1.000</td>\n",
              "      <td>ICARE_0874_32</td>\n",
              "    </tr>\n",
              "    <tr>\n",
              "      <th>32</th>\n",
              "      <td>33</td>\n",
              "      <td>32:20</td>\n",
              "      <td>0.983</td>\n",
              "      <td>ICARE_0874_33</td>\n",
              "    </tr>\n",
              "    <tr>\n",
              "      <th>33</th>\n",
              "      <td>34</td>\n",
              "      <td>33:00</td>\n",
              "      <td>0.967</td>\n",
              "      <td>ICARE_0874_34</td>\n",
              "    </tr>\n",
              "    <tr>\n",
              "      <th>34</th>\n",
              "      <td>35</td>\n",
              "      <td>34:30</td>\n",
              "      <td>1.000</td>\n",
              "      <td>ICARE_0874_35</td>\n",
              "    </tr>\n",
              "    <tr>\n",
              "      <th>35</th>\n",
              "      <td>36</td>\n",
              "      <td>35:55</td>\n",
              "      <td>1.000</td>\n",
              "      <td>ICARE_0874_36</td>\n",
              "    </tr>\n",
              "    <tr>\n",
              "      <th>36</th>\n",
              "      <td>37</td>\n",
              "      <td>36:40</td>\n",
              "      <td>1.000</td>\n",
              "      <td>ICARE_0874_37</td>\n",
              "    </tr>\n",
              "    <tr>\n",
              "      <th>37</th>\n",
              "      <td>38</td>\n",
              "      <td>37:45</td>\n",
              "      <td>1.000</td>\n",
              "      <td>ICARE_0874_38</td>\n",
              "    </tr>\n",
              "    <tr>\n",
              "      <th>43</th>\n",
              "      <td>44</td>\n",
              "      <td>43:25</td>\n",
              "      <td>1.000</td>\n",
              "      <td>ICARE_0874_44</td>\n",
              "    </tr>\n",
              "    <tr>\n",
              "      <th>44</th>\n",
              "      <td>45</td>\n",
              "      <td>44:45</td>\n",
              "      <td>1.000</td>\n",
              "      <td>ICARE_0874_45</td>\n",
              "    </tr>\n",
              "    <tr>\n",
              "      <th>45</th>\n",
              "      <td>46</td>\n",
              "      <td>45:55</td>\n",
              "      <td>1.000</td>\n",
              "      <td>ICARE_0874_46</td>\n",
              "    </tr>\n",
              "    <tr>\n",
              "      <th>46</th>\n",
              "      <td>47</td>\n",
              "      <td>46:50</td>\n",
              "      <td>1.000</td>\n",
              "      <td>ICARE_0874_47</td>\n",
              "    </tr>\n",
              "    <tr>\n",
              "      <th>47</th>\n",
              "      <td>48</td>\n",
              "      <td>47:40</td>\n",
              "      <td>1.000</td>\n",
              "      <td>ICARE_0874_48</td>\n",
              "    </tr>\n",
              "    <tr>\n",
              "      <th>48</th>\n",
              "      <td>49</td>\n",
              "      <td>48:30</td>\n",
              "      <td>1.000</td>\n",
              "      <td>ICARE_0874_49</td>\n",
              "    </tr>\n",
              "    <tr>\n",
              "      <th>49</th>\n",
              "      <td>50</td>\n",
              "      <td>49:25</td>\n",
              "      <td>1.000</td>\n",
              "      <td>ICARE_0874_50</td>\n",
              "    </tr>\n",
              "    <tr>\n",
              "      <th>50</th>\n",
              "      <td>51</td>\n",
              "      <td>50:10</td>\n",
              "      <td>0.950</td>\n",
              "      <td>ICARE_0874_51</td>\n",
              "    </tr>\n",
              "    <tr>\n",
              "      <th>51</th>\n",
              "      <td>52</td>\n",
              "      <td>51:35</td>\n",
              "      <td>1.000</td>\n",
              "      <td>ICARE_0874_52</td>\n",
              "    </tr>\n",
              "    <tr>\n",
              "      <th>52</th>\n",
              "      <td>53</td>\n",
              "      <td>52:55</td>\n",
              "      <td>1.000</td>\n",
              "      <td>ICARE_0874_53</td>\n",
              "    </tr>\n",
              "    <tr>\n",
              "      <th>53</th>\n",
              "      <td>54</td>\n",
              "      <td>53:50</td>\n",
              "      <td>1.000</td>\n",
              "      <td>ICARE_0874_54</td>\n",
              "    </tr>\n",
              "    <tr>\n",
              "      <th>54</th>\n",
              "      <td>55</td>\n",
              "      <td>54:15</td>\n",
              "      <td>1.000</td>\n",
              "      <td>ICARE_0874_55</td>\n",
              "    </tr>\n",
              "    <tr>\n",
              "      <th>55</th>\n",
              "      <td>56</td>\n",
              "      <td>55:55</td>\n",
              "      <td>1.000</td>\n",
              "      <td>ICARE_0874_56</td>\n",
              "    </tr>\n",
              "    <tr>\n",
              "      <th>56</th>\n",
              "      <td>57</td>\n",
              "      <td>56:40</td>\n",
              "      <td>1.000</td>\n",
              "      <td>ICARE_0874_57</td>\n",
              "    </tr>\n",
              "    <tr>\n",
              "      <th>57</th>\n",
              "      <td>58</td>\n",
              "      <td>57:55</td>\n",
              "      <td>1.000</td>\n",
              "      <td>ICARE_0874_58</td>\n",
              "    </tr>\n",
              "    <tr>\n",
              "      <th>58</th>\n",
              "      <td>59</td>\n",
              "      <td>58:15</td>\n",
              "      <td>1.000</td>\n",
              "      <td>ICARE_0874_59</td>\n",
              "    </tr>\n",
              "    <tr>\n",
              "      <th>59</th>\n",
              "      <td>60</td>\n",
              "      <td>59:35</td>\n",
              "      <td>1.000</td>\n",
              "      <td>ICARE_0874_60</td>\n",
              "    </tr>\n",
              "    <tr>\n",
              "      <th>60</th>\n",
              "      <td>61</td>\n",
              "      <td>60:20</td>\n",
              "      <td>1.000</td>\n",
              "      <td>ICARE_0874_61</td>\n",
              "    </tr>\n",
              "    <tr>\n",
              "      <th>61</th>\n",
              "      <td>62</td>\n",
              "      <td>61:35</td>\n",
              "      <td>0.983</td>\n",
              "      <td>ICARE_0874_62</td>\n",
              "    </tr>\n",
              "  </tbody>\n",
              "</table>\n",
              "</div>\n",
              "      <button class=\"colab-df-convert\" onclick=\"convertToInteractive('df-e9161fb2-3adc-4d49-8b62-5ddef99f46a6')\"\n",
              "              title=\"Convert this dataframe to an interactive table.\"\n",
              "              style=\"display:none;\">\n",
              "        \n",
              "  <svg xmlns=\"http://www.w3.org/2000/svg\" height=\"24px\"viewBox=\"0 0 24 24\"\n",
              "       width=\"24px\">\n",
              "    <path d=\"M0 0h24v24H0V0z\" fill=\"none\"/>\n",
              "    <path d=\"M18.56 5.44l.94 2.06.94-2.06 2.06-.94-2.06-.94-.94-2.06-.94 2.06-2.06.94zm-11 1L8.5 8.5l.94-2.06 2.06-.94-2.06-.94L8.5 2.5l-.94 2.06-2.06.94zm10 10l.94 2.06.94-2.06 2.06-.94-2.06-.94-.94-2.06-.94 2.06-2.06.94z\"/><path d=\"M17.41 7.96l-1.37-1.37c-.4-.4-.92-.59-1.43-.59-.52 0-1.04.2-1.43.59L10.3 9.45l-7.72 7.72c-.78.78-.78 2.05 0 2.83L4 21.41c.39.39.9.59 1.41.59.51 0 1.02-.2 1.41-.59l7.78-7.78 2.81-2.81c.8-.78.8-2.07 0-2.86zM5.41 20L4 18.59l7.72-7.72 1.47 1.35L5.41 20z\"/>\n",
              "  </svg>\n",
              "      </button>\n",
              "      \n",
              "  <style>\n",
              "    .colab-df-container {\n",
              "      display:flex;\n",
              "      flex-wrap:wrap;\n",
              "      gap: 12px;\n",
              "    }\n",
              "\n",
              "    .colab-df-convert {\n",
              "      background-color: #E8F0FE;\n",
              "      border: none;\n",
              "      border-radius: 50%;\n",
              "      cursor: pointer;\n",
              "      display: none;\n",
              "      fill: #1967D2;\n",
              "      height: 32px;\n",
              "      padding: 0 0 0 0;\n",
              "      width: 32px;\n",
              "    }\n",
              "\n",
              "    .colab-df-convert:hover {\n",
              "      background-color: #E2EBFA;\n",
              "      box-shadow: 0px 1px 2px rgba(60, 64, 67, 0.3), 0px 1px 3px 1px rgba(60, 64, 67, 0.15);\n",
              "      fill: #174EA6;\n",
              "    }\n",
              "\n",
              "    [theme=dark] .colab-df-convert {\n",
              "      background-color: #3B4455;\n",
              "      fill: #D2E3FC;\n",
              "    }\n",
              "\n",
              "    [theme=dark] .colab-df-convert:hover {\n",
              "      background-color: #434B5C;\n",
              "      box-shadow: 0px 1px 3px 1px rgba(0, 0, 0, 0.15);\n",
              "      filter: drop-shadow(0px 1px 2px rgba(0, 0, 0, 0.3));\n",
              "      fill: #FFFFFF;\n",
              "    }\n",
              "  </style>\n",
              "\n",
              "      <script>\n",
              "        const buttonEl =\n",
              "          document.querySelector('#df-e9161fb2-3adc-4d49-8b62-5ddef99f46a6 button.colab-df-convert');\n",
              "        buttonEl.style.display =\n",
              "          google.colab.kernel.accessAllowed ? 'block' : 'none';\n",
              "\n",
              "        async function convertToInteractive(key) {\n",
              "          const element = document.querySelector('#df-e9161fb2-3adc-4d49-8b62-5ddef99f46a6');\n",
              "          const dataTable =\n",
              "            await google.colab.kernel.invokeFunction('convertToInteractive',\n",
              "                                                     [key], {});\n",
              "          if (!dataTable) return;\n",
              "\n",
              "          const docLinkHtml = 'Like what you see? Visit the ' +\n",
              "            '<a target=\"_blank\" href=https://colab.research.google.com/notebooks/data_table.ipynb>data table notebook</a>'\n",
              "            + ' to learn more about interactive tables.';\n",
              "          element.innerHTML = '';\n",
              "          dataTable['output_type'] = 'display_data';\n",
              "          await google.colab.output.renderOutput(dataTable, element);\n",
              "          const docLink = document.createElement('div');\n",
              "          docLink.innerHTML = docLinkHtml;\n",
              "          element.appendChild(docLink);\n",
              "        }\n",
              "      </script>\n",
              "    </div>\n",
              "  </div>\n",
              "  "
            ]
          },
          "metadata": {},
          "execution_count": 361
        }
      ]
    },
    {
      "cell_type": "code",
      "source": [],
      "metadata": {
        "id": "KhlWg48aIQ-8"
      },
      "execution_count": null,
      "outputs": []
    }
  ]
}