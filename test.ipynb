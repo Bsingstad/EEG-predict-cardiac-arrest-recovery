{
 "cells": [
  {
   "cell_type": "code",
   "execution_count": 66,
   "metadata": {},
   "outputs": [],
   "source": [
    "import pytest\n",
    "import numpy as np\n",
    "import os\n",
    "import numpy.ma as ma"
   ]
  },
  {
   "cell_type": "code",
   "execution_count": 52,
   "metadata": {},
   "outputs": [],
   "source": [
    "from helper_code import load_challenge_data, get_shockable_rhythm"
   ]
  },
  {
   "cell_type": "code",
   "execution_count": 53,
   "metadata": {},
   "outputs": [],
   "source": [
    "from team_code import get_patient_features"
   ]
  },
  {
   "cell_type": "code",
   "execution_count": 35,
   "metadata": {},
   "outputs": [],
   "source": [
    "def test_get_patient_features():\n",
    "    features = get_patient_features(load_challenge_data(\"./training_subset/\",\"ICARE_0284\"))\n",
    "    correct = np.array([53,0,1,0,np.nan,1,None,33])\n",
    "    assert np.array_equal(correct[[0,1,2,3,5,7]],features[[0,1,2,3,5,7]],equal_nan=False)"
   ]
  },
  {
   "cell_type": "code",
   "execution_count": null,
   "metadata": {},
   "outputs": [],
   "source": []
  },
  {
   "cell_type": "code",
   "execution_count": null,
   "metadata": {},
   "outputs": [],
   "source": [
    "\n",
    "np.where(np.isnan(a), ma.array(a, mask=np.isnan(a)).mean(axis=0), a) "
   ]
  },
  {
   "cell_type": "code",
   "execution_count": 127,
   "metadata": {},
   "outputs": [],
   "source": [
    "a = np.zeros((len(os.listdir(\"./training_subset/\"))-1,8))\n",
    "for i,j in enumerate(os.listdir(\"./training_subset/\")):\n",
    "    if j != \"RECORDS\":\n",
    "        a[i,:] = get_patient_features(load_challenge_data(\"./training_subset/\",j))\n",
    "#b = np.where(np.isnan(a), ma.array(a, mask=np.isnan(a)).mean(axis=0), a)"
   ]
  },
  {
   "cell_type": "code",
   "execution_count": 131,
   "metadata": {},
   "outputs": [
    {
     "data": {
      "text/plain": [
       "True"
      ]
     },
     "execution_count": 131,
     "metadata": {},
     "output_type": "execute_result"
    }
   ],
   "source": [
    "a[:,6].all()"
   ]
  },
  {
   "cell_type": "code",
   "execution_count": 119,
   "metadata": {},
   "outputs": [],
   "source": [
    "def clean_tabular_data(data):\n",
    "    data[:,0] = nan_to_mean(data[:,0])\n",
    "    data[:,4] = nan_to_mean(data[:,4])\n",
    "    data[:,5] = nan_to_median(data[:,5])\n",
    "    data[:,6] = nan_to_median(data[:,6])\n",
    "    data[:,7] = nan_to_median(data[:,7])\n",
    "    return data"
   ]
  },
  {
   "cell_type": "code",
   "execution_count": 113,
   "metadata": {},
   "outputs": [],
   "source": [
    "def nan_to_mean(arr):\n",
    "    if arr.all():\n",
    "        return np.zeros((len(arr)))\n",
    "    else:\n",
    "        mean = np.nanmean(arr)\n",
    "        return np.nan_to_num(arr,nan=mean)"
   ]
  },
  {
   "cell_type": "code",
   "execution_count": 112,
   "metadata": {},
   "outputs": [],
   "source": [
    "def nan_to_median(arr):\n",
    "    if arr.all():\n",
    "        return np.zeros((len(arr)))\n",
    "    else:\n",
    "        median = np.nanmedian(arr)\n",
    "        return np.nan_to_num(arr,nan=median)"
   ]
  },
  {
   "cell_type": "code",
   "execution_count": 106,
   "metadata": {},
   "outputs": [
    {
     "data": {
      "text/plain": [
       "1.0"
      ]
     },
     "execution_count": 106,
     "metadata": {},
     "output_type": "execute_result"
    }
   ],
   "source": [
    "np.nanmedian(a[:,5])"
   ]
  },
  {
   "cell_type": "code",
   "execution_count": 103,
   "metadata": {},
   "outputs": [
    {
     "data": {
      "text/plain": [
       "array([26.77777778,  7.        , 26.77777778, 26.77777778, 24.        ,\n",
       "       20.        , 26.77777778, 26.77777778,  3.        , 37.        ,\n",
       "       26.77777778, 20.        , 26.77777778, 40.        , 60.        ,\n",
       "       26.77777778, 26.77777778, 26.77777778, 30.        , 26.77777778])"
      ]
     },
     "execution_count": 103,
     "metadata": {},
     "output_type": "execute_result"
    }
   ],
   "source": [
    "nan_to_mean(a[:,4])"
   ]
  },
  {
   "cell_type": "code",
   "execution_count": 97,
   "metadata": {},
   "outputs": [],
   "source": [
    "mean = np.nanmean(a[:,4])"
   ]
  },
  {
   "cell_type": "code",
   "execution_count": 98,
   "metadata": {},
   "outputs": [
    {
     "data": {
      "text/plain": [
       "array([26.77777778,  7.        , 26.77777778, 26.77777778, 24.        ,\n",
       "       20.        , 26.77777778, 26.77777778,  3.        , 37.        ,\n",
       "       26.77777778, 20.        , 26.77777778, 40.        , 60.        ,\n",
       "       26.77777778, 26.77777778, 26.77777778, 30.        , 26.77777778])"
      ]
     },
     "execution_count": 98,
     "metadata": {},
     "output_type": "execute_result"
    }
   ],
   "source": [
    "np.nan_to_num(a[:,4],nan=mean)"
   ]
  },
  {
   "cell_type": "code",
   "execution_count": 79,
   "metadata": {},
   "outputs": [
    {
     "name": "stdout",
     "output_type": "stream",
     "text": [
      "[[53.          0.          1.          0.         26.77777778  1.\n",
      "   0.         33.        ]\n",
      " [85.          1.          0.          0.          7.          0.\n",
      "   0.         33.33333333]\n",
      " [48.          0.          1.          0.         26.77777778  1.\n",
      "   0.         36.        ]\n",
      " [45.          0.          1.          0.         26.77777778  1.\n",
      "   0.         33.        ]\n",
      " [51.          0.          1.          0.         24.          1.\n",
      "   0.         33.        ]\n",
      " [73.          0.          1.          0.         20.          1.\n",
      "   0.         33.        ]\n",
      " [39.          1.          0.          0.         26.77777778  1.\n",
      "   0.         33.        ]\n",
      " [51.          0.          1.          0.         26.77777778  0.68421053\n",
      "   0.         33.33333333]\n",
      " [56.          0.          1.          0.          3.          0.\n",
      "   0.         33.        ]\n",
      " [41.          0.          1.          0.         37.          1.\n",
      "   0.         33.        ]\n",
      " [62.          0.          1.          0.         26.77777778  0.\n",
      "   0.         33.        ]\n",
      " [55.          0.          1.          0.         20.          1.\n",
      "   0.         33.        ]\n",
      " [46.          0.          1.          0.         26.77777778  1.\n",
      "   0.         33.        ]\n",
      " [56.          0.          1.          0.         40.          0.\n",
      "   0.         33.        ]\n",
      " [68.          1.          0.          0.         60.          0.\n",
      "   0.         33.        ]\n",
      " [54.          0.          1.          0.         26.77777778  1.\n",
      "   0.         33.        ]\n",
      " [64.          0.          1.          0.         26.77777778  1.\n",
      "   0.         33.        ]\n",
      " [67.          1.          0.          0.         26.77777778  1.\n",
      "   0.         33.        ]\n",
      " [66.          0.          1.          0.         30.          1.\n",
      "   0.         33.        ]\n",
      " [79.          0.          1.          0.         26.77777778  0.\n",
      "   0.         36.        ]]\n"
     ]
    }
   ],
   "source": [
    "print(b)"
   ]
  },
  {
   "cell_type": "code",
   "execution_count": 50,
   "metadata": {},
   "outputs": [],
   "source": [
    "features = get_patient_features(load_challenge_data(\"./training_subset/\",\"ICARE_0284\"))\n",
    "correct = np.array([53,0,1,0,np.nan,1,None,33])\n",
    "\n",
    "assert np.array_equal(correct[[0,1,2,3,5,7]],features[[0,1,2,3,5,7]],equal_nan=False)"
   ]
  },
  {
   "cell_type": "code",
   "execution_count": 48,
   "metadata": {},
   "outputs": [
    {
     "data": {
      "text/plain": [
       "array([53, 0, 1, 0, 1, 33], dtype=object)"
      ]
     },
     "execution_count": 48,
     "metadata": {},
     "output_type": "execute_result"
    }
   ],
   "source": [
    "correct[[0,1,2,3,5,7]]"
   ]
  },
  {
   "cell_type": "code",
   "execution_count": 36,
   "metadata": {},
   "outputs": [
    {
     "ename": "AssertionError",
     "evalue": "",
     "output_type": "error",
     "traceback": [
      "\u001b[1;31m---------------------------------------------------------------------------\u001b[0m",
      "\u001b[1;31mAssertionError\u001b[0m                            Traceback (most recent call last)",
      "Cell \u001b[1;32mIn[36], line 1\u001b[0m\n\u001b[1;32m----> 1\u001b[0m test_get_patient_features()\n",
      "Cell \u001b[1;32mIn[35], line 7\u001b[0m, in \u001b[0;36mtest_get_patient_features\u001b[1;34m()\u001b[0m\n\u001b[0;32m      3\u001b[0m correct \u001b[39m=\u001b[39m np\u001b[39m.\u001b[39marray([\u001b[39m53\u001b[39m,\u001b[39m0\u001b[39m,\u001b[39m1\u001b[39m,\u001b[39m0\u001b[39m,np\u001b[39m.\u001b[39mnan,\u001b[39m1\u001b[39m,\u001b[39mNone\u001b[39;00m,\u001b[39m33\u001b[39m])\n\u001b[0;32m      4\u001b[0m \u001b[39m#assert correct == features\u001b[39;00m\n\u001b[0;32m      5\u001b[0m \u001b[39m#print(correct)\u001b[39;00m\n\u001b[0;32m      6\u001b[0m \u001b[39m#print(features)\u001b[39;00m\n\u001b[1;32m----> 7\u001b[0m \u001b[39massert\u001b[39;00m np\u001b[39m.\u001b[39marray_equal(correct,correct)\n",
      "\u001b[1;31mAssertionError\u001b[0m: "
     ]
    }
   ],
   "source": [
    "test_get_patient_features()"
   ]
  },
  {
   "cell_type": "code",
   "execution_count": 14,
   "metadata": {},
   "outputs": [],
   "source": [
    "get_shockable_rhythm(load_challenge_data(\"./training_subset/\",\"ICARE_0284\"))"
   ]
  },
  {
   "cell_type": "code",
   "execution_count": 8,
   "metadata": {},
   "outputs": [
    {
     "data": {
      "text/plain": [
       "array([53, 0, 1, 0, nan, 1, None, 33], dtype=object)"
      ]
     },
     "execution_count": 8,
     "metadata": {},
     "output_type": "execute_result"
    }
   ],
   "source": [
    "get_patient_features(load_challenge_data(\"./training_subset/\",\"ICARE_0284\"))"
   ]
  },
  {
   "cell_type": "code",
   "execution_count": null,
   "metadata": {},
   "outputs": [],
   "source": [
    "\"/training_subset/ICARE_0284/ICARE_0284.txt\""
   ]
  }
 ],
 "metadata": {
  "kernelspec": {
   "display_name": "base",
   "language": "python",
   "name": "python3"
  },
  "language_info": {
   "codemirror_mode": {
    "name": "ipython",
    "version": 3
   },
   "file_extension": ".py",
   "mimetype": "text/x-python",
   "name": "python",
   "nbconvert_exporter": "python",
   "pygments_lexer": "ipython3",
   "version": "3.8.5"
  },
  "orig_nbformat": 4
 },
 "nbformat": 4,
 "nbformat_minor": 2
}
