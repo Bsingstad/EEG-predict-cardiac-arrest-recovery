{
  "cells": [
    {
      "cell_type": "code",
      "execution_count": 1,
      "metadata": {
        "colab": {
          "base_uri": "https://localhost:8080/"
        },
        "id": "q7rpHQfvpZyg",
        "outputId": "e978ef79-f26b-4351-a6e1-44383c0c815f"
      },
      "outputs": [
        {
          "name": "stdout",
          "output_type": "stream",
          "text": [
            "Requirement already satisfied: wget in c:\\users\\bjorn\\anaconda3\\lib\\site-packages (3.2)\n",
            "Requirement already satisfied: wfdb in c:\\users\\bjorn\\anaconda3\\lib\\site-packages (3.1.1)\n",
            "Requirement already satisfied: neurokit2 in c:\\users\\bjorn\\anaconda3\\lib\\site-packages (0.0.42)\n",
            "Requirement already satisfied: mne in c:\\users\\bjorn\\anaconda3\\lib\\site-packages (0.21.2)\n",
            "Requirement already satisfied: requests>=2.8.1 in c:\\users\\bjorn\\anaconda3\\lib\\site-packages (from wfdb) (2.28.1)\n",
            "Requirement already satisfied: cycler>=0.10.0 in c:\\users\\bjorn\\anaconda3\\lib\\site-packages (from wfdb) (0.11.0)\n",
            "Requirement already satisfied: joblib>=0.11 in c:\\users\\bjorn\\anaconda3\\lib\\site-packages (from wfdb) (1.1.1)\n",
            "Requirement already satisfied: six>=0.9.0 in c:\\users\\bjorn\\anaconda3\\lib\\site-packages (from wfdb) (1.16.0)\n",
            "Requirement already satisfied: pytz>=2018.3 in c:\\users\\bjorn\\anaconda3\\lib\\site-packages (from wfdb) (2022.7)\n",
            "Requirement already satisfied: idna>=2.2 in c:\\users\\bjorn\\anaconda3\\lib\\site-packages (from wfdb) (3.4)\n",
            "Requirement already satisfied: pandas>=0.17.0 in c:\\users\\bjorn\\anaconda3\\lib\\site-packages (from wfdb) (1.5.2)\n",
            "Requirement already satisfied: scipy>=0.17.0 in c:\\users\\bjorn\\anaconda3\\lib\\site-packages (from wfdb) (1.9.3)\n",
            "Requirement already satisfied: urllib3>=1.22 in c:\\users\\bjorn\\anaconda3\\lib\\site-packages (from wfdb) (1.26.14)\n",
            "Requirement already satisfied: nose>=1.3.7 in c:\\users\\bjorn\\anaconda3\\lib\\site-packages (from wfdb) (1.3.7)\n",
            "Requirement already satisfied: threadpoolctl>=1.0.0 in c:\\users\\bjorn\\anaconda3\\lib\\site-packages (from wfdb) (2.2.0)\n",
            "Requirement already satisfied: kiwisolver>=1.1.0 in c:\\users\\bjorn\\anaconda3\\lib\\site-packages (from wfdb) (1.4.4)\n",
            "Requirement already satisfied: pyparsing>=2.0.4 in c:\\users\\bjorn\\anaconda3\\lib\\site-packages (from wfdb) (3.0.9)\n",
            "Requirement already satisfied: python-dateutil>=2.4.2 in c:\\users\\bjorn\\anaconda3\\lib\\site-packages (from wfdb) (2.8.2)\n",
            "Requirement already satisfied: certifi>=2016.8.2 in c:\\users\\bjorn\\anaconda3\\lib\\site-packages (from wfdb) (2022.12.7)\n",
            "Requirement already satisfied: matplotlib>=2.0.0 in c:\\users\\bjorn\\anaconda3\\lib\\site-packages (from wfdb) (3.6.2)\n",
            "Requirement already satisfied: chardet>=3.0.0 in c:\\users\\bjorn\\anaconda3\\lib\\site-packages (from wfdb) (4.0.0)\n",
            "Requirement already satisfied: scikit-learn>=0.18 in c:\\users\\bjorn\\anaconda3\\lib\\site-packages (from wfdb) (1.2.0)\n",
            "Requirement already satisfied: numpy>=1.10.1 in c:\\users\\bjorn\\anaconda3\\lib\\site-packages (from wfdb) (1.23.5)\n",
            "Requirement already satisfied: sklearn>=0.0 in c:\\users\\bjorn\\anaconda3\\lib\\site-packages (from wfdb) (0.0)\n",
            "Requirement already satisfied: fonttools>=4.22.0 in c:\\users\\bjorn\\anaconda3\\lib\\site-packages (from matplotlib>=2.0.0->wfdb) (4.25.0)\n",
            "Requirement already satisfied: contourpy>=1.0.1 in c:\\users\\bjorn\\anaconda3\\lib\\site-packages (from matplotlib>=2.0.0->wfdb) (1.0.5)\n",
            "Requirement already satisfied: packaging>=20.0 in c:\\users\\bjorn\\anaconda3\\lib\\site-packages (from matplotlib>=2.0.0->wfdb) (22.0)\n",
            "Requirement already satisfied: pillow>=6.2.0 in c:\\users\\bjorn\\anaconda3\\lib\\site-packages (from matplotlib>=2.0.0->wfdb) (9.3.0)\n",
            "Requirement already satisfied: charset-normalizer<3,>=2 in c:\\users\\bjorn\\anaconda3\\lib\\site-packages (from requests>=2.8.1->wfdb) (2.0.4)\n"
          ]
        }
      ],
      "source": [
        "!pip install wget wfdb neurokit2 mne"
      ]
    },
    {
      "cell_type": "code",
      "execution_count": 93,
      "metadata": {},
      "outputs": [
        {
          "name": "stdout",
          "output_type": "stream",
          "text": [
            "The autoreload extension is already loaded. To reload it, use:\n",
            "  %reload_ext autoreload\n"
          ]
        }
      ],
      "source": [
        "%load_ext autoreload\n",
        "%autoreload\n",
        "%reload_ext autoreload"
      ]
    },
    {
      "cell_type": "code",
      "execution_count": 94,
      "metadata": {
        "id": "q0sWcdDJkCO5"
      },
      "outputs": [],
      "source": [
        "from evaluate_model import *\n",
        "from team_code import *\n",
        "from run_model import *"
      ]
    },
    {
      "cell_type": "code",
      "execution_count": 95,
      "metadata": {
        "id": "quSp-rnhvG4T"
      },
      "outputs": [],
      "source": [
        "import os\n",
        "import zipfile\n",
        "import numpy as np\n",
        "import pandas as pd\n",
        "import matplotlib.pyplot as plt\n",
        "import seaborn as sns\n",
        "import matplotlib\n",
        "\n",
        "font = {'size'   : 16}\n",
        "\n",
        "matplotlib.rc('font', **font)"
      ]
    },
    {
      "cell_type": "code",
      "execution_count": 96,
      "metadata": {
        "colab": {
          "base_uri": "https://localhost:8080/"
        },
        "id": "Y5HrNIUQGJFp",
        "outputId": "2ff62c4f-2b61-48d2-bc8c-41b3898356e8"
      },
      "outputs": [
        {
          "name": "stdout",
          "output_type": "stream",
          "text": [
            "Finding the Challenge data...\n",
            "Extracting features and labels from the Challenge data...\n",
            "Split the data into 5 cross-validation folds\n",
            "Training the Challenge models on the Challenge data...\n",
            "Fold 0:\n"
          ]
        },
        {
          "name": "stderr",
          "output_type": "stream",
          "text": [
            "c:\\Users\\Bjorn\\anaconda3\\lib\\site-packages\\sklearn\\model_selection\\_split.py:700: UserWarning: The least populated class in y has only 1 members, which is less than n_splits=5.\n",
            "  warnings.warn(\n"
          ]
        },
        {
          "name": "stdout",
          "output_type": "stream",
          "text": [
            "Inception model built.\n",
            "Inception model built.\n",
            "Epoch 1/2\n",
            "8/8 [==============================] - 8s 449ms/step - loss: 0.4031 - val_loss: 0.0015\n",
            "Epoch 2/2\n",
            "8/8 [==============================] - 3s 373ms/step - loss: 0.1203 - val_loss: 0.0053\n",
            "Epoch 1/2\n",
            "8/8 [==============================] - 9s 465ms/step - loss: 1.8364 - val_loss: 2.5374\n",
            "Epoch 2/2\n",
            "8/8 [==============================] - 3s 346ms/step - loss: 0.8578 - val_loss: 4.1622\n",
            "WARNING:tensorflow:5 out of the last 7 calls to <function Model.make_predict_function.<locals>.predict_function at 0x000001E9AB1A68B0> triggered tf.function retracing. Tracing is expensive and the excessive number of tracings could be due to (1) creating @tf.function repeatedly in a loop, (2) passing tensors with different shapes, (3) passing Python objects instead of tensors. For (1), please define your @tf.function outside of the loop. For (2), @tf.function has reduce_retracing=True option that can avoid unnecessary retracing. For (3), please refer to https://www.tensorflow.org/guide/function#controlling_retracing and https://www.tensorflow.org/api_docs/python/tf/function for  more details.\n",
            "1/1 [==============================] - 1s 718ms/step\n",
            "WARNING:tensorflow:6 out of the last 8 calls to <function Model.make_predict_function.<locals>.predict_function at 0x000001E9A9A63310> triggered tf.function retracing. Tracing is expensive and the excessive number of tracings could be due to (1) creating @tf.function repeatedly in a loop, (2) passing tensors with different shapes, (3) passing Python objects instead of tensors. For (1), please define your @tf.function outside of the loop. For (2), @tf.function has reduce_retracing=True option that can avoid unnecessary retracing. For (3), please refer to https://www.tensorflow.org/guide/function#controlling_retracing and https://www.tensorflow.org/api_docs/python/tf/function for  more details.\n",
            "1/1 [==============================] - 1s 716ms/step\n",
            "challenge_score=nan,  auroc_outcomes=nan, auprc_outcomes=nan,accuracy_outcomes=1.0, f_measure_outcomes=1.0, mse_cpcs=3.7356446880000647, mae_cpcs=1.4898695945739746\n",
            "Fold 1:\n",
            "Inception model built.\n",
            "Inception model built.\n",
            "Epoch 1/2\n",
            "8/8 [==============================] - 9s 504ms/step - loss: 0.2853 - val_loss: 0.0944\n",
            "Epoch 2/2\n",
            "8/8 [==============================] - 3s 394ms/step - loss: 0.1005 - val_loss: 4.9607e-08\n",
            "Epoch 1/2\n",
            "8/8 [==============================] - 9s 492ms/step - loss: 1.4594 - val_loss: 806.6055\n",
            "Epoch 2/2\n",
            "1/8 [==>...........................] - ETA: 2s - loss: 0.2502"
          ]
        },
        {
          "ename": "KeyboardInterrupt",
          "evalue": "",
          "output_type": "error",
          "traceback": [
            "\u001b[1;31m---------------------------------------------------------------------------\u001b[0m",
            "\u001b[1;31mKeyboardInterrupt\u001b[0m                         Traceback (most recent call last)",
            "Cell \u001b[1;32mIn[96], line 1\u001b[0m\n\u001b[1;32m----> 1\u001b[0m challenge_score, auroc_outcomes, auprc_outcomes, accuracy_outcomes, f_measure_outcomes, mse_cpcs, mae_cpcs \u001b[39m=\u001b[39m cross_validate_model(\u001b[39m\"\u001b[39;49m\u001b[39m./training_subset/\u001b[39;49m\u001b[39m\"\u001b[39;49m,\u001b[39m5\u001b[39;49m,\u001b[39m1\u001b[39;49m)\n",
            "File \u001b[1;32mc:\\Users\\Bjorn\\Documents\\Github\\EEG-predict-cardiac-arrest-recovery\\team_code.py:263\u001b[0m, in \u001b[0;36mcross_validate_model\u001b[1;34m(data_folder, num_folds, verbose)\u001b[0m\n\u001b[0;32m    257\u001b[0m \u001b[39m#cpc_model.fit(x=X_train, y=cpcs_train.ravel(), epochs=EPOCHS, batch_size=BATCH_SIZE)\u001b[39;00m\n\u001b[0;32m    260\u001b[0m outcome_model\u001b[39m.\u001b[39mfit(tf_outcome_train, epochs\u001b[39m=\u001b[39mEPOCHS, batch_size\u001b[39m=\u001b[39mBATCH_SIZE, validation_data\u001b[39m=\u001b[39mtf_outcome_val)\n\u001b[1;32m--> 263\u001b[0m cpc_model\u001b[39m.\u001b[39;49mfit(tf_cpcs_train, epochs\u001b[39m=\u001b[39;49mEPOCHS, batch_size\u001b[39m=\u001b[39;49mBATCH_SIZE, validation_data\u001b[39m=\u001b[39;49mtf_cpcs_val)\n\u001b[0;32m    265\u001b[0m \u001b[39m# Apply model on test fold\u001b[39;00m\n\u001b[0;32m    266\u001b[0m \u001b[39m# Impute missing data.\u001b[39;00m\n\u001b[0;32m    267\u001b[0m \u001b[39m#X_test = imputer.transform(X_test)\u001b[39;00m\n\u001b[0;32m    268\u001b[0m \n\u001b[0;32m    269\u001b[0m \u001b[39m# Apply models to features.\u001b[39;00m\n\u001b[0;32m    270\u001b[0m outcome_hat_probability \u001b[39m=\u001b[39m outcome_model\u001b[39m.\u001b[39mpredict(X_test)\n",
            "File \u001b[1;32mc:\\Users\\Bjorn\\anaconda3\\lib\\site-packages\\keras\\utils\\traceback_utils.py:64\u001b[0m, in \u001b[0;36mfilter_traceback.<locals>.error_handler\u001b[1;34m(*args, **kwargs)\u001b[0m\n\u001b[0;32m     62\u001b[0m filtered_tb \u001b[39m=\u001b[39m \u001b[39mNone\u001b[39;00m\n\u001b[0;32m     63\u001b[0m \u001b[39mtry\u001b[39;00m:\n\u001b[1;32m---> 64\u001b[0m   \u001b[39mreturn\u001b[39;00m fn(\u001b[39m*\u001b[39;49margs, \u001b[39m*\u001b[39;49m\u001b[39m*\u001b[39;49mkwargs)\n\u001b[0;32m     65\u001b[0m \u001b[39mexcept\u001b[39;00m \u001b[39mException\u001b[39;00m \u001b[39mas\u001b[39;00m e:  \u001b[39m# pylint: disable=broad-except\u001b[39;00m\n\u001b[0;32m     66\u001b[0m   filtered_tb \u001b[39m=\u001b[39m _process_traceback_frames(e\u001b[39m.\u001b[39m__traceback__)\n",
            "File \u001b[1;32mc:\\Users\\Bjorn\\anaconda3\\lib\\site-packages\\keras\\engine\\training.py:1409\u001b[0m, in \u001b[0;36mModel.fit\u001b[1;34m(self, x, y, batch_size, epochs, verbose, callbacks, validation_split, validation_data, shuffle, class_weight, sample_weight, initial_epoch, steps_per_epoch, validation_steps, validation_batch_size, validation_freq, max_queue_size, workers, use_multiprocessing)\u001b[0m\n\u001b[0;32m   1402\u001b[0m \u001b[39mwith\u001b[39;00m tf\u001b[39m.\u001b[39mprofiler\u001b[39m.\u001b[39mexperimental\u001b[39m.\u001b[39mTrace(\n\u001b[0;32m   1403\u001b[0m     \u001b[39m'\u001b[39m\u001b[39mtrain\u001b[39m\u001b[39m'\u001b[39m,\n\u001b[0;32m   1404\u001b[0m     epoch_num\u001b[39m=\u001b[39mepoch,\n\u001b[0;32m   1405\u001b[0m     step_num\u001b[39m=\u001b[39mstep,\n\u001b[0;32m   1406\u001b[0m     batch_size\u001b[39m=\u001b[39mbatch_size,\n\u001b[0;32m   1407\u001b[0m     _r\u001b[39m=\u001b[39m\u001b[39m1\u001b[39m):\n\u001b[0;32m   1408\u001b[0m   callbacks\u001b[39m.\u001b[39mon_train_batch_begin(step)\n\u001b[1;32m-> 1409\u001b[0m   tmp_logs \u001b[39m=\u001b[39m \u001b[39mself\u001b[39;49m\u001b[39m.\u001b[39;49mtrain_function(iterator)\n\u001b[0;32m   1410\u001b[0m   \u001b[39mif\u001b[39;00m data_handler\u001b[39m.\u001b[39mshould_sync:\n\u001b[0;32m   1411\u001b[0m     context\u001b[39m.\u001b[39masync_wait()\n",
            "File \u001b[1;32mc:\\Users\\Bjorn\\anaconda3\\lib\\site-packages\\tensorflow\\python\\util\\traceback_utils.py:150\u001b[0m, in \u001b[0;36mfilter_traceback.<locals>.error_handler\u001b[1;34m(*args, **kwargs)\u001b[0m\n\u001b[0;32m    148\u001b[0m filtered_tb \u001b[39m=\u001b[39m \u001b[39mNone\u001b[39;00m\n\u001b[0;32m    149\u001b[0m \u001b[39mtry\u001b[39;00m:\n\u001b[1;32m--> 150\u001b[0m   \u001b[39mreturn\u001b[39;00m fn(\u001b[39m*\u001b[39;49margs, \u001b[39m*\u001b[39;49m\u001b[39m*\u001b[39;49mkwargs)\n\u001b[0;32m    151\u001b[0m \u001b[39mexcept\u001b[39;00m \u001b[39mException\u001b[39;00m \u001b[39mas\u001b[39;00m e:\n\u001b[0;32m    152\u001b[0m   filtered_tb \u001b[39m=\u001b[39m _process_traceback_frames(e\u001b[39m.\u001b[39m__traceback__)\n",
            "File \u001b[1;32mc:\\Users\\Bjorn\\anaconda3\\lib\\site-packages\\tensorflow\\python\\eager\\def_function.py:915\u001b[0m, in \u001b[0;36mFunction.__call__\u001b[1;34m(self, *args, **kwds)\u001b[0m\n\u001b[0;32m    912\u001b[0m compiler \u001b[39m=\u001b[39m \u001b[39m\"\u001b[39m\u001b[39mxla\u001b[39m\u001b[39m\"\u001b[39m \u001b[39mif\u001b[39;00m \u001b[39mself\u001b[39m\u001b[39m.\u001b[39m_jit_compile \u001b[39melse\u001b[39;00m \u001b[39m\"\u001b[39m\u001b[39mnonXla\u001b[39m\u001b[39m\"\u001b[39m\n\u001b[0;32m    914\u001b[0m \u001b[39mwith\u001b[39;00m OptionalXlaContext(\u001b[39mself\u001b[39m\u001b[39m.\u001b[39m_jit_compile):\n\u001b[1;32m--> 915\u001b[0m   result \u001b[39m=\u001b[39m \u001b[39mself\u001b[39;49m\u001b[39m.\u001b[39;49m_call(\u001b[39m*\u001b[39;49margs, \u001b[39m*\u001b[39;49m\u001b[39m*\u001b[39;49mkwds)\n\u001b[0;32m    917\u001b[0m new_tracing_count \u001b[39m=\u001b[39m \u001b[39mself\u001b[39m\u001b[39m.\u001b[39mexperimental_get_tracing_count()\n\u001b[0;32m    918\u001b[0m without_tracing \u001b[39m=\u001b[39m (tracing_count \u001b[39m==\u001b[39m new_tracing_count)\n",
            "File \u001b[1;32mc:\\Users\\Bjorn\\anaconda3\\lib\\site-packages\\tensorflow\\python\\eager\\def_function.py:947\u001b[0m, in \u001b[0;36mFunction._call\u001b[1;34m(self, *args, **kwds)\u001b[0m\n\u001b[0;32m    944\u001b[0m   \u001b[39mself\u001b[39m\u001b[39m.\u001b[39m_lock\u001b[39m.\u001b[39mrelease()\n\u001b[0;32m    945\u001b[0m   \u001b[39m# In this case we have created variables on the first call, so we run the\u001b[39;00m\n\u001b[0;32m    946\u001b[0m   \u001b[39m# defunned version which is guaranteed to never create variables.\u001b[39;00m\n\u001b[1;32m--> 947\u001b[0m   \u001b[39mreturn\u001b[39;00m \u001b[39mself\u001b[39;49m\u001b[39m.\u001b[39;49m_stateless_fn(\u001b[39m*\u001b[39;49margs, \u001b[39m*\u001b[39;49m\u001b[39m*\u001b[39;49mkwds)  \u001b[39m# pylint: disable=not-callable\u001b[39;00m\n\u001b[0;32m    948\u001b[0m \u001b[39melif\u001b[39;00m \u001b[39mself\u001b[39m\u001b[39m.\u001b[39m_stateful_fn \u001b[39mis\u001b[39;00m \u001b[39mnot\u001b[39;00m \u001b[39mNone\u001b[39;00m:\n\u001b[0;32m    949\u001b[0m   \u001b[39m# Release the lock early so that multiple threads can perform the call\u001b[39;00m\n\u001b[0;32m    950\u001b[0m   \u001b[39m# in parallel.\u001b[39;00m\n\u001b[0;32m    951\u001b[0m   \u001b[39mself\u001b[39m\u001b[39m.\u001b[39m_lock\u001b[39m.\u001b[39mrelease()\n",
            "File \u001b[1;32mc:\\Users\\Bjorn\\anaconda3\\lib\\site-packages\\tensorflow\\python\\eager\\function.py:2453\u001b[0m, in \u001b[0;36mFunction.__call__\u001b[1;34m(self, *args, **kwargs)\u001b[0m\n\u001b[0;32m   2450\u001b[0m \u001b[39mwith\u001b[39;00m \u001b[39mself\u001b[39m\u001b[39m.\u001b[39m_lock:\n\u001b[0;32m   2451\u001b[0m   (graph_function,\n\u001b[0;32m   2452\u001b[0m    filtered_flat_args) \u001b[39m=\u001b[39m \u001b[39mself\u001b[39m\u001b[39m.\u001b[39m_maybe_define_function(args, kwargs)\n\u001b[1;32m-> 2453\u001b[0m \u001b[39mreturn\u001b[39;00m graph_function\u001b[39m.\u001b[39;49m_call_flat(\n\u001b[0;32m   2454\u001b[0m     filtered_flat_args, captured_inputs\u001b[39m=\u001b[39;49mgraph_function\u001b[39m.\u001b[39;49mcaptured_inputs)\n",
            "File \u001b[1;32mc:\\Users\\Bjorn\\anaconda3\\lib\\site-packages\\tensorflow\\python\\eager\\function.py:1860\u001b[0m, in \u001b[0;36mConcreteFunction._call_flat\u001b[1;34m(self, args, captured_inputs, cancellation_manager)\u001b[0m\n\u001b[0;32m   1856\u001b[0m possible_gradient_type \u001b[39m=\u001b[39m gradients_util\u001b[39m.\u001b[39mPossibleTapeGradientTypes(args)\n\u001b[0;32m   1857\u001b[0m \u001b[39mif\u001b[39;00m (possible_gradient_type \u001b[39m==\u001b[39m gradients_util\u001b[39m.\u001b[39mPOSSIBLE_GRADIENT_TYPES_NONE\n\u001b[0;32m   1858\u001b[0m     \u001b[39mand\u001b[39;00m executing_eagerly):\n\u001b[0;32m   1859\u001b[0m   \u001b[39m# No tape is watching; skip to running the function.\u001b[39;00m\n\u001b[1;32m-> 1860\u001b[0m   \u001b[39mreturn\u001b[39;00m \u001b[39mself\u001b[39m\u001b[39m.\u001b[39m_build_call_outputs(\u001b[39mself\u001b[39;49m\u001b[39m.\u001b[39;49m_inference_function\u001b[39m.\u001b[39;49mcall(\n\u001b[0;32m   1861\u001b[0m       ctx, args, cancellation_manager\u001b[39m=\u001b[39;49mcancellation_manager))\n\u001b[0;32m   1862\u001b[0m forward_backward \u001b[39m=\u001b[39m \u001b[39mself\u001b[39m\u001b[39m.\u001b[39m_select_forward_and_backward_functions(\n\u001b[0;32m   1863\u001b[0m     args,\n\u001b[0;32m   1864\u001b[0m     possible_gradient_type,\n\u001b[0;32m   1865\u001b[0m     executing_eagerly)\n\u001b[0;32m   1866\u001b[0m forward_function, args_with_tangents \u001b[39m=\u001b[39m forward_backward\u001b[39m.\u001b[39mforward()\n",
            "File \u001b[1;32mc:\\Users\\Bjorn\\anaconda3\\lib\\site-packages\\tensorflow\\python\\eager\\function.py:497\u001b[0m, in \u001b[0;36m_EagerDefinedFunction.call\u001b[1;34m(self, ctx, args, cancellation_manager)\u001b[0m\n\u001b[0;32m    495\u001b[0m \u001b[39mwith\u001b[39;00m _InterpolateFunctionError(\u001b[39mself\u001b[39m):\n\u001b[0;32m    496\u001b[0m   \u001b[39mif\u001b[39;00m cancellation_manager \u001b[39mis\u001b[39;00m \u001b[39mNone\u001b[39;00m:\n\u001b[1;32m--> 497\u001b[0m     outputs \u001b[39m=\u001b[39m execute\u001b[39m.\u001b[39;49mexecute(\n\u001b[0;32m    498\u001b[0m         \u001b[39mstr\u001b[39;49m(\u001b[39mself\u001b[39;49m\u001b[39m.\u001b[39;49msignature\u001b[39m.\u001b[39;49mname),\n\u001b[0;32m    499\u001b[0m         num_outputs\u001b[39m=\u001b[39;49m\u001b[39mself\u001b[39;49m\u001b[39m.\u001b[39;49m_num_outputs,\n\u001b[0;32m    500\u001b[0m         inputs\u001b[39m=\u001b[39;49margs,\n\u001b[0;32m    501\u001b[0m         attrs\u001b[39m=\u001b[39;49mattrs,\n\u001b[0;32m    502\u001b[0m         ctx\u001b[39m=\u001b[39;49mctx)\n\u001b[0;32m    503\u001b[0m   \u001b[39melse\u001b[39;00m:\n\u001b[0;32m    504\u001b[0m     outputs \u001b[39m=\u001b[39m execute\u001b[39m.\u001b[39mexecute_with_cancellation(\n\u001b[0;32m    505\u001b[0m         \u001b[39mstr\u001b[39m(\u001b[39mself\u001b[39m\u001b[39m.\u001b[39msignature\u001b[39m.\u001b[39mname),\n\u001b[0;32m    506\u001b[0m         num_outputs\u001b[39m=\u001b[39m\u001b[39mself\u001b[39m\u001b[39m.\u001b[39m_num_outputs,\n\u001b[1;32m   (...)\u001b[0m\n\u001b[0;32m    509\u001b[0m         ctx\u001b[39m=\u001b[39mctx,\n\u001b[0;32m    510\u001b[0m         cancellation_manager\u001b[39m=\u001b[39mcancellation_manager)\n",
            "File \u001b[1;32mc:\\Users\\Bjorn\\anaconda3\\lib\\site-packages\\tensorflow\\python\\eager\\execute.py:54\u001b[0m, in \u001b[0;36mquick_execute\u001b[1;34m(op_name, num_outputs, inputs, attrs, ctx, name)\u001b[0m\n\u001b[0;32m     52\u001b[0m \u001b[39mtry\u001b[39;00m:\n\u001b[0;32m     53\u001b[0m   ctx\u001b[39m.\u001b[39mensure_initialized()\n\u001b[1;32m---> 54\u001b[0m   tensors \u001b[39m=\u001b[39m pywrap_tfe\u001b[39m.\u001b[39;49mTFE_Py_Execute(ctx\u001b[39m.\u001b[39;49m_handle, device_name, op_name,\n\u001b[0;32m     55\u001b[0m                                       inputs, attrs, num_outputs)\n\u001b[0;32m     56\u001b[0m \u001b[39mexcept\u001b[39;00m core\u001b[39m.\u001b[39m_NotOkStatusException \u001b[39mas\u001b[39;00m e:\n\u001b[0;32m     57\u001b[0m   \u001b[39mif\u001b[39;00m name \u001b[39mis\u001b[39;00m \u001b[39mnot\u001b[39;00m \u001b[39mNone\u001b[39;00m:\n",
            "\u001b[1;31mKeyboardInterrupt\u001b[0m: "
          ]
        }
      ],
      "source": [
        "challenge_score, auroc_outcomes, auprc_outcomes, accuracy_outcomes, f_measure_outcomes, mse_cpcs, mae_cpcs = cross_validate_model(\"./training_subset/\",5,1)"
      ]
    },
    {
      "cell_type": "code",
      "execution_count": null,
      "metadata": {},
      "outputs": [],
      "source": []
    }
  ],
  "metadata": {
    "colab": {
      "provenance": []
    },
    "kernelspec": {
      "display_name": "Python 3",
      "name": "python3"
    },
    "language_info": {
      "codemirror_mode": {
        "name": "ipython",
        "version": 3
      },
      "file_extension": ".py",
      "mimetype": "text/x-python",
      "name": "python",
      "nbconvert_exporter": "python",
      "pygments_lexer": "ipython3",
      "version": "3.8.5"
    }
  },
  "nbformat": 4,
  "nbformat_minor": 0
}
