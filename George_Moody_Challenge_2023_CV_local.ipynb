{
  "cells": [
    {
      "cell_type": "code",
      "execution_count": 1,
      "metadata": {
        "colab": {
          "base_uri": "https://localhost:8080/"
        },
        "id": "q7rpHQfvpZyg",
        "outputId": "e978ef79-f26b-4351-a6e1-44383c0c815f"
      },
      "outputs": [
        {
          "name": "stdout",
          "output_type": "stream",
          "text": [
            "Requirement already satisfied: wget in c:\\users\\bjorn\\anaconda3\\lib\\site-packages (3.2)\n",
            "Requirement already satisfied: wfdb in c:\\users\\bjorn\\anaconda3\\lib\\site-packages (3.1.1)\n",
            "Requirement already satisfied: neurokit2 in c:\\users\\bjorn\\anaconda3\\lib\\site-packages (0.0.42)\n",
            "Requirement already satisfied: mne in c:\\users\\bjorn\\anaconda3\\lib\\site-packages (0.21.2)\n",
            "Requirement already satisfied: certifi>=2016.8.2 in c:\\users\\bjorn\\anaconda3\\lib\\site-packages (from wfdb) (2022.12.7)\n",
            "Requirement already satisfied: matplotlib>=2.0.0 in c:\\users\\bjorn\\anaconda3\\lib\\site-packages (from wfdb) (3.6.2)\n",
            "Requirement already satisfied: pyparsing>=2.0.4 in c:\\users\\bjorn\\anaconda3\\lib\\site-packages (from wfdb) (3.0.9)\n",
            "Requirement already satisfied: threadpoolctl>=1.0.0 in c:\\users\\bjorn\\anaconda3\\lib\\site-packages (from wfdb) (2.2.0)\n",
            "Requirement already satisfied: scipy>=0.17.0 in c:\\users\\bjorn\\anaconda3\\lib\\site-packages (from wfdb) (1.9.3)\n",
            "Requirement already satisfied: urllib3>=1.22 in c:\\users\\bjorn\\anaconda3\\lib\\site-packages (from wfdb) (1.26.14)\n",
            "Requirement already satisfied: pytz>=2018.3 in c:\\users\\bjorn\\anaconda3\\lib\\site-packages (from wfdb) (2022.7)\n",
            "Requirement already satisfied: scikit-learn>=0.18 in c:\\users\\bjorn\\anaconda3\\lib\\site-packages (from wfdb) (1.2.0)\n",
            "Requirement already satisfied: kiwisolver>=1.1.0 in c:\\users\\bjorn\\anaconda3\\lib\\site-packages (from wfdb) (1.4.4)\n",
            "Requirement already satisfied: idna>=2.2 in c:\\users\\bjorn\\anaconda3\\lib\\site-packages (from wfdb) (3.4)\n",
            "Requirement already satisfied: chardet>=3.0.0 in c:\\users\\bjorn\\anaconda3\\lib\\site-packages (from wfdb) (4.0.0)\n",
            "Requirement already satisfied: cycler>=0.10.0 in c:\\users\\bjorn\\anaconda3\\lib\\site-packages (from wfdb) (0.11.0)\n",
            "Requirement already satisfied: joblib>=0.11 in c:\\users\\bjorn\\anaconda3\\lib\\site-packages (from wfdb) (1.1.1)\n",
            "Requirement already satisfied: pandas>=0.17.0 in c:\\users\\bjorn\\anaconda3\\lib\\site-packages (from wfdb) (1.5.2)\n",
            "Requirement already satisfied: numpy>=1.10.1 in c:\\users\\bjorn\\anaconda3\\lib\\site-packages (from wfdb) (1.23.5)\n",
            "Requirement already satisfied: python-dateutil>=2.4.2 in c:\\users\\bjorn\\anaconda3\\lib\\site-packages (from wfdb) (2.8.2)\n",
            "Requirement already satisfied: six>=0.9.0 in c:\\users\\bjorn\\anaconda3\\lib\\site-packages (from wfdb) (1.16.0)\n",
            "Requirement already satisfied: sklearn>=0.0 in c:\\users\\bjorn\\anaconda3\\lib\\site-packages (from wfdb) (0.0)\n",
            "Requirement already satisfied: requests>=2.8.1 in c:\\users\\bjorn\\anaconda3\\lib\\site-packages (from wfdb) (2.28.1)\n",
            "Requirement already satisfied: nose>=1.3.7 in c:\\users\\bjorn\\anaconda3\\lib\\site-packages (from wfdb) (1.3.7)\n",
            "Requirement already satisfied: pillow>=6.2.0 in c:\\users\\bjorn\\anaconda3\\lib\\site-packages (from matplotlib>=2.0.0->wfdb) (9.3.0)\n",
            "Requirement already satisfied: contourpy>=1.0.1 in c:\\users\\bjorn\\anaconda3\\lib\\site-packages (from matplotlib>=2.0.0->wfdb) (1.0.5)\n",
            "Requirement already satisfied: fonttools>=4.22.0 in c:\\users\\bjorn\\anaconda3\\lib\\site-packages (from matplotlib>=2.0.0->wfdb) (4.25.0)\n",
            "Requirement already satisfied: packaging>=20.0 in c:\\users\\bjorn\\anaconda3\\lib\\site-packages (from matplotlib>=2.0.0->wfdb) (22.0)\n",
            "Requirement already satisfied: charset-normalizer<3,>=2 in c:\\users\\bjorn\\anaconda3\\lib\\site-packages (from requests>=2.8.1->wfdb) (2.0.4)\n"
          ]
        }
      ],
      "source": [
        "!pip install wget wfdb neurokit2 mne"
      ]
    },
    {
      "cell_type": "code",
      "execution_count": 5,
      "metadata": {
        "id": "q0sWcdDJkCO5"
      },
      "outputs": [],
      "source": [
        "from evaluate_model import *\n",
        "from team_code import *\n",
        "from run_model import *"
      ]
    },
    {
      "cell_type": "code",
      "execution_count": 6,
      "metadata": {
        "id": "quSp-rnhvG4T"
      },
      "outputs": [],
      "source": [
        "import os\n",
        "import zipfile\n",
        "import numpy as np\n",
        "import pandas as pd\n",
        "import matplotlib.pyplot as plt\n",
        "import seaborn as sns\n",
        "import matplotlib\n",
        "\n",
        "font = {'size'   : 16}\n",
        "\n",
        "matplotlib.rc('font', **font)"
      ]
    },
    {
      "cell_type": "code",
      "execution_count": 10,
      "metadata": {
        "colab": {
          "base_uri": "https://localhost:8080/"
        },
        "id": "Y5HrNIUQGJFp",
        "outputId": "2ff62c4f-2b61-48d2-bc8c-41b3898356e8"
      },
      "outputs": [
        {
          "name": "stdout",
          "output_type": "stream",
          "text": [
            "Finding the Challenge data...\n",
            "Extracting features and labels from the Challenge data...\n",
            "Split the data into 5 cross-validation folds\n",
            "Training the Challenge models on the Challenge data...\n",
            "Fold 0:\n"
          ]
        },
        {
          "name": "stderr",
          "output_type": "stream",
          "text": [
            "c:\\Users\\Bjorn\\anaconda3\\lib\\site-packages\\sklearn\\model_selection\\_split.py:700: UserWarning: The least populated class in y has only 1 members, which is less than n_splits=5.\n",
            "  warnings.warn(\n"
          ]
        },
        {
          "name": "stdout",
          "output_type": "stream",
          "text": [
            "outcome shape = ()\n",
            "outcome_hat_probability shape = ()\n",
            "cpc_hat shape = ()\n"
          ]
        },
        {
          "ename": "TypeError",
          "evalue": "object of type 'numpy.float64' has no len()",
          "output_type": "error",
          "traceback": [
            "\u001b[1;31m---------------------------------------------------------------------------\u001b[0m",
            "\u001b[1;31mTypeError\u001b[0m                                 Traceback (most recent call last)",
            "Cell \u001b[1;32mIn[10], line 1\u001b[0m\n\u001b[1;32m----> 1\u001b[0m challenge_score, auroc_outcomes, auprc_outcomes, accuracy_outcomes, f_measure_outcomes, mse_cpcs, mae_cpcs \u001b[39m=\u001b[39m cross_validate_model(\u001b[39m\"\u001b[39;49m\u001b[39m./training_subset/\u001b[39;49m\u001b[39m\"\u001b[39;49m,\u001b[39m5\u001b[39;49m,\u001b[39m1\u001b[39;49m)\n",
            "File \u001b[1;32mc:\\Users\\Bjorn\\Documents\\Github\\EEG-predict-cardiac-arrest-recovery\\team_code.py:236\u001b[0m, in \u001b[0;36mcross_validate_model\u001b[1;34m(data_folder, num_folds, verbose)\u001b[0m\n\u001b[0;32m    233\u001b[0m \u001b[39m# Ensure that the CPC score is between (or equal to) 1 and 5.\u001b[39;00m\n\u001b[0;32m    234\u001b[0m cpc_hat \u001b[39m=\u001b[39m np\u001b[39m.\u001b[39mclip(cpc_hat, \u001b[39m1\u001b[39m, \u001b[39m5\u001b[39m)\n\u001b[1;32m--> 236\u001b[0m challenge_score[i] \u001b[39m=\u001b[39m compute_challenge_score(outcomes_test,outcome_hat_probability)\n\u001b[0;32m    237\u001b[0m auroc_outcomes[i], auprc_outcomes[i] \u001b[39m=\u001b[39m compute_auc(outcomes_test,outcome_hat_probability)\n\u001b[0;32m    238\u001b[0m accuracy_outcomes[i] \u001b[39m=\u001b[39m compute_accuracy(outcomes_test, outcome_hat)\n",
            "File \u001b[1;32mc:\\Users\\Bjorn\\Documents\\Github\\EEG-predict-cardiac-arrest-recovery\\evaluate_model.py:38\u001b[0m, in \u001b[0;36mcompute_challenge_score\u001b[1;34m(labels, outputs)\u001b[0m\n\u001b[0;32m     37\u001b[0m \u001b[39mdef\u001b[39;00m \u001b[39mcompute_challenge_score\u001b[39m(labels, outputs):\n\u001b[1;32m---> 38\u001b[0m     \u001b[39massert\u001b[39;00m \u001b[39mlen\u001b[39m(labels) \u001b[39m==\u001b[39m \u001b[39mlen\u001b[39;49m(outputs)\n\u001b[0;32m     39\u001b[0m     num_instances \u001b[39m=\u001b[39m \u001b[39mlen\u001b[39m(labels)\n\u001b[0;32m     41\u001b[0m     \u001b[39m# Use the unique output values as the thresholds for the positive and negative classes.\u001b[39;00m\n",
            "\u001b[1;31mTypeError\u001b[0m: object of type 'numpy.float64' has no len()"
          ]
        }
      ],
      "source": [
        "challenge_score, auroc_outcomes, auprc_outcomes, accuracy_outcomes, f_measure_outcomes, mse_cpcs, mae_cpcs = cross_validate_model(\"./training_subset/\",5,1)"
      ]
    },
    {
      "cell_type": "code",
      "execution_count": null,
      "metadata": {},
      "outputs": [],
      "source": []
    }
  ],
  "metadata": {
    "colab": {
      "provenance": []
    },
    "kernelspec": {
      "display_name": "Python 3",
      "name": "python3"
    },
    "language_info": {
      "codemirror_mode": {
        "name": "ipython",
        "version": 3
      },
      "file_extension": ".py",
      "mimetype": "text/x-python",
      "name": "python",
      "nbconvert_exporter": "python",
      "pygments_lexer": "ipython3",
      "version": "3.8.5"
    }
  },
  "nbformat": 4,
  "nbformat_minor": 0
}
